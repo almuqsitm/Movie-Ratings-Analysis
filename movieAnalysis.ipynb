{
 "cells": [
  {
   "cell_type": "code",
   "execution_count": 69,
   "id": "6646e27c",
   "metadata": {},
   "outputs": [],
   "source": [
    "import pandas as pd\n",
    "import numpy as np\n",
    "import plotly.express as px\n",
    "import nbformat\n"
   ]
  },
  {
   "cell_type": "code",
   "execution_count": 70,
   "id": "96d6a2c7",
   "metadata": {},
   "outputs": [
    {
     "data": {
      "text/html": [
       "<div>\n",
       "<style scoped>\n",
       "    .dataframe tbody tr th:only-of-type {\n",
       "        vertical-align: middle;\n",
       "    }\n",
       "\n",
       "    .dataframe tbody tr th {\n",
       "        vertical-align: top;\n",
       "    }\n",
       "\n",
       "    .dataframe thead th {\n",
       "        text-align: right;\n",
       "    }\n",
       "</style>\n",
       "<table border=\"1\" class=\"dataframe\">\n",
       "  <thead>\n",
       "    <tr style=\"text-align: right;\">\n",
       "      <th></th>\n",
       "      <th>user_id</th>\n",
       "      <th>movie_id</th>\n",
       "      <th>rating</th>\n",
       "      <th>timestamp</th>\n",
       "      <th>age</th>\n",
       "      <th>gender</th>\n",
       "      <th>occupation</th>\n",
       "      <th>zip_code</th>\n",
       "      <th>title</th>\n",
       "      <th>year</th>\n",
       "      <th>decade</th>\n",
       "      <th>genres</th>\n",
       "      <th>rating_year</th>\n",
       "    </tr>\n",
       "  </thead>\n",
       "  <tbody>\n",
       "    <tr>\n",
       "      <th>0</th>\n",
       "      <td>196</td>\n",
       "      <td>242</td>\n",
       "      <td>3</td>\n",
       "      <td>1997-12-04 15:55:49</td>\n",
       "      <td>49</td>\n",
       "      <td>M</td>\n",
       "      <td>writer</td>\n",
       "      <td>55105</td>\n",
       "      <td>Kolya (1996)</td>\n",
       "      <td>1996.0</td>\n",
       "      <td>1990.0</td>\n",
       "      <td>Comedy</td>\n",
       "      <td>1997</td>\n",
       "    </tr>\n",
       "    <tr>\n",
       "      <th>1</th>\n",
       "      <td>186</td>\n",
       "      <td>302</td>\n",
       "      <td>3</td>\n",
       "      <td>1998-04-04 19:22:22</td>\n",
       "      <td>39</td>\n",
       "      <td>F</td>\n",
       "      <td>executive</td>\n",
       "      <td>00000</td>\n",
       "      <td>L.A. Confidential (1997)</td>\n",
       "      <td>1997.0</td>\n",
       "      <td>1990.0</td>\n",
       "      <td>Crime</td>\n",
       "      <td>1998</td>\n",
       "    </tr>\n",
       "    <tr>\n",
       "      <th>2</th>\n",
       "      <td>186</td>\n",
       "      <td>302</td>\n",
       "      <td>3</td>\n",
       "      <td>1998-04-04 19:22:22</td>\n",
       "      <td>39</td>\n",
       "      <td>F</td>\n",
       "      <td>executive</td>\n",
       "      <td>00000</td>\n",
       "      <td>L.A. Confidential (1997)</td>\n",
       "      <td>1997.0</td>\n",
       "      <td>1990.0</td>\n",
       "      <td>Film-Noir</td>\n",
       "      <td>1998</td>\n",
       "    </tr>\n",
       "    <tr>\n",
       "      <th>3</th>\n",
       "      <td>186</td>\n",
       "      <td>302</td>\n",
       "      <td>3</td>\n",
       "      <td>1998-04-04 19:22:22</td>\n",
       "      <td>39</td>\n",
       "      <td>F</td>\n",
       "      <td>executive</td>\n",
       "      <td>00000</td>\n",
       "      <td>L.A. Confidential (1997)</td>\n",
       "      <td>1997.0</td>\n",
       "      <td>1990.0</td>\n",
       "      <td>Mystery</td>\n",
       "      <td>1998</td>\n",
       "    </tr>\n",
       "    <tr>\n",
       "      <th>4</th>\n",
       "      <td>186</td>\n",
       "      <td>302</td>\n",
       "      <td>3</td>\n",
       "      <td>1998-04-04 19:22:22</td>\n",
       "      <td>39</td>\n",
       "      <td>F</td>\n",
       "      <td>executive</td>\n",
       "      <td>00000</td>\n",
       "      <td>L.A. Confidential (1997)</td>\n",
       "      <td>1997.0</td>\n",
       "      <td>1990.0</td>\n",
       "      <td>Thriller</td>\n",
       "      <td>1998</td>\n",
       "    </tr>\n",
       "    <tr>\n",
       "      <th>...</th>\n",
       "      <td>...</td>\n",
       "      <td>...</td>\n",
       "      <td>...</td>\n",
       "      <td>...</td>\n",
       "      <td>...</td>\n",
       "      <td>...</td>\n",
       "      <td>...</td>\n",
       "      <td>...</td>\n",
       "      <td>...</td>\n",
       "      <td>...</td>\n",
       "      <td>...</td>\n",
       "      <td>...</td>\n",
       "      <td>...</td>\n",
       "    </tr>\n",
       "    <tr>\n",
       "      <th>212590</th>\n",
       "      <td>716</td>\n",
       "      <td>204</td>\n",
       "      <td>5</td>\n",
       "      <td>1997-11-17 19:39:03</td>\n",
       "      <td>36</td>\n",
       "      <td>F</td>\n",
       "      <td>administrator</td>\n",
       "      <td>44265</td>\n",
       "      <td>Back to the Future (1985)</td>\n",
       "      <td>1985.0</td>\n",
       "      <td>1980.0</td>\n",
       "      <td>Sci-Fi</td>\n",
       "      <td>1997</td>\n",
       "    </tr>\n",
       "    <tr>\n",
       "      <th>212591</th>\n",
       "      <td>276</td>\n",
       "      <td>1090</td>\n",
       "      <td>1</td>\n",
       "      <td>1997-09-20 22:49:55</td>\n",
       "      <td>21</td>\n",
       "      <td>M</td>\n",
       "      <td>student</td>\n",
       "      <td>95064</td>\n",
       "      <td>Sliver (1993)</td>\n",
       "      <td>1993.0</td>\n",
       "      <td>1990.0</td>\n",
       "      <td>Thriller</td>\n",
       "      <td>1997</td>\n",
       "    </tr>\n",
       "    <tr>\n",
       "      <th>212592</th>\n",
       "      <td>13</td>\n",
       "      <td>225</td>\n",
       "      <td>2</td>\n",
       "      <td>1997-12-17 22:52:36</td>\n",
       "      <td>47</td>\n",
       "      <td>M</td>\n",
       "      <td>educator</td>\n",
       "      <td>29206</td>\n",
       "      <td>101 Dalmatians (1996)</td>\n",
       "      <td>1996.0</td>\n",
       "      <td>1990.0</td>\n",
       "      <td>Children</td>\n",
       "      <td>1997</td>\n",
       "    </tr>\n",
       "    <tr>\n",
       "      <th>212593</th>\n",
       "      <td>13</td>\n",
       "      <td>225</td>\n",
       "      <td>2</td>\n",
       "      <td>1997-12-17 22:52:36</td>\n",
       "      <td>47</td>\n",
       "      <td>M</td>\n",
       "      <td>educator</td>\n",
       "      <td>29206</td>\n",
       "      <td>101 Dalmatians (1996)</td>\n",
       "      <td>1996.0</td>\n",
       "      <td>1990.0</td>\n",
       "      <td>Comedy</td>\n",
       "      <td>1997</td>\n",
       "    </tr>\n",
       "    <tr>\n",
       "      <th>212594</th>\n",
       "      <td>12</td>\n",
       "      <td>203</td>\n",
       "      <td>3</td>\n",
       "      <td>1997-11-19 17:13:03</td>\n",
       "      <td>28</td>\n",
       "      <td>F</td>\n",
       "      <td>other</td>\n",
       "      <td>06405</td>\n",
       "      <td>Unforgiven (1992)</td>\n",
       "      <td>1992.0</td>\n",
       "      <td>1990.0</td>\n",
       "      <td>Western</td>\n",
       "      <td>1997</td>\n",
       "    </tr>\n",
       "  </tbody>\n",
       "</table>\n",
       "<p>212595 rows × 13 columns</p>\n",
       "</div>"
      ],
      "text/plain": [
       "        user_id  movie_id  rating            timestamp  age gender  \\\n",
       "0           196       242       3  1997-12-04 15:55:49   49      M   \n",
       "1           186       302       3  1998-04-04 19:22:22   39      F   \n",
       "2           186       302       3  1998-04-04 19:22:22   39      F   \n",
       "3           186       302       3  1998-04-04 19:22:22   39      F   \n",
       "4           186       302       3  1998-04-04 19:22:22   39      F   \n",
       "...         ...       ...     ...                  ...  ...    ...   \n",
       "212590      716       204       5  1997-11-17 19:39:03   36      F   \n",
       "212591      276      1090       1  1997-09-20 22:49:55   21      M   \n",
       "212592       13       225       2  1997-12-17 22:52:36   47      M   \n",
       "212593       13       225       2  1997-12-17 22:52:36   47      M   \n",
       "212594       12       203       3  1997-11-19 17:13:03   28      F   \n",
       "\n",
       "           occupation zip_code                      title    year  decade  \\\n",
       "0              writer    55105               Kolya (1996)  1996.0  1990.0   \n",
       "1           executive    00000   L.A. Confidential (1997)  1997.0  1990.0   \n",
       "2           executive    00000   L.A. Confidential (1997)  1997.0  1990.0   \n",
       "3           executive    00000   L.A. Confidential (1997)  1997.0  1990.0   \n",
       "4           executive    00000   L.A. Confidential (1997)  1997.0  1990.0   \n",
       "...               ...      ...                        ...     ...     ...   \n",
       "212590  administrator    44265  Back to the Future (1985)  1985.0  1980.0   \n",
       "212591        student    95064              Sliver (1993)  1993.0  1990.0   \n",
       "212592       educator    29206      101 Dalmatians (1996)  1996.0  1990.0   \n",
       "212593       educator    29206      101 Dalmatians (1996)  1996.0  1990.0   \n",
       "212594          other    06405          Unforgiven (1992)  1992.0  1990.0   \n",
       "\n",
       "           genres  rating_year  \n",
       "0          Comedy         1997  \n",
       "1           Crime         1998  \n",
       "2       Film-Noir         1998  \n",
       "3         Mystery         1998  \n",
       "4        Thriller         1998  \n",
       "...           ...          ...  \n",
       "212590     Sci-Fi         1997  \n",
       "212591   Thriller         1997  \n",
       "212592   Children         1997  \n",
       "212593     Comedy         1997  \n",
       "212594    Western         1997  \n",
       "\n",
       "[212595 rows x 13 columns]"
      ]
     },
     "execution_count": 70,
     "metadata": {},
     "output_type": "execute_result"
    }
   ],
   "source": [
    "df = pd.read_csv('data/movie_ratings.csv')\n",
    "df"
   ]
  },
  {
   "cell_type": "code",
   "execution_count": 71,
   "id": "e8d4c27b",
   "metadata": {},
   "outputs": [
    {
     "data": {
      "text/plain": [
       "np.int64(5)"
      ]
     },
     "execution_count": 71,
     "metadata": {},
     "output_type": "execute_result"
    }
   ],
   "source": [
    "df['rating'].max()"
   ]
  },
  {
   "cell_type": "code",
   "execution_count": 72,
   "id": "cf7b203d",
   "metadata": {},
   "outputs": [
    {
     "data": {
      "text/plain": [
       "user_id         0\n",
       "movie_id        0\n",
       "rating          0\n",
       "timestamp       0\n",
       "age             0\n",
       "gender          0\n",
       "occupation      0\n",
       "zip_code        0\n",
       "title           0\n",
       "year           36\n",
       "decade         36\n",
       "genres          0\n",
       "rating_year     0\n",
       "dtype: int64"
      ]
     },
     "execution_count": 72,
     "metadata": {},
     "output_type": "execute_result"
    }
   ],
   "source": [
    "df.isna().sum()"
   ]
  },
  {
   "cell_type": "code",
   "execution_count": 73,
   "id": "e15563bc",
   "metadata": {},
   "outputs": [
    {
     "data": {
      "text/plain": [
       "count    212595.000000\n",
       "mean          3.551048\n",
       "std           1.119645\n",
       "min           1.000000\n",
       "25%           3.000000\n",
       "50%           4.000000\n",
       "75%           4.000000\n",
       "max           5.000000\n",
       "Name: rating, dtype: float64"
      ]
     },
     "execution_count": 73,
     "metadata": {},
     "output_type": "execute_result"
    }
   ],
   "source": [
    "df['rating'].describe()"
   ]
  },
  {
   "cell_type": "code",
   "execution_count": 74,
   "id": "e520c9d7",
   "metadata": {},
   "outputs": [],
   "source": [
    "# df[\"timestamp\"] = pd.to_datetime(df[\"timestamp\"], errors=\"coerce\")\n",
    "# df[\"year\"] = df[\"timestamp\"].dt.year\n",
    "# max_year = df[\"timestamp\"].dt.year.max()\n",
    "# min_year = df['timestamp'].dt.year.min()\n"
   ]
  },
  {
   "cell_type": "code",
   "execution_count": null,
   "id": "60000ea0",
   "metadata": {},
   "outputs": [],
   "source": []
  },
  {
   "cell_type": "code",
   "execution_count": 75,
   "id": "79b103c1",
   "metadata": {},
   "outputs": [],
   "source": [
    "# print(max_year)\n",
    "# min_year"
   ]
  },
  {
   "cell_type": "code",
   "execution_count": 76,
   "id": "6740a59c",
   "metadata": {},
   "outputs": [
    {
     "data": {
      "text/plain": [
       "genres\n",
       "Drama          39895\n",
       "Comedy         29832\n",
       "Action         25589\n",
       "Thriller       21872\n",
       "Romance        19461\n",
       "Adventure      13753\n",
       "Sci-Fi         12730\n",
       "War             9398\n",
       "Crime           8055\n",
       "Children        7182\n",
       "Horror          5317\n",
       "Mystery         5245\n",
       "Musical         4954\n",
       "Animation       3605\n",
       "Western         1854\n",
       "Film-Noir       1733\n",
       "Fantasy         1352\n",
       "Documentary      758\n",
       "unknown           10\n",
       "Name: count, dtype: int64"
      ]
     },
     "execution_count": 76,
     "metadata": {},
     "output_type": "execute_result"
    }
   ],
   "source": [
    "df['genres'].value_counts()"
   ]
  },
  {
   "cell_type": "code",
   "execution_count": 77,
   "id": "f6361121",
   "metadata": {},
   "outputs": [
    {
     "data": {
      "application/vnd.plotly.v1+json": {
       "config": {
        "plotlyServerURL": "https://plot.ly"
       },
       "data": [
        {
         "hovertemplate": "count=%{marker.color}<br>genres=%{y}<extra></extra>",
         "legendgroup": "",
         "marker": {
          "color": {
           "bdata": "15sAAIh0AAD1YwAAcFUAAAVMAAC5NQAAujEAALYkAAB3HwAADhwAAMUUAAB9FAAAWhMAABUOAAA+BwAAxQYAAEgFAAD2AgAACgAAAA==",
           "dtype": "i4"
          },
          "coloraxis": "coloraxis",
          "pattern": {
           "shape": ""
          }
         },
         "name": "",
         "orientation": "h",
         "showlegend": false,
         "textposition": "auto",
         "type": "bar",
         "x": {
          "bdata": "15sAAIh0AAD1YwAAcFUAAAVMAAC5NQAAujEAALYkAAB3HwAADhwAAMUUAAB9FAAAWhMAABUOAAA+BwAAxQYAAEgFAAD2AgAACgAAAA==",
          "dtype": "i4"
         },
         "xaxis": "x",
         "y": [
          "Drama",
          "Comedy",
          "Action",
          "Thriller",
          "Romance",
          "Adventure",
          "Sci-Fi",
          "War",
          "Crime",
          "Children",
          "Horror",
          "Mystery",
          "Musical",
          "Animation",
          "Western",
          "Film-Noir",
          "Fantasy",
          "Documentary",
          "unknown"
         ],
         "yaxis": "y"
        }
       ],
       "layout": {
        "barmode": "relative",
        "coloraxis": {
         "colorbar": {
          "title": {
           "text": "count"
          }
         },
         "colorscale": [
          [
           0,
           "#0d0887"
          ],
          [
           0.1111111111111111,
           "#46039f"
          ],
          [
           0.2222222222222222,
           "#7201a8"
          ],
          [
           0.3333333333333333,
           "#9c179e"
          ],
          [
           0.4444444444444444,
           "#bd3786"
          ],
          [
           0.5555555555555556,
           "#d8576b"
          ],
          [
           0.6666666666666666,
           "#ed7953"
          ],
          [
           0.7777777777777778,
           "#fb9f3a"
          ],
          [
           0.8888888888888888,
           "#fdca26"
          ],
          [
           1,
           "#f0f921"
          ]
         ]
        },
        "font": {
         "color": "white"
        },
        "legend": {
         "tracegroupgap": 0
        },
        "template": {
         "data": {
          "bar": [
           {
            "error_x": {
             "color": "#f2f5fa"
            },
            "error_y": {
             "color": "#f2f5fa"
            },
            "marker": {
             "line": {
              "color": "rgb(17,17,17)",
              "width": 0.5
             },
             "pattern": {
              "fillmode": "overlay",
              "size": 10,
              "solidity": 0.2
             }
            },
            "type": "bar"
           }
          ],
          "barpolar": [
           {
            "marker": {
             "line": {
              "color": "rgb(17,17,17)",
              "width": 0.5
             },
             "pattern": {
              "fillmode": "overlay",
              "size": 10,
              "solidity": 0.2
             }
            },
            "type": "barpolar"
           }
          ],
          "carpet": [
           {
            "aaxis": {
             "endlinecolor": "#A2B1C6",
             "gridcolor": "#506784",
             "linecolor": "#506784",
             "minorgridcolor": "#506784",
             "startlinecolor": "#A2B1C6"
            },
            "baxis": {
             "endlinecolor": "#A2B1C6",
             "gridcolor": "#506784",
             "linecolor": "#506784",
             "minorgridcolor": "#506784",
             "startlinecolor": "#A2B1C6"
            },
            "type": "carpet"
           }
          ],
          "choropleth": [
           {
            "colorbar": {
             "outlinewidth": 0,
             "ticks": ""
            },
            "type": "choropleth"
           }
          ],
          "contour": [
           {
            "colorbar": {
             "outlinewidth": 0,
             "ticks": ""
            },
            "colorscale": [
             [
              0,
              "#0d0887"
             ],
             [
              0.1111111111111111,
              "#46039f"
             ],
             [
              0.2222222222222222,
              "#7201a8"
             ],
             [
              0.3333333333333333,
              "#9c179e"
             ],
             [
              0.4444444444444444,
              "#bd3786"
             ],
             [
              0.5555555555555556,
              "#d8576b"
             ],
             [
              0.6666666666666666,
              "#ed7953"
             ],
             [
              0.7777777777777778,
              "#fb9f3a"
             ],
             [
              0.8888888888888888,
              "#fdca26"
             ],
             [
              1,
              "#f0f921"
             ]
            ],
            "type": "contour"
           }
          ],
          "contourcarpet": [
           {
            "colorbar": {
             "outlinewidth": 0,
             "ticks": ""
            },
            "type": "contourcarpet"
           }
          ],
          "heatmap": [
           {
            "colorbar": {
             "outlinewidth": 0,
             "ticks": ""
            },
            "colorscale": [
             [
              0,
              "#0d0887"
             ],
             [
              0.1111111111111111,
              "#46039f"
             ],
             [
              0.2222222222222222,
              "#7201a8"
             ],
             [
              0.3333333333333333,
              "#9c179e"
             ],
             [
              0.4444444444444444,
              "#bd3786"
             ],
             [
              0.5555555555555556,
              "#d8576b"
             ],
             [
              0.6666666666666666,
              "#ed7953"
             ],
             [
              0.7777777777777778,
              "#fb9f3a"
             ],
             [
              0.8888888888888888,
              "#fdca26"
             ],
             [
              1,
              "#f0f921"
             ]
            ],
            "type": "heatmap"
           }
          ],
          "histogram": [
           {
            "marker": {
             "pattern": {
              "fillmode": "overlay",
              "size": 10,
              "solidity": 0.2
             }
            },
            "type": "histogram"
           }
          ],
          "histogram2d": [
           {
            "colorbar": {
             "outlinewidth": 0,
             "ticks": ""
            },
            "colorscale": [
             [
              0,
              "#0d0887"
             ],
             [
              0.1111111111111111,
              "#46039f"
             ],
             [
              0.2222222222222222,
              "#7201a8"
             ],
             [
              0.3333333333333333,
              "#9c179e"
             ],
             [
              0.4444444444444444,
              "#bd3786"
             ],
             [
              0.5555555555555556,
              "#d8576b"
             ],
             [
              0.6666666666666666,
              "#ed7953"
             ],
             [
              0.7777777777777778,
              "#fb9f3a"
             ],
             [
              0.8888888888888888,
              "#fdca26"
             ],
             [
              1,
              "#f0f921"
             ]
            ],
            "type": "histogram2d"
           }
          ],
          "histogram2dcontour": [
           {
            "colorbar": {
             "outlinewidth": 0,
             "ticks": ""
            },
            "colorscale": [
             [
              0,
              "#0d0887"
             ],
             [
              0.1111111111111111,
              "#46039f"
             ],
             [
              0.2222222222222222,
              "#7201a8"
             ],
             [
              0.3333333333333333,
              "#9c179e"
             ],
             [
              0.4444444444444444,
              "#bd3786"
             ],
             [
              0.5555555555555556,
              "#d8576b"
             ],
             [
              0.6666666666666666,
              "#ed7953"
             ],
             [
              0.7777777777777778,
              "#fb9f3a"
             ],
             [
              0.8888888888888888,
              "#fdca26"
             ],
             [
              1,
              "#f0f921"
             ]
            ],
            "type": "histogram2dcontour"
           }
          ],
          "mesh3d": [
           {
            "colorbar": {
             "outlinewidth": 0,
             "ticks": ""
            },
            "type": "mesh3d"
           }
          ],
          "parcoords": [
           {
            "line": {
             "colorbar": {
              "outlinewidth": 0,
              "ticks": ""
             }
            },
            "type": "parcoords"
           }
          ],
          "pie": [
           {
            "automargin": true,
            "type": "pie"
           }
          ],
          "scatter": [
           {
            "marker": {
             "line": {
              "color": "#283442"
             }
            },
            "type": "scatter"
           }
          ],
          "scatter3d": [
           {
            "line": {
             "colorbar": {
              "outlinewidth": 0,
              "ticks": ""
             }
            },
            "marker": {
             "colorbar": {
              "outlinewidth": 0,
              "ticks": ""
             }
            },
            "type": "scatter3d"
           }
          ],
          "scattercarpet": [
           {
            "marker": {
             "colorbar": {
              "outlinewidth": 0,
              "ticks": ""
             }
            },
            "type": "scattercarpet"
           }
          ],
          "scattergeo": [
           {
            "marker": {
             "colorbar": {
              "outlinewidth": 0,
              "ticks": ""
             }
            },
            "type": "scattergeo"
           }
          ],
          "scattergl": [
           {
            "marker": {
             "line": {
              "color": "#283442"
             }
            },
            "type": "scattergl"
           }
          ],
          "scattermap": [
           {
            "marker": {
             "colorbar": {
              "outlinewidth": 0,
              "ticks": ""
             }
            },
            "type": "scattermap"
           }
          ],
          "scattermapbox": [
           {
            "marker": {
             "colorbar": {
              "outlinewidth": 0,
              "ticks": ""
             }
            },
            "type": "scattermapbox"
           }
          ],
          "scatterpolar": [
           {
            "marker": {
             "colorbar": {
              "outlinewidth": 0,
              "ticks": ""
             }
            },
            "type": "scatterpolar"
           }
          ],
          "scatterpolargl": [
           {
            "marker": {
             "colorbar": {
              "outlinewidth": 0,
              "ticks": ""
             }
            },
            "type": "scatterpolargl"
           }
          ],
          "scatterternary": [
           {
            "marker": {
             "colorbar": {
              "outlinewidth": 0,
              "ticks": ""
             }
            },
            "type": "scatterternary"
           }
          ],
          "surface": [
           {
            "colorbar": {
             "outlinewidth": 0,
             "ticks": ""
            },
            "colorscale": [
             [
              0,
              "#0d0887"
             ],
             [
              0.1111111111111111,
              "#46039f"
             ],
             [
              0.2222222222222222,
              "#7201a8"
             ],
             [
              0.3333333333333333,
              "#9c179e"
             ],
             [
              0.4444444444444444,
              "#bd3786"
             ],
             [
              0.5555555555555556,
              "#d8576b"
             ],
             [
              0.6666666666666666,
              "#ed7953"
             ],
             [
              0.7777777777777778,
              "#fb9f3a"
             ],
             [
              0.8888888888888888,
              "#fdca26"
             ],
             [
              1,
              "#f0f921"
             ]
            ],
            "type": "surface"
           }
          ],
          "table": [
           {
            "cells": {
             "fill": {
              "color": "#506784"
             },
             "line": {
              "color": "rgb(17,17,17)"
             }
            },
            "header": {
             "fill": {
              "color": "#2a3f5f"
             },
             "line": {
              "color": "rgb(17,17,17)"
             }
            },
            "type": "table"
           }
          ]
         },
         "layout": {
          "annotationdefaults": {
           "arrowcolor": "#f2f5fa",
           "arrowhead": 0,
           "arrowwidth": 1
          },
          "autotypenumbers": "strict",
          "coloraxis": {
           "colorbar": {
            "outlinewidth": 0,
            "ticks": ""
           }
          },
          "colorscale": {
           "diverging": [
            [
             0,
             "#8e0152"
            ],
            [
             0.1,
             "#c51b7d"
            ],
            [
             0.2,
             "#de77ae"
            ],
            [
             0.3,
             "#f1b6da"
            ],
            [
             0.4,
             "#fde0ef"
            ],
            [
             0.5,
             "#f7f7f7"
            ],
            [
             0.6,
             "#e6f5d0"
            ],
            [
             0.7,
             "#b8e186"
            ],
            [
             0.8,
             "#7fbc41"
            ],
            [
             0.9,
             "#4d9221"
            ],
            [
             1,
             "#276419"
            ]
           ],
           "sequential": [
            [
             0,
             "#0d0887"
            ],
            [
             0.1111111111111111,
             "#46039f"
            ],
            [
             0.2222222222222222,
             "#7201a8"
            ],
            [
             0.3333333333333333,
             "#9c179e"
            ],
            [
             0.4444444444444444,
             "#bd3786"
            ],
            [
             0.5555555555555556,
             "#d8576b"
            ],
            [
             0.6666666666666666,
             "#ed7953"
            ],
            [
             0.7777777777777778,
             "#fb9f3a"
            ],
            [
             0.8888888888888888,
             "#fdca26"
            ],
            [
             1,
             "#f0f921"
            ]
           ],
           "sequentialminus": [
            [
             0,
             "#0d0887"
            ],
            [
             0.1111111111111111,
             "#46039f"
            ],
            [
             0.2222222222222222,
             "#7201a8"
            ],
            [
             0.3333333333333333,
             "#9c179e"
            ],
            [
             0.4444444444444444,
             "#bd3786"
            ],
            [
             0.5555555555555556,
             "#d8576b"
            ],
            [
             0.6666666666666666,
             "#ed7953"
            ],
            [
             0.7777777777777778,
             "#fb9f3a"
            ],
            [
             0.8888888888888888,
             "#fdca26"
            ],
            [
             1,
             "#f0f921"
            ]
           ]
          },
          "colorway": [
           "#636efa",
           "#EF553B",
           "#00cc96",
           "#ab63fa",
           "#FFA15A",
           "#19d3f3",
           "#FF6692",
           "#B6E880",
           "#FF97FF",
           "#FECB52"
          ],
          "font": {
           "color": "#f2f5fa"
          },
          "geo": {
           "bgcolor": "rgb(17,17,17)",
           "lakecolor": "rgb(17,17,17)",
           "landcolor": "rgb(17,17,17)",
           "showlakes": true,
           "showland": true,
           "subunitcolor": "#506784"
          },
          "hoverlabel": {
           "align": "left"
          },
          "hovermode": "closest",
          "mapbox": {
           "style": "dark"
          },
          "paper_bgcolor": "rgb(17,17,17)",
          "plot_bgcolor": "rgb(17,17,17)",
          "polar": {
           "angularaxis": {
            "gridcolor": "#506784",
            "linecolor": "#506784",
            "ticks": ""
           },
           "bgcolor": "rgb(17,17,17)",
           "radialaxis": {
            "gridcolor": "#506784",
            "linecolor": "#506784",
            "ticks": ""
           }
          },
          "scene": {
           "xaxis": {
            "backgroundcolor": "rgb(17,17,17)",
            "gridcolor": "#506784",
            "gridwidth": 2,
            "linecolor": "#506784",
            "showbackground": true,
            "ticks": "",
            "zerolinecolor": "#C8D4E3"
           },
           "yaxis": {
            "backgroundcolor": "rgb(17,17,17)",
            "gridcolor": "#506784",
            "gridwidth": 2,
            "linecolor": "#506784",
            "showbackground": true,
            "ticks": "",
            "zerolinecolor": "#C8D4E3"
           },
           "zaxis": {
            "backgroundcolor": "rgb(17,17,17)",
            "gridcolor": "#506784",
            "gridwidth": 2,
            "linecolor": "#506784",
            "showbackground": true,
            "ticks": "",
            "zerolinecolor": "#C8D4E3"
           }
          },
          "shapedefaults": {
           "line": {
            "color": "#f2f5fa"
           }
          },
          "sliderdefaults": {
           "bgcolor": "#C8D4E3",
           "bordercolor": "rgb(17,17,17)",
           "borderwidth": 1,
           "tickwidth": 0
          },
          "ternary": {
           "aaxis": {
            "gridcolor": "#506784",
            "linecolor": "#506784",
            "ticks": ""
           },
           "baxis": {
            "gridcolor": "#506784",
            "linecolor": "#506784",
            "ticks": ""
           },
           "bgcolor": "rgb(17,17,17)",
           "caxis": {
            "gridcolor": "#506784",
            "linecolor": "#506784",
            "ticks": ""
           }
          },
          "title": {
           "x": 0.05
          },
          "updatemenudefaults": {
           "bgcolor": "#506784",
           "borderwidth": 0
          },
          "xaxis": {
           "automargin": true,
           "gridcolor": "#283442",
           "linecolor": "#506784",
           "ticks": "",
           "title": {
            "standoff": 15
           },
           "zerolinecolor": "#283442",
           "zerolinewidth": 2
          },
          "yaxis": {
           "automargin": true,
           "gridcolor": "#283442",
           "linecolor": "#506784",
           "ticks": "",
           "title": {
            "standoff": 15
           },
           "zerolinecolor": "#283442",
           "zerolinewidth": 2
          }
         }
        },
        "title": {
         "font": {
          "size": 20
         },
         "text": "Number of Ratings per Genre"
        },
        "xaxis": {
         "anchor": "y",
         "domain": [
          0,
          1
         ],
         "title": {
          "text": "count"
         }
        },
        "yaxis": {
         "anchor": "x",
         "categoryorder": "total ascending",
         "domain": [
          0,
          1
         ],
         "title": {
          "text": "genres"
         }
        }
       }
      }
     },
     "metadata": {},
     "output_type": "display_data"
    }
   ],
   "source": [
    "# Aggregate counts per genre\n",
    "genre_counts = df[\"genres\"].value_counts().reset_index()\n",
    "genre_counts.columns = [\"genres\", \"count\"]\n",
    "\n",
    "# Horizontal bar chart\n",
    "fig = px.bar(\n",
    "    genre_counts,\n",
    "    x=\"count\",\n",
    "    y=\"genres\",\n",
    "    orientation=\"h\",  # horizontal bars\n",
    "    color=\"count\",  # optional: color by count\n",
    "    color_continuous_scale=\"Plasma\",\n",
    "    title=\"Number of Ratings per Genre\",\n",
    ")\n",
    "# Dark background\n",
    "fig.update_layout(\n",
    "    template=\"plotly_dark\",\n",
    "    yaxis={\"categoryorder\": \"total ascending\"},  # sort bars\n",
    "    title_font_size=20,\n",
    "    font=dict(color=\"white\"),\n",
    ")\n",
    "\n",
    "\n",
    "fig.update_layout(yaxis={\"categoryorder\": \"total ascending\"})  # sort bars\n",
    "fig.show()\n"
   ]
  },
  {
   "cell_type": "code",
   "execution_count": 78,
   "id": "fcd0f9e5",
   "metadata": {},
   "outputs": [],
   "source": [
    "# above will answer question 1\n",
    "\n"
   ]
  },
  {
   "cell_type": "code",
   "execution_count": 79,
   "id": "05b72f47",
   "metadata": {},
   "outputs": [],
   "source": [
    "# q2"
   ]
  },
  {
   "cell_type": "code",
   "execution_count": 80,
   "id": "5697f57b",
   "metadata": {},
   "outputs": [
    {
     "data": {
      "application/vnd.plotly.v1+json": {
       "config": {
        "plotlyServerURL": "https://plot.ly"
       },
       "data": [
        {
         "hovertemplate": "avg_rating=%{marker.color:.2f}<br>genres=%{y}<extra></extra>",
         "legendgroup": "",
         "marker": {
          "color": {
           "bdata": "twgBpUdfD0D871FgyIYOQATqbcHAfw1AN6rMI/FhDUDoBVO35BoNQIpydNDnDg1AO66ncUD5DEC0a0Zf+ecMQDfbbWEUnQxA3UUjL1x8DECORbsc0isMQOQnTTxyEgxAigdD5zgHDED8S+HoitcLQBfO5v4PJwtAN23ctHHTCkAlv2ait1IKQO+SBwPOuAlAmpmZmZmZCUA=",
           "dtype": "f8"
          },
          "coloraxis": "coloraxis",
          "pattern": {
           "shape": ""
          }
         },
         "name": "",
         "orientation": "h",
         "showlegend": false,
         "textposition": "auto",
         "type": "bar",
         "x": {
          "bdata": "twgBpUdfD0D871FgyIYOQATqbcHAfw1AN6rMI/FhDUDoBVO35BoNQIpydNDnDg1AO66ncUD5DEC0a0Zf+ecMQDfbbWEUnQxA3UUjL1x8DECORbsc0isMQOQnTTxyEgxAigdD5zgHDED8S+HoitcLQBfO5v4PJwtAN23ctHHTCkAlv2ait1IKQO+SBwPOuAlAmpmZmZmZCUA=",
          "dtype": "f8"
         },
         "xaxis": "x",
         "y": [
          "Film-Noir",
          "War",
          "Drama",
          "Documentary",
          "Mystery",
          "Crime",
          "Romance",
          "Western",
          "Animation",
          "Sci-Fi",
          "Musical",
          "Thriller",
          "Adventure",
          "Action",
          "Comedy",
          "Children",
          "Horror",
          "Fantasy",
          "unknown"
         ],
         "yaxis": "y"
        }
       ],
       "layout": {
        "barmode": "relative",
        "coloraxis": {
         "colorbar": {
          "title": {
           "text": "avg_rating"
          }
         },
         "colorscale": [
          [
           0,
           "#0d0887"
          ],
          [
           0.1111111111111111,
           "#46039f"
          ],
          [
           0.2222222222222222,
           "#7201a8"
          ],
          [
           0.3333333333333333,
           "#9c179e"
          ],
          [
           0.4444444444444444,
           "#bd3786"
          ],
          [
           0.5555555555555556,
           "#d8576b"
          ],
          [
           0.6666666666666666,
           "#ed7953"
          ],
          [
           0.7777777777777778,
           "#fb9f3a"
          ],
          [
           0.8888888888888888,
           "#fdca26"
          ],
          [
           1,
           "#f0f921"
          ]
         ]
        },
        "font": {
         "color": "white"
        },
        "legend": {
         "tracegroupgap": 0
        },
        "template": {
         "data": {
          "bar": [
           {
            "error_x": {
             "color": "#f2f5fa"
            },
            "error_y": {
             "color": "#f2f5fa"
            },
            "marker": {
             "line": {
              "color": "rgb(17,17,17)",
              "width": 0.5
             },
             "pattern": {
              "fillmode": "overlay",
              "size": 10,
              "solidity": 0.2
             }
            },
            "type": "bar"
           }
          ],
          "barpolar": [
           {
            "marker": {
             "line": {
              "color": "rgb(17,17,17)",
              "width": 0.5
             },
             "pattern": {
              "fillmode": "overlay",
              "size": 10,
              "solidity": 0.2
             }
            },
            "type": "barpolar"
           }
          ],
          "carpet": [
           {
            "aaxis": {
             "endlinecolor": "#A2B1C6",
             "gridcolor": "#506784",
             "linecolor": "#506784",
             "minorgridcolor": "#506784",
             "startlinecolor": "#A2B1C6"
            },
            "baxis": {
             "endlinecolor": "#A2B1C6",
             "gridcolor": "#506784",
             "linecolor": "#506784",
             "minorgridcolor": "#506784",
             "startlinecolor": "#A2B1C6"
            },
            "type": "carpet"
           }
          ],
          "choropleth": [
           {
            "colorbar": {
             "outlinewidth": 0,
             "ticks": ""
            },
            "type": "choropleth"
           }
          ],
          "contour": [
           {
            "colorbar": {
             "outlinewidth": 0,
             "ticks": ""
            },
            "colorscale": [
             [
              0,
              "#0d0887"
             ],
             [
              0.1111111111111111,
              "#46039f"
             ],
             [
              0.2222222222222222,
              "#7201a8"
             ],
             [
              0.3333333333333333,
              "#9c179e"
             ],
             [
              0.4444444444444444,
              "#bd3786"
             ],
             [
              0.5555555555555556,
              "#d8576b"
             ],
             [
              0.6666666666666666,
              "#ed7953"
             ],
             [
              0.7777777777777778,
              "#fb9f3a"
             ],
             [
              0.8888888888888888,
              "#fdca26"
             ],
             [
              1,
              "#f0f921"
             ]
            ],
            "type": "contour"
           }
          ],
          "contourcarpet": [
           {
            "colorbar": {
             "outlinewidth": 0,
             "ticks": ""
            },
            "type": "contourcarpet"
           }
          ],
          "heatmap": [
           {
            "colorbar": {
             "outlinewidth": 0,
             "ticks": ""
            },
            "colorscale": [
             [
              0,
              "#0d0887"
             ],
             [
              0.1111111111111111,
              "#46039f"
             ],
             [
              0.2222222222222222,
              "#7201a8"
             ],
             [
              0.3333333333333333,
              "#9c179e"
             ],
             [
              0.4444444444444444,
              "#bd3786"
             ],
             [
              0.5555555555555556,
              "#d8576b"
             ],
             [
              0.6666666666666666,
              "#ed7953"
             ],
             [
              0.7777777777777778,
              "#fb9f3a"
             ],
             [
              0.8888888888888888,
              "#fdca26"
             ],
             [
              1,
              "#f0f921"
             ]
            ],
            "type": "heatmap"
           }
          ],
          "histogram": [
           {
            "marker": {
             "pattern": {
              "fillmode": "overlay",
              "size": 10,
              "solidity": 0.2
             }
            },
            "type": "histogram"
           }
          ],
          "histogram2d": [
           {
            "colorbar": {
             "outlinewidth": 0,
             "ticks": ""
            },
            "colorscale": [
             [
              0,
              "#0d0887"
             ],
             [
              0.1111111111111111,
              "#46039f"
             ],
             [
              0.2222222222222222,
              "#7201a8"
             ],
             [
              0.3333333333333333,
              "#9c179e"
             ],
             [
              0.4444444444444444,
              "#bd3786"
             ],
             [
              0.5555555555555556,
              "#d8576b"
             ],
             [
              0.6666666666666666,
              "#ed7953"
             ],
             [
              0.7777777777777778,
              "#fb9f3a"
             ],
             [
              0.8888888888888888,
              "#fdca26"
             ],
             [
              1,
              "#f0f921"
             ]
            ],
            "type": "histogram2d"
           }
          ],
          "histogram2dcontour": [
           {
            "colorbar": {
             "outlinewidth": 0,
             "ticks": ""
            },
            "colorscale": [
             [
              0,
              "#0d0887"
             ],
             [
              0.1111111111111111,
              "#46039f"
             ],
             [
              0.2222222222222222,
              "#7201a8"
             ],
             [
              0.3333333333333333,
              "#9c179e"
             ],
             [
              0.4444444444444444,
              "#bd3786"
             ],
             [
              0.5555555555555556,
              "#d8576b"
             ],
             [
              0.6666666666666666,
              "#ed7953"
             ],
             [
              0.7777777777777778,
              "#fb9f3a"
             ],
             [
              0.8888888888888888,
              "#fdca26"
             ],
             [
              1,
              "#f0f921"
             ]
            ],
            "type": "histogram2dcontour"
           }
          ],
          "mesh3d": [
           {
            "colorbar": {
             "outlinewidth": 0,
             "ticks": ""
            },
            "type": "mesh3d"
           }
          ],
          "parcoords": [
           {
            "line": {
             "colorbar": {
              "outlinewidth": 0,
              "ticks": ""
             }
            },
            "type": "parcoords"
           }
          ],
          "pie": [
           {
            "automargin": true,
            "type": "pie"
           }
          ],
          "scatter": [
           {
            "marker": {
             "line": {
              "color": "#283442"
             }
            },
            "type": "scatter"
           }
          ],
          "scatter3d": [
           {
            "line": {
             "colorbar": {
              "outlinewidth": 0,
              "ticks": ""
             }
            },
            "marker": {
             "colorbar": {
              "outlinewidth": 0,
              "ticks": ""
             }
            },
            "type": "scatter3d"
           }
          ],
          "scattercarpet": [
           {
            "marker": {
             "colorbar": {
              "outlinewidth": 0,
              "ticks": ""
             }
            },
            "type": "scattercarpet"
           }
          ],
          "scattergeo": [
           {
            "marker": {
             "colorbar": {
              "outlinewidth": 0,
              "ticks": ""
             }
            },
            "type": "scattergeo"
           }
          ],
          "scattergl": [
           {
            "marker": {
             "line": {
              "color": "#283442"
             }
            },
            "type": "scattergl"
           }
          ],
          "scattermap": [
           {
            "marker": {
             "colorbar": {
              "outlinewidth": 0,
              "ticks": ""
             }
            },
            "type": "scattermap"
           }
          ],
          "scattermapbox": [
           {
            "marker": {
             "colorbar": {
              "outlinewidth": 0,
              "ticks": ""
             }
            },
            "type": "scattermapbox"
           }
          ],
          "scatterpolar": [
           {
            "marker": {
             "colorbar": {
              "outlinewidth": 0,
              "ticks": ""
             }
            },
            "type": "scatterpolar"
           }
          ],
          "scatterpolargl": [
           {
            "marker": {
             "colorbar": {
              "outlinewidth": 0,
              "ticks": ""
             }
            },
            "type": "scatterpolargl"
           }
          ],
          "scatterternary": [
           {
            "marker": {
             "colorbar": {
              "outlinewidth": 0,
              "ticks": ""
             }
            },
            "type": "scatterternary"
           }
          ],
          "surface": [
           {
            "colorbar": {
             "outlinewidth": 0,
             "ticks": ""
            },
            "colorscale": [
             [
              0,
              "#0d0887"
             ],
             [
              0.1111111111111111,
              "#46039f"
             ],
             [
              0.2222222222222222,
              "#7201a8"
             ],
             [
              0.3333333333333333,
              "#9c179e"
             ],
             [
              0.4444444444444444,
              "#bd3786"
             ],
             [
              0.5555555555555556,
              "#d8576b"
             ],
             [
              0.6666666666666666,
              "#ed7953"
             ],
             [
              0.7777777777777778,
              "#fb9f3a"
             ],
             [
              0.8888888888888888,
              "#fdca26"
             ],
             [
              1,
              "#f0f921"
             ]
            ],
            "type": "surface"
           }
          ],
          "table": [
           {
            "cells": {
             "fill": {
              "color": "#506784"
             },
             "line": {
              "color": "rgb(17,17,17)"
             }
            },
            "header": {
             "fill": {
              "color": "#2a3f5f"
             },
             "line": {
              "color": "rgb(17,17,17)"
             }
            },
            "type": "table"
           }
          ]
         },
         "layout": {
          "annotationdefaults": {
           "arrowcolor": "#f2f5fa",
           "arrowhead": 0,
           "arrowwidth": 1
          },
          "autotypenumbers": "strict",
          "coloraxis": {
           "colorbar": {
            "outlinewidth": 0,
            "ticks": ""
           }
          },
          "colorscale": {
           "diverging": [
            [
             0,
             "#8e0152"
            ],
            [
             0.1,
             "#c51b7d"
            ],
            [
             0.2,
             "#de77ae"
            ],
            [
             0.3,
             "#f1b6da"
            ],
            [
             0.4,
             "#fde0ef"
            ],
            [
             0.5,
             "#f7f7f7"
            ],
            [
             0.6,
             "#e6f5d0"
            ],
            [
             0.7,
             "#b8e186"
            ],
            [
             0.8,
             "#7fbc41"
            ],
            [
             0.9,
             "#4d9221"
            ],
            [
             1,
             "#276419"
            ]
           ],
           "sequential": [
            [
             0,
             "#0d0887"
            ],
            [
             0.1111111111111111,
             "#46039f"
            ],
            [
             0.2222222222222222,
             "#7201a8"
            ],
            [
             0.3333333333333333,
             "#9c179e"
            ],
            [
             0.4444444444444444,
             "#bd3786"
            ],
            [
             0.5555555555555556,
             "#d8576b"
            ],
            [
             0.6666666666666666,
             "#ed7953"
            ],
            [
             0.7777777777777778,
             "#fb9f3a"
            ],
            [
             0.8888888888888888,
             "#fdca26"
            ],
            [
             1,
             "#f0f921"
            ]
           ],
           "sequentialminus": [
            [
             0,
             "#0d0887"
            ],
            [
             0.1111111111111111,
             "#46039f"
            ],
            [
             0.2222222222222222,
             "#7201a8"
            ],
            [
             0.3333333333333333,
             "#9c179e"
            ],
            [
             0.4444444444444444,
             "#bd3786"
            ],
            [
             0.5555555555555556,
             "#d8576b"
            ],
            [
             0.6666666666666666,
             "#ed7953"
            ],
            [
             0.7777777777777778,
             "#fb9f3a"
            ],
            [
             0.8888888888888888,
             "#fdca26"
            ],
            [
             1,
             "#f0f921"
            ]
           ]
          },
          "colorway": [
           "#636efa",
           "#EF553B",
           "#00cc96",
           "#ab63fa",
           "#FFA15A",
           "#19d3f3",
           "#FF6692",
           "#B6E880",
           "#FF97FF",
           "#FECB52"
          ],
          "font": {
           "color": "#f2f5fa"
          },
          "geo": {
           "bgcolor": "rgb(17,17,17)",
           "lakecolor": "rgb(17,17,17)",
           "landcolor": "rgb(17,17,17)",
           "showlakes": true,
           "showland": true,
           "subunitcolor": "#506784"
          },
          "hoverlabel": {
           "align": "left"
          },
          "hovermode": "closest",
          "mapbox": {
           "style": "dark"
          },
          "paper_bgcolor": "rgb(17,17,17)",
          "plot_bgcolor": "rgb(17,17,17)",
          "polar": {
           "angularaxis": {
            "gridcolor": "#506784",
            "linecolor": "#506784",
            "ticks": ""
           },
           "bgcolor": "rgb(17,17,17)",
           "radialaxis": {
            "gridcolor": "#506784",
            "linecolor": "#506784",
            "ticks": ""
           }
          },
          "scene": {
           "xaxis": {
            "backgroundcolor": "rgb(17,17,17)",
            "gridcolor": "#506784",
            "gridwidth": 2,
            "linecolor": "#506784",
            "showbackground": true,
            "ticks": "",
            "zerolinecolor": "#C8D4E3"
           },
           "yaxis": {
            "backgroundcolor": "rgb(17,17,17)",
            "gridcolor": "#506784",
            "gridwidth": 2,
            "linecolor": "#506784",
            "showbackground": true,
            "ticks": "",
            "zerolinecolor": "#C8D4E3"
           },
           "zaxis": {
            "backgroundcolor": "rgb(17,17,17)",
            "gridcolor": "#506784",
            "gridwidth": 2,
            "linecolor": "#506784",
            "showbackground": true,
            "ticks": "",
            "zerolinecolor": "#C8D4E3"
           }
          },
          "shapedefaults": {
           "line": {
            "color": "#f2f5fa"
           }
          },
          "sliderdefaults": {
           "bgcolor": "#C8D4E3",
           "bordercolor": "rgb(17,17,17)",
           "borderwidth": 1,
           "tickwidth": 0
          },
          "ternary": {
           "aaxis": {
            "gridcolor": "#506784",
            "linecolor": "#506784",
            "ticks": ""
           },
           "baxis": {
            "gridcolor": "#506784",
            "linecolor": "#506784",
            "ticks": ""
           },
           "bgcolor": "rgb(17,17,17)",
           "caxis": {
            "gridcolor": "#506784",
            "linecolor": "#506784",
            "ticks": ""
           }
          },
          "title": {
           "x": 0.05
          },
          "updatemenudefaults": {
           "bgcolor": "#506784",
           "borderwidth": 0
          },
          "xaxis": {
           "automargin": true,
           "gridcolor": "#283442",
           "linecolor": "#506784",
           "ticks": "",
           "title": {
            "standoff": 15
           },
           "zerolinecolor": "#283442",
           "zerolinewidth": 2
          },
          "yaxis": {
           "automargin": true,
           "gridcolor": "#283442",
           "linecolor": "#506784",
           "ticks": "",
           "title": {
            "standoff": 15
           },
           "zerolinecolor": "#283442",
           "zerolinewidth": 2
          }
         }
        },
        "title": {
         "font": {
          "size": 20
         },
         "text": "Average Viewer Rating per Genre"
        },
        "xaxis": {
         "anchor": "y",
         "domain": [
          0,
          1
         ],
         "title": {
          "text": "avg_rating"
         }
        },
        "yaxis": {
         "anchor": "x",
         "categoryorder": "total ascending",
         "domain": [
          0,
          1
         ],
         "title": {
          "text": "genres"
         }
        }
       }
      }
     },
     "metadata": {},
     "output_type": "display_data"
    }
   ],
   "source": [
    "genre_ratings = df.groupby(\"genres\")[\"rating\"].mean().reset_index()\n",
    "genre_ratings.columns = [\"genres\", \"avg_rating\"]\n",
    "\n",
    "# Optional: sort descending by avg_rating\n",
    "genre_ratings = genre_ratings.sort_values(by=\"avg_rating\", ascending=False)\n",
    "fig = px.bar(\n",
    "    genre_ratings,\n",
    "    x=\"avg_rating\",\n",
    "    y=\"genres\",\n",
    "    orientation=\"h\",\n",
    "    color=\"avg_rating\",\n",
    "    color_continuous_scale=\"Plasma\",  # bright colors for dark background\n",
    "    title=\"Average Viewer Rating per Genre\",\n",
    "    hover_data={\"avg_rating\": \":.2f\"},  # show 2 decimals\n",
    ")\n",
    "\n",
    "fig.update_layout(\n",
    "    template=\"plotly_dark\",\n",
    "    yaxis={\"categoryorder\": \"total ascending\"},  # highest rating at bottom\n",
    "    title_font_size=20,\n",
    "    font=dict(color=\"white\"),\n",
    ")\n",
    "\n",
    "fig.show()"
   ]
  },
  {
   "cell_type": "code",
   "execution_count": 81,
   "id": "5954aa5b",
   "metadata": {},
   "outputs": [
    {
     "data": {
      "text/plain": [
       "genres\n",
       "Drama          9997\n",
       "Comedy         5224\n",
       "Action         5103\n",
       "Romance        4559\n",
       "Thriller       4312\n",
       "War            2914\n",
       "Sci-Fi         2914\n",
       "Adventure      2903\n",
       "Crime          1963\n",
       "Mystery        1225\n",
       "Children       1217\n",
       "Musical        1050\n",
       "Horror          877\n",
       "Animation       796\n",
       "Film-Noir       560\n",
       "Western         394\n",
       "Documentary     209\n",
       "Fantasy         176\n",
       "unknown           1\n",
       "Name: count, dtype: int64"
      ]
     },
     "execution_count": 81,
     "metadata": {},
     "output_type": "execute_result"
    }
   ],
   "source": [
    "# Select rows where rating equals 5\n",
    "top_ratings = df[df[\"rating\"] == 5]\n",
    "\n",
    "# Optional: view the first few rows\n",
    "top_ratings['genres'].value_counts()\n"
   ]
  },
  {
   "cell_type": "code",
   "execution_count": 82,
   "id": "22740b3b",
   "metadata": {},
   "outputs": [
    {
     "data": {
      "text/html": [
       "<div>\n",
       "<style scoped>\n",
       "    .dataframe tbody tr th:only-of-type {\n",
       "        vertical-align: middle;\n",
       "    }\n",
       "\n",
       "    .dataframe tbody tr th {\n",
       "        vertical-align: top;\n",
       "    }\n",
       "\n",
       "    .dataframe thead th {\n",
       "        text-align: right;\n",
       "    }\n",
       "</style>\n",
       "<table border=\"1\" class=\"dataframe\">\n",
       "  <thead>\n",
       "    <tr style=\"text-align: right;\">\n",
       "      <th></th>\n",
       "      <th>user_id</th>\n",
       "      <th>movie_id</th>\n",
       "      <th>rating</th>\n",
       "      <th>timestamp</th>\n",
       "      <th>age</th>\n",
       "      <th>gender</th>\n",
       "      <th>occupation</th>\n",
       "      <th>zip_code</th>\n",
       "      <th>title</th>\n",
       "      <th>year</th>\n",
       "      <th>decade</th>\n",
       "      <th>genres</th>\n",
       "      <th>rating_year</th>\n",
       "    </tr>\n",
       "  </thead>\n",
       "  <tbody>\n",
       "    <tr>\n",
       "      <th>0</th>\n",
       "      <td>253</td>\n",
       "      <td>465</td>\n",
       "      <td>5</td>\n",
       "      <td>1998-04-03 18:34:27</td>\n",
       "      <td>26</td>\n",
       "      <td>F</td>\n",
       "      <td>librarian</td>\n",
       "      <td>22903</td>\n",
       "      <td>Jungle Book, The (1994)</td>\n",
       "      <td>1994.0</td>\n",
       "      <td>1990.0</td>\n",
       "      <td>Adventure</td>\n",
       "      <td>1998</td>\n",
       "    </tr>\n",
       "    <tr>\n",
       "      <th>1</th>\n",
       "      <td>253</td>\n",
       "      <td>465</td>\n",
       "      <td>5</td>\n",
       "      <td>1998-04-03 18:34:27</td>\n",
       "      <td>26</td>\n",
       "      <td>F</td>\n",
       "      <td>librarian</td>\n",
       "      <td>22903</td>\n",
       "      <td>Jungle Book, The (1994)</td>\n",
       "      <td>1994.0</td>\n",
       "      <td>1990.0</td>\n",
       "      <td>Children</td>\n",
       "      <td>1998</td>\n",
       "    </tr>\n",
       "    <tr>\n",
       "      <th>2</th>\n",
       "      <td>253</td>\n",
       "      <td>465</td>\n",
       "      <td>5</td>\n",
       "      <td>1998-04-03 18:34:27</td>\n",
       "      <td>26</td>\n",
       "      <td>F</td>\n",
       "      <td>librarian</td>\n",
       "      <td>22903</td>\n",
       "      <td>Jungle Book, The (1994)</td>\n",
       "      <td>1994.0</td>\n",
       "      <td>1990.0</td>\n",
       "      <td>Romance</td>\n",
       "      <td>1998</td>\n",
       "    </tr>\n",
       "    <tr>\n",
       "      <th>3</th>\n",
       "      <td>286</td>\n",
       "      <td>1014</td>\n",
       "      <td>5</td>\n",
       "      <td>1997-11-17 15:38:45</td>\n",
       "      <td>27</td>\n",
       "      <td>M</td>\n",
       "      <td>student</td>\n",
       "      <td>15217</td>\n",
       "      <td>Romy and Michele's High School Reunion (1997)</td>\n",
       "      <td>1997.0</td>\n",
       "      <td>1990.0</td>\n",
       "      <td>Comedy</td>\n",
       "      <td>1997</td>\n",
       "    </tr>\n",
       "    <tr>\n",
       "      <th>4</th>\n",
       "      <td>200</td>\n",
       "      <td>222</td>\n",
       "      <td>5</td>\n",
       "      <td>1997-10-05 09:05:40</td>\n",
       "      <td>40</td>\n",
       "      <td>M</td>\n",
       "      <td>programmer</td>\n",
       "      <td>93402</td>\n",
       "      <td>Star Trek: First Contact (1996)</td>\n",
       "      <td>1996.0</td>\n",
       "      <td>1990.0</td>\n",
       "      <td>Action</td>\n",
       "      <td>1997</td>\n",
       "    </tr>\n",
       "    <tr>\n",
       "      <th>...</th>\n",
       "      <td>...</td>\n",
       "      <td>...</td>\n",
       "      <td>...</td>\n",
       "      <td>...</td>\n",
       "      <td>...</td>\n",
       "      <td>...</td>\n",
       "      <td>...</td>\n",
       "      <td>...</td>\n",
       "      <td>...</td>\n",
       "      <td>...</td>\n",
       "      <td>...</td>\n",
       "      <td>...</td>\n",
       "      <td>...</td>\n",
       "    </tr>\n",
       "    <tr>\n",
       "      <th>46389</th>\n",
       "      <td>429</td>\n",
       "      <td>199</td>\n",
       "      <td>5</td>\n",
       "      <td>1997-12-17 19:13:26</td>\n",
       "      <td>27</td>\n",
       "      <td>M</td>\n",
       "      <td>student</td>\n",
       "      <td>29205</td>\n",
       "      <td>Bridge on the River Kwai, The (1957)</td>\n",
       "      <td>1957.0</td>\n",
       "      <td>1950.0</td>\n",
       "      <td>Drama</td>\n",
       "      <td>1997</td>\n",
       "    </tr>\n",
       "    <tr>\n",
       "      <th>46390</th>\n",
       "      <td>429</td>\n",
       "      <td>199</td>\n",
       "      <td>5</td>\n",
       "      <td>1997-12-17 19:13:26</td>\n",
       "      <td>27</td>\n",
       "      <td>M</td>\n",
       "      <td>student</td>\n",
       "      <td>29205</td>\n",
       "      <td>Bridge on the River Kwai, The (1957)</td>\n",
       "      <td>1957.0</td>\n",
       "      <td>1950.0</td>\n",
       "      <td>War</td>\n",
       "      <td>1997</td>\n",
       "    </tr>\n",
       "    <tr>\n",
       "      <th>46391</th>\n",
       "      <td>113</td>\n",
       "      <td>975</td>\n",
       "      <td>5</td>\n",
       "      <td>1997-10-04 03:40:24</td>\n",
       "      <td>47</td>\n",
       "      <td>M</td>\n",
       "      <td>executive</td>\n",
       "      <td>95032</td>\n",
       "      <td>Fear (1996)</td>\n",
       "      <td>1996.0</td>\n",
       "      <td>1990.0</td>\n",
       "      <td>Thriller</td>\n",
       "      <td>1997</td>\n",
       "    </tr>\n",
       "    <tr>\n",
       "      <th>46392</th>\n",
       "      <td>716</td>\n",
       "      <td>204</td>\n",
       "      <td>5</td>\n",
       "      <td>1997-11-17 19:39:03</td>\n",
       "      <td>36</td>\n",
       "      <td>F</td>\n",
       "      <td>administrator</td>\n",
       "      <td>44265</td>\n",
       "      <td>Back to the Future (1985)</td>\n",
       "      <td>1985.0</td>\n",
       "      <td>1980.0</td>\n",
       "      <td>Comedy</td>\n",
       "      <td>1997</td>\n",
       "    </tr>\n",
       "    <tr>\n",
       "      <th>46393</th>\n",
       "      <td>716</td>\n",
       "      <td>204</td>\n",
       "      <td>5</td>\n",
       "      <td>1997-11-17 19:39:03</td>\n",
       "      <td>36</td>\n",
       "      <td>F</td>\n",
       "      <td>administrator</td>\n",
       "      <td>44265</td>\n",
       "      <td>Back to the Future (1985)</td>\n",
       "      <td>1985.0</td>\n",
       "      <td>1980.0</td>\n",
       "      <td>Sci-Fi</td>\n",
       "      <td>1997</td>\n",
       "    </tr>\n",
       "  </tbody>\n",
       "</table>\n",
       "<p>46394 rows × 13 columns</p>\n",
       "</div>"
      ],
      "text/plain": [
       "       user_id  movie_id  rating            timestamp  age gender  \\\n",
       "0          253       465       5  1998-04-03 18:34:27   26      F   \n",
       "1          253       465       5  1998-04-03 18:34:27   26      F   \n",
       "2          253       465       5  1998-04-03 18:34:27   26      F   \n",
       "3          286      1014       5  1997-11-17 15:38:45   27      M   \n",
       "4          200       222       5  1997-10-05 09:05:40   40      M   \n",
       "...        ...       ...     ...                  ...  ...    ...   \n",
       "46389      429       199       5  1997-12-17 19:13:26   27      M   \n",
       "46390      429       199       5  1997-12-17 19:13:26   27      M   \n",
       "46391      113       975       5  1997-10-04 03:40:24   47      M   \n",
       "46392      716       204       5  1997-11-17 19:39:03   36      F   \n",
       "46393      716       204       5  1997-11-17 19:39:03   36      F   \n",
       "\n",
       "          occupation zip_code                                          title  \\\n",
       "0          librarian    22903                        Jungle Book, The (1994)   \n",
       "1          librarian    22903                        Jungle Book, The (1994)   \n",
       "2          librarian    22903                        Jungle Book, The (1994)   \n",
       "3            student    15217  Romy and Michele's High School Reunion (1997)   \n",
       "4         programmer    93402                Star Trek: First Contact (1996)   \n",
       "...              ...      ...                                            ...   \n",
       "46389        student    29205           Bridge on the River Kwai, The (1957)   \n",
       "46390        student    29205           Bridge on the River Kwai, The (1957)   \n",
       "46391      executive    95032                                    Fear (1996)   \n",
       "46392  administrator    44265                      Back to the Future (1985)   \n",
       "46393  administrator    44265                      Back to the Future (1985)   \n",
       "\n",
       "         year  decade     genres  rating_year  \n",
       "0      1994.0  1990.0  Adventure         1998  \n",
       "1      1994.0  1990.0   Children         1998  \n",
       "2      1994.0  1990.0    Romance         1998  \n",
       "3      1997.0  1990.0     Comedy         1997  \n",
       "4      1996.0  1990.0     Action         1997  \n",
       "...       ...     ...        ...          ...  \n",
       "46389  1957.0  1950.0      Drama         1997  \n",
       "46390  1957.0  1950.0        War         1997  \n",
       "46391  1996.0  1990.0   Thriller         1997  \n",
       "46392  1985.0  1980.0     Comedy         1997  \n",
       "46393  1985.0  1980.0     Sci-Fi         1997  \n",
       "\n",
       "[46394 rows x 13 columns]"
      ]
     },
     "execution_count": 82,
     "metadata": {},
     "output_type": "execute_result"
    }
   ],
   "source": [
    "top_ratings.reset_index(drop=True)\n"
   ]
  },
  {
   "cell_type": "code",
   "execution_count": 83,
   "id": "f08ea43f",
   "metadata": {},
   "outputs": [
    {
     "data": {
      "text/html": [
       "        <script type=\"text/javascript\">\n",
       "        window.PlotlyConfig = {MathJaxConfig: 'local'};\n",
       "        if (window.MathJax && window.MathJax.Hub && window.MathJax.Hub.Config) {window.MathJax.Hub.Config({SVG: {font: \"STIX-Web\"}});}\n",
       "        </script>\n",
       "        <script type=\"module\">import \"https://cdn.plot.ly/plotly-3.1.0.min\"</script>\n",
       "        "
      ]
     },
     "metadata": {},
     "output_type": "display_data"
    },
    {
     "data": {
      "text/html": [
       "<div>            <script src=\"https://cdnjs.cloudflare.com/ajax/libs/mathjax/2.7.5/MathJax.js?config=TeX-AMS-MML_SVG\"></script><script type=\"text/javascript\">if (window.MathJax && window.MathJax.Hub && window.MathJax.Hub.Config) {window.MathJax.Hub.Config({SVG: {font: \"STIX-Web\"}});}</script>                <script type=\"text/javascript\">window.PlotlyConfig = {MathJaxConfig: 'local'};</script>\n",
       "        <script charset=\"utf-8\" src=\"https://cdn.plot.ly/plotly-3.1.0.min.js\" integrity=\"sha256-Ei4740bWZhaUTQuD6q9yQlgVCMPBz6CZWhevDYPv93A=\" crossorigin=\"anonymous\"></script>                <div id=\"58a2d613-d77c-4868-82bc-2edb55c04e03\" class=\"plotly-graph-div\" style=\"height:525px; width:100%;\"></div>            <script type=\"text/javascript\">                window.PLOTLYENV=window.PLOTLYENV || {};                                if (document.getElementById(\"58a2d613-d77c-4868-82bc-2edb55c04e03\")) {                    Plotly.newPlot(                        \"58a2d613-d77c-4868-82bc-2edb55c04e03\",                        [{\"branchvalues\":\"total\",\"customdata\":{\"dtype\":\"f8\",\"bdata\":\"AAAAAICGw0AAAAAAAGi0QAAAAAAA77NAAAAAAADPsUAAAAAAANiwQAAAAAAAxKZAAAAAAADEpkAAAAAAAK6mQAAAAAAArJ5AAAAAAAAkk0AAAAAAAASTQAAAAAAAaJBAAAAAAABoi0AAAAAAAOCIQAAAAAAAgIFAAAAAAACgeEAAAAAAACBqQAAAAAAAAGZAAAAAAAAA8D8=\",\"shape\":\"19, 1\"},\"domain\":{\"x\":[0.0,1.0],\"y\":[0.0,1.0]},\"hovertemplate\":\"labels=%{label}\\u003cbr\\u003ecount_sum=%{value}\\u003cbr\\u003eparent=%{parent}\\u003cbr\\u003eid=%{id}\\u003cbr\\u003ecount=%{color}\\u003cextra\\u003e\\u003c\\u002fextra\\u003e\",\"ids\":[\"Drama\",\"Comedy\",\"Action\",\"Romance\",\"Thriller\",\"War\",\"Sci-Fi\",\"Adventure\",\"Crime\",\"Mystery\",\"Children\",\"Musical\",\"Horror\",\"Animation\",\"Film-Noir\",\"Western\",\"Documentary\",\"Fantasy\",\"unknown\"],\"labels\":[\"Drama\",\"Comedy\",\"Action\",\"Romance\",\"Thriller\",\"War\",\"Sci-Fi\",\"Adventure\",\"Crime\",\"Mystery\",\"Children\",\"Musical\",\"Horror\",\"Animation\",\"Film-Noir\",\"Western\",\"Documentary\",\"Fantasy\",\"unknown\"],\"marker\":{\"coloraxis\":\"coloraxis\",\"colors\":{\"dtype\":\"f8\",\"bdata\":\"AAAAAICGw0AAAAAAAGi0QAAAAAAA77NAAAAAAADPsUAAAAAAANiwQAAAAAAAxKZAAAAAAADEpkAAAAAAAK6mQAAAAAAArJ5AAAAAAAAkk0AAAAAAAASTQAAAAAAAaJBAAAAAAABoi0AAAAAAAOCIQAAAAAAAgIFAAAAAAACgeEAAAAAAACBqQAAAAAAAAGZAAAAAAAAA8D8=\"}},\"name\":\"\",\"parents\":[\"\",\"\",\"\",\"\",\"\",\"\",\"\",\"\",\"\",\"\",\"\",\"\",\"\",\"\",\"\",\"\",\"\",\"\",\"\"],\"values\":{\"dtype\":\"f8\",\"bdata\":\"AAAAAICGw0AAAAAAAGi0QAAAAAAA77NAAAAAAADPsUAAAAAAANiwQAAAAAAAxKZAAAAAAADEpkAAAAAAAK6mQAAAAAAArJ5AAAAAAAAkk0AAAAAAAASTQAAAAAAAaJBAAAAAAABoi0AAAAAAAOCIQAAAAAAAgIFAAAAAAACgeEAAAAAAACBqQAAAAAAAAGZAAAAAAAAA8D8=\"},\"type\":\"treemap\"}],                        {\"template\":{\"data\":{\"barpolar\":[{\"marker\":{\"line\":{\"color\":\"rgb(17,17,17)\",\"width\":0.5},\"pattern\":{\"fillmode\":\"overlay\",\"size\":10,\"solidity\":0.2}},\"type\":\"barpolar\"}],\"bar\":[{\"error_x\":{\"color\":\"#f2f5fa\"},\"error_y\":{\"color\":\"#f2f5fa\"},\"marker\":{\"line\":{\"color\":\"rgb(17,17,17)\",\"width\":0.5},\"pattern\":{\"fillmode\":\"overlay\",\"size\":10,\"solidity\":0.2}},\"type\":\"bar\"}],\"carpet\":[{\"aaxis\":{\"endlinecolor\":\"#A2B1C6\",\"gridcolor\":\"#506784\",\"linecolor\":\"#506784\",\"minorgridcolor\":\"#506784\",\"startlinecolor\":\"#A2B1C6\"},\"baxis\":{\"endlinecolor\":\"#A2B1C6\",\"gridcolor\":\"#506784\",\"linecolor\":\"#506784\",\"minorgridcolor\":\"#506784\",\"startlinecolor\":\"#A2B1C6\"},\"type\":\"carpet\"}],\"choropleth\":[{\"colorbar\":{\"outlinewidth\":0,\"ticks\":\"\"},\"type\":\"choropleth\"}],\"contourcarpet\":[{\"colorbar\":{\"outlinewidth\":0,\"ticks\":\"\"},\"type\":\"contourcarpet\"}],\"contour\":[{\"colorbar\":{\"outlinewidth\":0,\"ticks\":\"\"},\"colorscale\":[[0.0,\"#0d0887\"],[0.1111111111111111,\"#46039f\"],[0.2222222222222222,\"#7201a8\"],[0.3333333333333333,\"#9c179e\"],[0.4444444444444444,\"#bd3786\"],[0.5555555555555556,\"#d8576b\"],[0.6666666666666666,\"#ed7953\"],[0.7777777777777778,\"#fb9f3a\"],[0.8888888888888888,\"#fdca26\"],[1.0,\"#f0f921\"]],\"type\":\"contour\"}],\"heatmap\":[{\"colorbar\":{\"outlinewidth\":0,\"ticks\":\"\"},\"colorscale\":[[0.0,\"#0d0887\"],[0.1111111111111111,\"#46039f\"],[0.2222222222222222,\"#7201a8\"],[0.3333333333333333,\"#9c179e\"],[0.4444444444444444,\"#bd3786\"],[0.5555555555555556,\"#d8576b\"],[0.6666666666666666,\"#ed7953\"],[0.7777777777777778,\"#fb9f3a\"],[0.8888888888888888,\"#fdca26\"],[1.0,\"#f0f921\"]],\"type\":\"heatmap\"}],\"histogram2dcontour\":[{\"colorbar\":{\"outlinewidth\":0,\"ticks\":\"\"},\"colorscale\":[[0.0,\"#0d0887\"],[0.1111111111111111,\"#46039f\"],[0.2222222222222222,\"#7201a8\"],[0.3333333333333333,\"#9c179e\"],[0.4444444444444444,\"#bd3786\"],[0.5555555555555556,\"#d8576b\"],[0.6666666666666666,\"#ed7953\"],[0.7777777777777778,\"#fb9f3a\"],[0.8888888888888888,\"#fdca26\"],[1.0,\"#f0f921\"]],\"type\":\"histogram2dcontour\"}],\"histogram2d\":[{\"colorbar\":{\"outlinewidth\":0,\"ticks\":\"\"},\"colorscale\":[[0.0,\"#0d0887\"],[0.1111111111111111,\"#46039f\"],[0.2222222222222222,\"#7201a8\"],[0.3333333333333333,\"#9c179e\"],[0.4444444444444444,\"#bd3786\"],[0.5555555555555556,\"#d8576b\"],[0.6666666666666666,\"#ed7953\"],[0.7777777777777778,\"#fb9f3a\"],[0.8888888888888888,\"#fdca26\"],[1.0,\"#f0f921\"]],\"type\":\"histogram2d\"}],\"histogram\":[{\"marker\":{\"pattern\":{\"fillmode\":\"overlay\",\"size\":10,\"solidity\":0.2}},\"type\":\"histogram\"}],\"mesh3d\":[{\"colorbar\":{\"outlinewidth\":0,\"ticks\":\"\"},\"type\":\"mesh3d\"}],\"parcoords\":[{\"line\":{\"colorbar\":{\"outlinewidth\":0,\"ticks\":\"\"}},\"type\":\"parcoords\"}],\"pie\":[{\"automargin\":true,\"type\":\"pie\"}],\"scatter3d\":[{\"line\":{\"colorbar\":{\"outlinewidth\":0,\"ticks\":\"\"}},\"marker\":{\"colorbar\":{\"outlinewidth\":0,\"ticks\":\"\"}},\"type\":\"scatter3d\"}],\"scattercarpet\":[{\"marker\":{\"colorbar\":{\"outlinewidth\":0,\"ticks\":\"\"}},\"type\":\"scattercarpet\"}],\"scattergeo\":[{\"marker\":{\"colorbar\":{\"outlinewidth\":0,\"ticks\":\"\"}},\"type\":\"scattergeo\"}],\"scattergl\":[{\"marker\":{\"line\":{\"color\":\"#283442\"}},\"type\":\"scattergl\"}],\"scattermapbox\":[{\"marker\":{\"colorbar\":{\"outlinewidth\":0,\"ticks\":\"\"}},\"type\":\"scattermapbox\"}],\"scattermap\":[{\"marker\":{\"colorbar\":{\"outlinewidth\":0,\"ticks\":\"\"}},\"type\":\"scattermap\"}],\"scatterpolargl\":[{\"marker\":{\"colorbar\":{\"outlinewidth\":0,\"ticks\":\"\"}},\"type\":\"scatterpolargl\"}],\"scatterpolar\":[{\"marker\":{\"colorbar\":{\"outlinewidth\":0,\"ticks\":\"\"}},\"type\":\"scatterpolar\"}],\"scatter\":[{\"marker\":{\"line\":{\"color\":\"#283442\"}},\"type\":\"scatter\"}],\"scatterternary\":[{\"marker\":{\"colorbar\":{\"outlinewidth\":0,\"ticks\":\"\"}},\"type\":\"scatterternary\"}],\"surface\":[{\"colorbar\":{\"outlinewidth\":0,\"ticks\":\"\"},\"colorscale\":[[0.0,\"#0d0887\"],[0.1111111111111111,\"#46039f\"],[0.2222222222222222,\"#7201a8\"],[0.3333333333333333,\"#9c179e\"],[0.4444444444444444,\"#bd3786\"],[0.5555555555555556,\"#d8576b\"],[0.6666666666666666,\"#ed7953\"],[0.7777777777777778,\"#fb9f3a\"],[0.8888888888888888,\"#fdca26\"],[1.0,\"#f0f921\"]],\"type\":\"surface\"}],\"table\":[{\"cells\":{\"fill\":{\"color\":\"#506784\"},\"line\":{\"color\":\"rgb(17,17,17)\"}},\"header\":{\"fill\":{\"color\":\"#2a3f5f\"},\"line\":{\"color\":\"rgb(17,17,17)\"}},\"type\":\"table\"}]},\"layout\":{\"annotationdefaults\":{\"arrowcolor\":\"#f2f5fa\",\"arrowhead\":0,\"arrowwidth\":1},\"autotypenumbers\":\"strict\",\"coloraxis\":{\"colorbar\":{\"outlinewidth\":0,\"ticks\":\"\"}},\"colorscale\":{\"diverging\":[[0,\"#8e0152\"],[0.1,\"#c51b7d\"],[0.2,\"#de77ae\"],[0.3,\"#f1b6da\"],[0.4,\"#fde0ef\"],[0.5,\"#f7f7f7\"],[0.6,\"#e6f5d0\"],[0.7,\"#b8e186\"],[0.8,\"#7fbc41\"],[0.9,\"#4d9221\"],[1,\"#276419\"]],\"sequential\":[[0.0,\"#0d0887\"],[0.1111111111111111,\"#46039f\"],[0.2222222222222222,\"#7201a8\"],[0.3333333333333333,\"#9c179e\"],[0.4444444444444444,\"#bd3786\"],[0.5555555555555556,\"#d8576b\"],[0.6666666666666666,\"#ed7953\"],[0.7777777777777778,\"#fb9f3a\"],[0.8888888888888888,\"#fdca26\"],[1.0,\"#f0f921\"]],\"sequentialminus\":[[0.0,\"#0d0887\"],[0.1111111111111111,\"#46039f\"],[0.2222222222222222,\"#7201a8\"],[0.3333333333333333,\"#9c179e\"],[0.4444444444444444,\"#bd3786\"],[0.5555555555555556,\"#d8576b\"],[0.6666666666666666,\"#ed7953\"],[0.7777777777777778,\"#fb9f3a\"],[0.8888888888888888,\"#fdca26\"],[1.0,\"#f0f921\"]]},\"colorway\":[\"#636efa\",\"#EF553B\",\"#00cc96\",\"#ab63fa\",\"#FFA15A\",\"#19d3f3\",\"#FF6692\",\"#B6E880\",\"#FF97FF\",\"#FECB52\"],\"font\":{\"color\":\"#f2f5fa\"},\"geo\":{\"bgcolor\":\"rgb(17,17,17)\",\"lakecolor\":\"rgb(17,17,17)\",\"landcolor\":\"rgb(17,17,17)\",\"showlakes\":true,\"showland\":true,\"subunitcolor\":\"#506784\"},\"hoverlabel\":{\"align\":\"left\"},\"hovermode\":\"closest\",\"mapbox\":{\"style\":\"dark\"},\"paper_bgcolor\":\"rgb(17,17,17)\",\"plot_bgcolor\":\"rgb(17,17,17)\",\"polar\":{\"angularaxis\":{\"gridcolor\":\"#506784\",\"linecolor\":\"#506784\",\"ticks\":\"\"},\"bgcolor\":\"rgb(17,17,17)\",\"radialaxis\":{\"gridcolor\":\"#506784\",\"linecolor\":\"#506784\",\"ticks\":\"\"}},\"scene\":{\"xaxis\":{\"backgroundcolor\":\"rgb(17,17,17)\",\"gridcolor\":\"#506784\",\"gridwidth\":2,\"linecolor\":\"#506784\",\"showbackground\":true,\"ticks\":\"\",\"zerolinecolor\":\"#C8D4E3\"},\"yaxis\":{\"backgroundcolor\":\"rgb(17,17,17)\",\"gridcolor\":\"#506784\",\"gridwidth\":2,\"linecolor\":\"#506784\",\"showbackground\":true,\"ticks\":\"\",\"zerolinecolor\":\"#C8D4E3\"},\"zaxis\":{\"backgroundcolor\":\"rgb(17,17,17)\",\"gridcolor\":\"#506784\",\"gridwidth\":2,\"linecolor\":\"#506784\",\"showbackground\":true,\"ticks\":\"\",\"zerolinecolor\":\"#C8D4E3\"}},\"shapedefaults\":{\"line\":{\"color\":\"#f2f5fa\"}},\"sliderdefaults\":{\"bgcolor\":\"#C8D4E3\",\"bordercolor\":\"rgb(17,17,17)\",\"borderwidth\":1,\"tickwidth\":0},\"ternary\":{\"aaxis\":{\"gridcolor\":\"#506784\",\"linecolor\":\"#506784\",\"ticks\":\"\"},\"baxis\":{\"gridcolor\":\"#506784\",\"linecolor\":\"#506784\",\"ticks\":\"\"},\"bgcolor\":\"rgb(17,17,17)\",\"caxis\":{\"gridcolor\":\"#506784\",\"linecolor\":\"#506784\",\"ticks\":\"\"}},\"title\":{\"x\":0.05},\"updatemenudefaults\":{\"bgcolor\":\"#506784\",\"borderwidth\":0},\"xaxis\":{\"automargin\":true,\"gridcolor\":\"#283442\",\"linecolor\":\"#506784\",\"ticks\":\"\",\"title\":{\"standoff\":15},\"zerolinecolor\":\"#283442\",\"zerolinewidth\":2},\"yaxis\":{\"automargin\":true,\"gridcolor\":\"#283442\",\"linecolor\":\"#506784\",\"ticks\":\"\",\"title\":{\"standoff\":15},\"zerolinecolor\":\"#283442\",\"zerolinewidth\":2}}},\"coloraxis\":{\"colorbar\":{\"title\":{\"text\":\"count\"}},\"colorscale\":[[0.0,\"#0d0887\"],[0.1111111111111111,\"#46039f\"],[0.2222222222222222,\"#7201a8\"],[0.3333333333333333,\"#9c179e\"],[0.4444444444444444,\"#bd3786\"],[0.5555555555555556,\"#d8576b\"],[0.6666666666666666,\"#ed7953\"],[0.7777777777777778,\"#fb9f3a\"],[0.8888888888888888,\"#fdca26\"],[1.0,\"#f0f921\"]]},\"legend\":{\"tracegroupgap\":0},\"title\":{\"text\":\"5-Star Ratings Distribution Across Genres\"},\"font\":{\"color\":\"white\"}},                        {\"responsive\": true}                    ).then(function(){\n",
       "                            \n",
       "var gd = document.getElementById('58a2d613-d77c-4868-82bc-2edb55c04e03');\n",
       "var x = new MutationObserver(function (mutations, observer) {{\n",
       "        var display = window.getComputedStyle(gd).display;\n",
       "        if (!display || display === 'none') {{\n",
       "            console.log([gd, 'removed!']);\n",
       "            Plotly.purge(gd);\n",
       "            observer.disconnect();\n",
       "        }}\n",
       "}});\n",
       "\n",
       "// Listen for the removal of the full notebook cells\n",
       "var notebookContainer = gd.closest('#notebook-container');\n",
       "if (notebookContainer) {{\n",
       "    x.observe(notebookContainer, {childList: true});\n",
       "}}\n",
       "\n",
       "// Listen for the clearing of the current output cell\n",
       "var outputEl = gd.closest('.output');\n",
       "if (outputEl) {{\n",
       "    x.observe(outputEl, {childList: true});\n",
       "}}\n",
       "\n",
       "                        })                };            </script>        </div>"
      ]
     },
     "metadata": {},
     "output_type": "display_data"
    }
   ],
   "source": [
    "\n",
    "# Filter for 5-star ratings\n",
    "top_ratings = df[df[\"rating\"] == 5].reset_index(drop=True)\n",
    "\n",
    "# Count number of 5-star ratings per genre\n",
    "genre_counts = top_ratings[\"genres\"].value_counts().reset_index()\n",
    "genre_counts.columns = [\"genres\", \"count\"]\n",
    "\n",
    "# Create treemap\n",
    "fig = px.treemap(\n",
    "    genre_counts,\n",
    "    path=[\"genres\"],  # hierarchy: just genre\n",
    "    values=\"count\",  # size of each rectangle = number of 5-star ratings\n",
    "    color=\"count\",  # color by number of 5-star ratings\n",
    "    color_continuous_scale=\"Plasma\",  # bright for dark background\n",
    "    title=\"5-Star Ratings Distribution Across Genres\",\n",
    ")\n",
    "\n",
    "# Dark background\n",
    "fig.update_layout(template=\"plotly_dark\", font=dict(color=\"white\"))\n",
    "\n",
    "fig.show(renderer=\"notebook_connected\")\n"
   ]
  },
  {
   "cell_type": "code",
   "execution_count": 93,
   "id": "21d3ca20",
   "metadata": {},
   "outputs": [
    {
     "data": {
      "text/plain": [
       "np.float64(1998.0)"
      ]
     },
     "execution_count": 93,
     "metadata": {},
     "output_type": "execute_result"
    }
   ],
   "source": [
    "#question 3\n",
    "\n",
    "df['year'].max()"
   ]
  },
  {
   "cell_type": "code",
   "execution_count": 96,
   "id": "bcfe6959",
   "metadata": {},
   "outputs": [
    {
     "data": {
      "application/vnd.plotly.v1+json": {
       "config": {
        "plotlyServerURL": "https://plot.ly"
       },
       "data": [
        {
         "hovertemplate": "year=%{x}<br>rating=%{y}<extra></extra>",
         "legendgroup": "",
         "line": {
          "color": "#636efa",
          "dash": "solid"
         },
         "marker": {
          "symbol": "circle"
         },
         "mode": "lines+markers",
         "name": "",
         "orientation": "v",
         "showlegend": false,
         "type": "scatter",
         "x": {
          "bdata": "AAAAAAAInkAAAAAAABieQAAAAAAAKJ5AAAAAAAAsnkAAAAAAADCeQAAAAAAANJ5AAAAAAAA4nkAAAAAAADyeQAAAAAAAQJ5AAAAAAABEnkAAAAAAAEieQAAAAAAATJ5AAAAAAABQnkAAAAAAAFSeQAAAAAAAWJ5AAAAAAABcnkAAAAAAAGCeQAAAAAAAZJ5AAAAAAABonkAAAAAAAGyeQAAAAAAAcJ5AAAAAAAB0nkAAAAAAAHieQAAAAAAAfJ5AAAAAAACAnkAAAAAAAISeQAAAAAAAiJ5AAAAAAACMnkAAAAAAAJCeQAAAAAAAlJ5AAAAAAACYnkAAAAAAAJyeQAAAAAAAoJ5AAAAAAACknkAAAAAAAKieQAAAAAAArJ5AAAAAAACwnkAAAAAAALSeQAAAAAAAuJ5AAAAAAAC8nkAAAAAAAMCeQAAAAAAAxJ5AAAAAAADInkAAAAAAAMyeQAAAAAAA0J5AAAAAAADUnkAAAAAAANieQAAAAAAA3J5AAAAAAADgnkAAAAAAAOSeQAAAAAAA6J5AAAAAAADsnkAAAAAAAPCeQAAAAAAA9J5AAAAAAAD4nkAAAAAAAPyeQAAAAAAAAJ9AAAAAAAAEn0AAAAAAAAifQAAAAAAADJ9AAAAAAAAQn0AAAAAAABSfQAAAAAAAGJ9AAAAAAAAcn0AAAAAAACCfQAAAAAAAJJ9AAAAAAAAon0AAAAAAACyfQAAAAAAAMJ9AAAAAAAA0n0AAAAAAADifQA==",
          "dtype": "f8"
         },
         "xaxis": "x",
         "y": {
          "bdata": "HMdxHMdxDEAAAAAAAAAIQI7jOI7jOA5AAAAAAAAAEECrqqqqqqoOQN/HavYk3w9AAAAAAAAAEEDIHKXbV1YPQHZiJ3ZiJw5A/iZ/k7/JDUAZuhWHf/cOQAAAAAAAABBAAP3qbPrYDkBvIDRvIDQPQCgrxNgHmBFA7+7u7u7uDkBUqFChQgUQQM9VLBvfDA1A7RZ+NSZSEEDlUi7lUi4NQJIkSZIkSRBAMOgL+oK+EEBbf3tgo3cNQJhg8QQ40A9A11prrbUWEEDH1MDeMTUQQJRJqrVrzA9Az/M8z/M8D0AqLhmCdbQNQBw2TSxUBhBAMms4EPvUDkA/iTWvVM8PQB6Px+PxeA9AsrGxsbGxC0CF61G4HoUQQACPw9MpsQ9AlLovj60IDkCBtQLWClgLQFH8Rc6w4A5A3ZPLHj38D0B9QV/QF7QOQAzi9PMydw5AsK+vr6+vDkCNjIyMjAwNQKrV/LcZCRFAncnD2CZ0D0DYKSWe0yMQQNRAo5NoPw5AZIIkXNyZDkAYkm4OP+QQQASyOkuP+ApAf2YDd0V/DkDzYN4PuR4QQBwZg46b8w1A9Bn6DH0GDkAqOOyfv6IPQKw3MDWHUA5AWmyc2l22DkCrU7E6FasNQNij13YGkg5AYU/YE/aEDUCcooyAU5QNQBrIFMmFlAxASduRtSBiDkDvazZyTXELQFKjRLOuGAxA6cM59KBpC0DaEjarM4wLQMePuOFTfwpAovutbUSaCkCXlpaWlpYKQA==",
          "dtype": "f8"
         },
         "yaxis": "y"
        }
       ],
       "layout": {
        "font": {
         "color": "white"
        },
        "legend": {
         "tracegroupgap": 0
        },
        "template": {
         "data": {
          "bar": [
           {
            "error_x": {
             "color": "#f2f5fa"
            },
            "error_y": {
             "color": "#f2f5fa"
            },
            "marker": {
             "line": {
              "color": "rgb(17,17,17)",
              "width": 0.5
             },
             "pattern": {
              "fillmode": "overlay",
              "size": 10,
              "solidity": 0.2
             }
            },
            "type": "bar"
           }
          ],
          "barpolar": [
           {
            "marker": {
             "line": {
              "color": "rgb(17,17,17)",
              "width": 0.5
             },
             "pattern": {
              "fillmode": "overlay",
              "size": 10,
              "solidity": 0.2
             }
            },
            "type": "barpolar"
           }
          ],
          "carpet": [
           {
            "aaxis": {
             "endlinecolor": "#A2B1C6",
             "gridcolor": "#506784",
             "linecolor": "#506784",
             "minorgridcolor": "#506784",
             "startlinecolor": "#A2B1C6"
            },
            "baxis": {
             "endlinecolor": "#A2B1C6",
             "gridcolor": "#506784",
             "linecolor": "#506784",
             "minorgridcolor": "#506784",
             "startlinecolor": "#A2B1C6"
            },
            "type": "carpet"
           }
          ],
          "choropleth": [
           {
            "colorbar": {
             "outlinewidth": 0,
             "ticks": ""
            },
            "type": "choropleth"
           }
          ],
          "contour": [
           {
            "colorbar": {
             "outlinewidth": 0,
             "ticks": ""
            },
            "colorscale": [
             [
              0,
              "#0d0887"
             ],
             [
              0.1111111111111111,
              "#46039f"
             ],
             [
              0.2222222222222222,
              "#7201a8"
             ],
             [
              0.3333333333333333,
              "#9c179e"
             ],
             [
              0.4444444444444444,
              "#bd3786"
             ],
             [
              0.5555555555555556,
              "#d8576b"
             ],
             [
              0.6666666666666666,
              "#ed7953"
             ],
             [
              0.7777777777777778,
              "#fb9f3a"
             ],
             [
              0.8888888888888888,
              "#fdca26"
             ],
             [
              1,
              "#f0f921"
             ]
            ],
            "type": "contour"
           }
          ],
          "contourcarpet": [
           {
            "colorbar": {
             "outlinewidth": 0,
             "ticks": ""
            },
            "type": "contourcarpet"
           }
          ],
          "heatmap": [
           {
            "colorbar": {
             "outlinewidth": 0,
             "ticks": ""
            },
            "colorscale": [
             [
              0,
              "#0d0887"
             ],
             [
              0.1111111111111111,
              "#46039f"
             ],
             [
              0.2222222222222222,
              "#7201a8"
             ],
             [
              0.3333333333333333,
              "#9c179e"
             ],
             [
              0.4444444444444444,
              "#bd3786"
             ],
             [
              0.5555555555555556,
              "#d8576b"
             ],
             [
              0.6666666666666666,
              "#ed7953"
             ],
             [
              0.7777777777777778,
              "#fb9f3a"
             ],
             [
              0.8888888888888888,
              "#fdca26"
             ],
             [
              1,
              "#f0f921"
             ]
            ],
            "type": "heatmap"
           }
          ],
          "histogram": [
           {
            "marker": {
             "pattern": {
              "fillmode": "overlay",
              "size": 10,
              "solidity": 0.2
             }
            },
            "type": "histogram"
           }
          ],
          "histogram2d": [
           {
            "colorbar": {
             "outlinewidth": 0,
             "ticks": ""
            },
            "colorscale": [
             [
              0,
              "#0d0887"
             ],
             [
              0.1111111111111111,
              "#46039f"
             ],
             [
              0.2222222222222222,
              "#7201a8"
             ],
             [
              0.3333333333333333,
              "#9c179e"
             ],
             [
              0.4444444444444444,
              "#bd3786"
             ],
             [
              0.5555555555555556,
              "#d8576b"
             ],
             [
              0.6666666666666666,
              "#ed7953"
             ],
             [
              0.7777777777777778,
              "#fb9f3a"
             ],
             [
              0.8888888888888888,
              "#fdca26"
             ],
             [
              1,
              "#f0f921"
             ]
            ],
            "type": "histogram2d"
           }
          ],
          "histogram2dcontour": [
           {
            "colorbar": {
             "outlinewidth": 0,
             "ticks": ""
            },
            "colorscale": [
             [
              0,
              "#0d0887"
             ],
             [
              0.1111111111111111,
              "#46039f"
             ],
             [
              0.2222222222222222,
              "#7201a8"
             ],
             [
              0.3333333333333333,
              "#9c179e"
             ],
             [
              0.4444444444444444,
              "#bd3786"
             ],
             [
              0.5555555555555556,
              "#d8576b"
             ],
             [
              0.6666666666666666,
              "#ed7953"
             ],
             [
              0.7777777777777778,
              "#fb9f3a"
             ],
             [
              0.8888888888888888,
              "#fdca26"
             ],
             [
              1,
              "#f0f921"
             ]
            ],
            "type": "histogram2dcontour"
           }
          ],
          "mesh3d": [
           {
            "colorbar": {
             "outlinewidth": 0,
             "ticks": ""
            },
            "type": "mesh3d"
           }
          ],
          "parcoords": [
           {
            "line": {
             "colorbar": {
              "outlinewidth": 0,
              "ticks": ""
             }
            },
            "type": "parcoords"
           }
          ],
          "pie": [
           {
            "automargin": true,
            "type": "pie"
           }
          ],
          "scatter": [
           {
            "marker": {
             "line": {
              "color": "#283442"
             }
            },
            "type": "scatter"
           }
          ],
          "scatter3d": [
           {
            "line": {
             "colorbar": {
              "outlinewidth": 0,
              "ticks": ""
             }
            },
            "marker": {
             "colorbar": {
              "outlinewidth": 0,
              "ticks": ""
             }
            },
            "type": "scatter3d"
           }
          ],
          "scattercarpet": [
           {
            "marker": {
             "colorbar": {
              "outlinewidth": 0,
              "ticks": ""
             }
            },
            "type": "scattercarpet"
           }
          ],
          "scattergeo": [
           {
            "marker": {
             "colorbar": {
              "outlinewidth": 0,
              "ticks": ""
             }
            },
            "type": "scattergeo"
           }
          ],
          "scattergl": [
           {
            "marker": {
             "line": {
              "color": "#283442"
             }
            },
            "type": "scattergl"
           }
          ],
          "scattermap": [
           {
            "marker": {
             "colorbar": {
              "outlinewidth": 0,
              "ticks": ""
             }
            },
            "type": "scattermap"
           }
          ],
          "scattermapbox": [
           {
            "marker": {
             "colorbar": {
              "outlinewidth": 0,
              "ticks": ""
             }
            },
            "type": "scattermapbox"
           }
          ],
          "scatterpolar": [
           {
            "marker": {
             "colorbar": {
              "outlinewidth": 0,
              "ticks": ""
             }
            },
            "type": "scatterpolar"
           }
          ],
          "scatterpolargl": [
           {
            "marker": {
             "colorbar": {
              "outlinewidth": 0,
              "ticks": ""
             }
            },
            "type": "scatterpolargl"
           }
          ],
          "scatterternary": [
           {
            "marker": {
             "colorbar": {
              "outlinewidth": 0,
              "ticks": ""
             }
            },
            "type": "scatterternary"
           }
          ],
          "surface": [
           {
            "colorbar": {
             "outlinewidth": 0,
             "ticks": ""
            },
            "colorscale": [
             [
              0,
              "#0d0887"
             ],
             [
              0.1111111111111111,
              "#46039f"
             ],
             [
              0.2222222222222222,
              "#7201a8"
             ],
             [
              0.3333333333333333,
              "#9c179e"
             ],
             [
              0.4444444444444444,
              "#bd3786"
             ],
             [
              0.5555555555555556,
              "#d8576b"
             ],
             [
              0.6666666666666666,
              "#ed7953"
             ],
             [
              0.7777777777777778,
              "#fb9f3a"
             ],
             [
              0.8888888888888888,
              "#fdca26"
             ],
             [
              1,
              "#f0f921"
             ]
            ],
            "type": "surface"
           }
          ],
          "table": [
           {
            "cells": {
             "fill": {
              "color": "#506784"
             },
             "line": {
              "color": "rgb(17,17,17)"
             }
            },
            "header": {
             "fill": {
              "color": "#2a3f5f"
             },
             "line": {
              "color": "rgb(17,17,17)"
             }
            },
            "type": "table"
           }
          ]
         },
         "layout": {
          "annotationdefaults": {
           "arrowcolor": "#f2f5fa",
           "arrowhead": 0,
           "arrowwidth": 1
          },
          "autotypenumbers": "strict",
          "coloraxis": {
           "colorbar": {
            "outlinewidth": 0,
            "ticks": ""
           }
          },
          "colorscale": {
           "diverging": [
            [
             0,
             "#8e0152"
            ],
            [
             0.1,
             "#c51b7d"
            ],
            [
             0.2,
             "#de77ae"
            ],
            [
             0.3,
             "#f1b6da"
            ],
            [
             0.4,
             "#fde0ef"
            ],
            [
             0.5,
             "#f7f7f7"
            ],
            [
             0.6,
             "#e6f5d0"
            ],
            [
             0.7,
             "#b8e186"
            ],
            [
             0.8,
             "#7fbc41"
            ],
            [
             0.9,
             "#4d9221"
            ],
            [
             1,
             "#276419"
            ]
           ],
           "sequential": [
            [
             0,
             "#0d0887"
            ],
            [
             0.1111111111111111,
             "#46039f"
            ],
            [
             0.2222222222222222,
             "#7201a8"
            ],
            [
             0.3333333333333333,
             "#9c179e"
            ],
            [
             0.4444444444444444,
             "#bd3786"
            ],
            [
             0.5555555555555556,
             "#d8576b"
            ],
            [
             0.6666666666666666,
             "#ed7953"
            ],
            [
             0.7777777777777778,
             "#fb9f3a"
            ],
            [
             0.8888888888888888,
             "#fdca26"
            ],
            [
             1,
             "#f0f921"
            ]
           ],
           "sequentialminus": [
            [
             0,
             "#0d0887"
            ],
            [
             0.1111111111111111,
             "#46039f"
            ],
            [
             0.2222222222222222,
             "#7201a8"
            ],
            [
             0.3333333333333333,
             "#9c179e"
            ],
            [
             0.4444444444444444,
             "#bd3786"
            ],
            [
             0.5555555555555556,
             "#d8576b"
            ],
            [
             0.6666666666666666,
             "#ed7953"
            ],
            [
             0.7777777777777778,
             "#fb9f3a"
            ],
            [
             0.8888888888888888,
             "#fdca26"
            ],
            [
             1,
             "#f0f921"
            ]
           ]
          },
          "colorway": [
           "#636efa",
           "#EF553B",
           "#00cc96",
           "#ab63fa",
           "#FFA15A",
           "#19d3f3",
           "#FF6692",
           "#B6E880",
           "#FF97FF",
           "#FECB52"
          ],
          "font": {
           "color": "#f2f5fa"
          },
          "geo": {
           "bgcolor": "rgb(17,17,17)",
           "lakecolor": "rgb(17,17,17)",
           "landcolor": "rgb(17,17,17)",
           "showlakes": true,
           "showland": true,
           "subunitcolor": "#506784"
          },
          "hoverlabel": {
           "align": "left"
          },
          "hovermode": "closest",
          "mapbox": {
           "style": "dark"
          },
          "paper_bgcolor": "rgb(17,17,17)",
          "plot_bgcolor": "rgb(17,17,17)",
          "polar": {
           "angularaxis": {
            "gridcolor": "#506784",
            "linecolor": "#506784",
            "ticks": ""
           },
           "bgcolor": "rgb(17,17,17)",
           "radialaxis": {
            "gridcolor": "#506784",
            "linecolor": "#506784",
            "ticks": ""
           }
          },
          "scene": {
           "xaxis": {
            "backgroundcolor": "rgb(17,17,17)",
            "gridcolor": "#506784",
            "gridwidth": 2,
            "linecolor": "#506784",
            "showbackground": true,
            "ticks": "",
            "zerolinecolor": "#C8D4E3"
           },
           "yaxis": {
            "backgroundcolor": "rgb(17,17,17)",
            "gridcolor": "#506784",
            "gridwidth": 2,
            "linecolor": "#506784",
            "showbackground": true,
            "ticks": "",
            "zerolinecolor": "#C8D4E3"
           },
           "zaxis": {
            "backgroundcolor": "rgb(17,17,17)",
            "gridcolor": "#506784",
            "gridwidth": 2,
            "linecolor": "#506784",
            "showbackground": true,
            "ticks": "",
            "zerolinecolor": "#C8D4E3"
           }
          },
          "shapedefaults": {
           "line": {
            "color": "#f2f5fa"
           }
          },
          "sliderdefaults": {
           "bgcolor": "#C8D4E3",
           "bordercolor": "rgb(17,17,17)",
           "borderwidth": 1,
           "tickwidth": 0
          },
          "ternary": {
           "aaxis": {
            "gridcolor": "#506784",
            "linecolor": "#506784",
            "ticks": ""
           },
           "baxis": {
            "gridcolor": "#506784",
            "linecolor": "#506784",
            "ticks": ""
           },
           "bgcolor": "rgb(17,17,17)",
           "caxis": {
            "gridcolor": "#506784",
            "linecolor": "#506784",
            "ticks": ""
           }
          },
          "title": {
           "x": 0.05
          },
          "updatemenudefaults": {
           "bgcolor": "#506784",
           "borderwidth": 0
          },
          "xaxis": {
           "automargin": true,
           "gridcolor": "#283442",
           "linecolor": "#506784",
           "ticks": "",
           "title": {
            "standoff": 15
           },
           "zerolinecolor": "#283442",
           "zerolinewidth": 2
          },
          "yaxis": {
           "automargin": true,
           "gridcolor": "#283442",
           "linecolor": "#506784",
           "ticks": "",
           "title": {
            "standoff": 15
           },
           "zerolinecolor": "#283442",
           "zerolinewidth": 2
          }
         }
        },
        "title": {
         "text": "Mean Movie Rating by Release Year"
        },
        "xaxis": {
         "anchor": "y",
         "domain": [
          0,
          1
         ],
         "title": {
          "text": "year"
         }
        },
        "yaxis": {
         "anchor": "x",
         "domain": [
          0,
          1
         ],
         "title": {
          "text": "rating"
         }
        }
       }
      }
     },
     "metadata": {},
     "output_type": "display_data"
    }
   ],
   "source": [
    "# Aggregate: mean rating per movie release year\n",
    "mean_ratings = df.groupby(\"year\")[\"rating\"].mean().reset_index()\n",
    "fig = px.line(\n",
    "    mean_ratings,\n",
    "    x=\"year\",\n",
    "    y=\"rating\",\n",
    "    title=\"Mean Movie Rating by Release Year\",\n",
    "    markers=True,  # show dots for each year\n",
    ")\n",
    "\n",
    "# Dark theme\n",
    "fig.update_layout(template=\"plotly_dark\", font=dict(color=\"white\"))\n",
    "\n",
    "fig.show()\n"
   ]
  },
  {
   "cell_type": "code",
   "execution_count": null,
   "id": "593ffff4",
   "metadata": {},
   "outputs": [
    {
     "name": "stdout",
     "output_type": "stream",
     "text": [
      "32        3\n",
      "33        3\n",
      "34        3\n",
      "35        3\n",
      "36        3\n",
      "         ..\n",
      "212503    3\n",
      "212504    3\n",
      "212505    3\n",
      "212531    2\n",
      "212534    3\n",
      "Name: rating, Length: 25229, dtype: int64\n"
     ]
    }
   ],
   "source": []
  },
  {
   "cell_type": "code",
   "execution_count": 107,
   "id": "f970d9a6",
   "metadata": {},
   "outputs": [
    {
     "data": {
      "text/html": [
       "<div>\n",
       "<style scoped>\n",
       "    .dataframe tbody tr th:only-of-type {\n",
       "        vertical-align: middle;\n",
       "    }\n",
       "\n",
       "    .dataframe tbody tr th {\n",
       "        vertical-align: top;\n",
       "    }\n",
       "\n",
       "    .dataframe thead th {\n",
       "        text-align: right;\n",
       "    }\n",
       "</style>\n",
       "<table border=\"1\" class=\"dataframe\">\n",
       "  <thead>\n",
       "    <tr style=\"text-align: right;\">\n",
       "      <th></th>\n",
       "      <th>title</th>\n",
       "      <th>rating_count</th>\n",
       "    </tr>\n",
       "  </thead>\n",
       "  <tbody>\n",
       "    <tr>\n",
       "      <th>0</th>\n",
       "      <td>101 Dalmatians (1996)</td>\n",
       "      <td>218</td>\n",
       "    </tr>\n",
       "    <tr>\n",
       "      <th>1</th>\n",
       "      <td>12 Angry Men (1957)</td>\n",
       "      <td>125</td>\n",
       "    </tr>\n",
       "    <tr>\n",
       "      <th>2</th>\n",
       "      <td>2 Days in the Valley (1996)</td>\n",
       "      <td>93</td>\n",
       "    </tr>\n",
       "    <tr>\n",
       "      <th>3</th>\n",
       "      <td>20,000 Leagues Under the Sea (1954)</td>\n",
       "      <td>288</td>\n",
       "    </tr>\n",
       "    <tr>\n",
       "      <th>4</th>\n",
       "      <td>2001: A Space Odyssey (1968)</td>\n",
       "      <td>1036</td>\n",
       "    </tr>\n",
       "    <tr>\n",
       "      <th>...</th>\n",
       "      <td>...</td>\n",
       "      <td>...</td>\n",
       "    </tr>\n",
       "    <tr>\n",
       "      <th>763</th>\n",
       "      <td>Wrong Trousers, The (1993)</td>\n",
       "      <td>236</td>\n",
       "    </tr>\n",
       "    <tr>\n",
       "      <th>764</th>\n",
       "      <td>Wyatt Earp (1994)</td>\n",
       "      <td>50</td>\n",
       "    </tr>\n",
       "    <tr>\n",
       "      <th>765</th>\n",
       "      <td>Young Frankenstein (1974)</td>\n",
       "      <td>400</td>\n",
       "    </tr>\n",
       "    <tr>\n",
       "      <th>766</th>\n",
       "      <td>Young Guns (1988)</td>\n",
       "      <td>303</td>\n",
       "    </tr>\n",
       "    <tr>\n",
       "      <th>767</th>\n",
       "      <td>Young Guns II (1990)</td>\n",
       "      <td>132</td>\n",
       "    </tr>\n",
       "  </tbody>\n",
       "</table>\n",
       "<p>768 rows × 2 columns</p>\n",
       "</div>"
      ],
      "text/plain": [
       "                                   title  rating_count\n",
       "0                  101 Dalmatians (1996)           218\n",
       "1                    12 Angry Men (1957)           125\n",
       "2            2 Days in the Valley (1996)            93\n",
       "3    20,000 Leagues Under the Sea (1954)           288\n",
       "4           2001: A Space Odyssey (1968)          1036\n",
       "..                                   ...           ...\n",
       "763           Wrong Trousers, The (1993)           236\n",
       "764                    Wyatt Earp (1994)            50\n",
       "765            Young Frankenstein (1974)           400\n",
       "766                    Young Guns (1988)           303\n",
       "767                 Young Guns II (1990)           132\n",
       "\n",
       "[768 rows x 2 columns]"
      ]
     },
     "execution_count": 107,
     "metadata": {},
     "output_type": "execute_result"
    }
   ],
   "source": [
    "movie_counts = df.groupby(\"title\")[\"rating\"].count().reset_index()\n",
    "# Rename for clarity\n",
    "movie_counts.columns = [\"title\", \"rating_count\"]\n",
    "\n",
    "# Filter for movies with at least 50 ratings\n",
    "movies_50 = movie_counts[movie_counts[\"rating_count\"] >= 50]\n",
    "movies_50.reset_index(drop=True)"
   ]
  },
  {
   "cell_type": "code",
   "execution_count": 113,
   "id": "b9bc4e97",
   "metadata": {},
   "outputs": [
    {
     "data": {
      "text/html": [
       "<div>\n",
       "<style scoped>\n",
       "    .dataframe tbody tr th:only-of-type {\n",
       "        vertical-align: middle;\n",
       "    }\n",
       "\n",
       "    .dataframe tbody tr th {\n",
       "        vertical-align: top;\n",
       "    }\n",
       "\n",
       "    .dataframe thead th {\n",
       "        text-align: right;\n",
       "    }\n",
       "</style>\n",
       "<table border=\"1\" class=\"dataframe\">\n",
       "  <thead>\n",
       "    <tr style=\"text-align: right;\">\n",
       "      <th></th>\n",
       "      <th>title</th>\n",
       "      <th>avg_rating</th>\n",
       "      <th>rating_count</th>\n",
       "    </tr>\n",
       "  </thead>\n",
       "  <tbody>\n",
       "    <tr>\n",
       "      <th>318</th>\n",
       "      <td>Close Shave, A (1995)</td>\n",
       "      <td>4.491071</td>\n",
       "      <td>336</td>\n",
       "    </tr>\n",
       "    <tr>\n",
       "      <th>1281</th>\n",
       "      <td>Schindler's List (1993)</td>\n",
       "      <td>4.466443</td>\n",
       "      <td>596</td>\n",
       "    </tr>\n",
       "    <tr>\n",
       "      <th>1652</th>\n",
       "      <td>Wrong Trousers, The (1993)</td>\n",
       "      <td>4.466102</td>\n",
       "      <td>236</td>\n",
       "    </tr>\n",
       "    <tr>\n",
       "      <th>273</th>\n",
       "      <td>Casablanca (1942)</td>\n",
       "      <td>4.456790</td>\n",
       "      <td>729</td>\n",
       "    </tr>\n",
       "    <tr>\n",
       "      <th>1597</th>\n",
       "      <td>Wallace &amp; Gromit: The Best of Aardman Animatio...</td>\n",
       "      <td>4.447761</td>\n",
       "      <td>67</td>\n",
       "    </tr>\n",
       "  </tbody>\n",
       "</table>\n",
       "</div>"
      ],
      "text/plain": [
       "                                                  title  avg_rating  \\\n",
       "318                               Close Shave, A (1995)    4.491071   \n",
       "1281                            Schindler's List (1993)    4.466443   \n",
       "1652                         Wrong Trousers, The (1993)    4.466102   \n",
       "273                                   Casablanca (1942)    4.456790   \n",
       "1597  Wallace & Gromit: The Best of Aardman Animatio...    4.447761   \n",
       "\n",
       "      rating_count  \n",
       "318            336  \n",
       "1281           596  \n",
       "1652           236  \n",
       "273            729  \n",
       "1597            67  "
      ]
     },
     "execution_count": 113,
     "metadata": {},
     "output_type": "execute_result"
    }
   ],
   "source": [
    "movie_stats = (\n",
    "    df.groupby(\"title\")\n",
    "    .agg(avg_rating=(\"rating\", \"mean\"), rating_count=(\"rating\", \"count\"))\n",
    "    .reset_index()\n",
    ")\n",
    "\n",
    "# Filter\n",
    "movies_50 = movie_stats[movie_stats[\"rating_count\"] >= 50]\n",
    "\n",
    "movies_50.sort_values(\"avg_rating\", ascending=False).head()\n"
   ]
  },
  {
   "cell_type": "code",
   "execution_count": 117,
   "id": "1147baba",
   "metadata": {},
   "outputs": [
    {
     "data": {
      "text/html": [
       "        <script type=\"text/javascript\">\n",
       "        window.PlotlyConfig = {MathJaxConfig: 'local'};\n",
       "        if (window.MathJax && window.MathJax.Hub && window.MathJax.Hub.Config) {window.MathJax.Hub.Config({SVG: {font: \"STIX-Web\"}});}\n",
       "        </script>\n",
       "        <script type=\"module\">import \"https://cdn.plot.ly/plotly-3.1.0.min\"</script>\n",
       "        "
      ]
     },
     "metadata": {},
     "output_type": "display_data"
    },
    {
     "data": {
      "text/html": [
       "<div>            <script src=\"https://cdnjs.cloudflare.com/ajax/libs/mathjax/2.7.5/MathJax.js?config=TeX-AMS-MML_SVG\"></script><script type=\"text/javascript\">if (window.MathJax && window.MathJax.Hub && window.MathJax.Hub.Config) {window.MathJax.Hub.Config({SVG: {font: \"STIX-Web\"}});}</script>                <script type=\"text/javascript\">window.PlotlyConfig = {MathJaxConfig: 'local'};</script>\n",
       "        <script charset=\"utf-8\" src=\"https://cdn.plot.ly/plotly-3.1.0.min.js\" integrity=\"sha256-Ei4740bWZhaUTQuD6q9yQlgVCMPBz6CZWhevDYPv93A=\" crossorigin=\"anonymous\"></script>                <div id=\"32cea471-135c-421e-a0ff-185c40a6bfca\" class=\"plotly-graph-div\" style=\"height:525px; width:100%;\"></div>            <script type=\"text/javascript\">                window.PLOTLYENV=window.PLOTLYENV || {};                                if (document.getElementById(\"32cea471-135c-421e-a0ff-185c40a6bfca\")) {                    Plotly.newPlot(                        \"32cea471-135c-421e-a0ff-185c40a6bfca\",                        [{\"hovertemplate\":\"\\u003cb\\u003e%{hovertext}\\u003c\\u002fb\\u003e\\u003cbr\\u003e\\u003cbr\\u003erating_count=%{marker.size}\\u003cbr\\u003eavg_rating=%{marker.color}\\u003cextra\\u003e\\u003c\\u002fextra\\u003e\",\"hovertext\":[\"101 Dalmatians (1996)\",\"12 Angry Men (1957)\",\"2 Days in the Valley (1996)\",\"20,000 Leagues Under the Sea (1954)\",\"2001: A Space Odyssey (1968)\",\"39 Steps, The (1935)\",\"Absolute Power (1997)\",\"Abyss, The (1989)\",\"Ace Ventura: Pet Detective (1994)\",\"Addams Family Values (1993)\",\"Addicted to Love (1997)\",\"Adventures of Pinocchio, The (1996)\",\"Adventures of Priscilla, Queen of the Desert, The (1994)\",\"Adventures of Robin Hood, The (1938)\",\"African Queen, The (1951)\",\"Age of Innocence, The (1993)\",\"Air Bud (1997)\",\"Air Force One (1997)\",\"Akira (1988)\",\"Aladdin (1992)\",\"Aladdin and the King of Thieves (1996)\",\"Alice in Wonderland (1951)\",\"Alien (1979)\",\"Alien 3 (1992)\",\"Alien: Resurrection (1997)\",\"Aliens (1986)\",\"All About Eve (1950)\",\"Amadeus (1984)\",\"Amateur (1994)\",\"American President, The (1995)\",\"American Werewolf in London, An (1981)\",\"American in Paris, An (1951)\",\"Amistad (1997)\",\"Amityville Horror, The (1979)\",\"Anaconda (1997)\",\"Anastasia (1997)\",\"Angels and Insects (1995)\",\"Angels in the Outfield (1994)\",\"Anna Karenina (1997)\",\"Annie Hall (1977)\",\"Another Stakeout (1993)\",\"Antonia's Line (1995)\",\"Apartment, The (1960)\",\"Apocalypse Now (1979)\",\"Apollo 13 (1995)\",\"Apostle, The (1997)\",\"Apple Dumpling Gang, The (1975)\",\"Apt Pupil (1998)\",\"Aristocats, The (1970)\",\"Army of Darkness (1993)\",\"Around the World in 80 Days (1956)\",\"Arrival, The (1996)\",\"Arsenic and Old Lace (1944)\",\"As Good As It Gets (1997)\",\"Austin Powers: International Man of Mystery (1997)\",\"Babe (1995)\",\"Back to the Future (1985)\",\"Bad Boys (1995)\",\"Bananas (1971)\",\"Barb Wire (1996)\",\"Barbarella (1968)\",\"Barcelona (1994)\",\"Basic Instinct (1992)\",\"Batman & Robin (1997)\",\"Batman (1989)\",\"Batman Forever (1995)\",\"Batman Returns (1992)\",\"Bean (1997)\",\"Beautician and the Beast, The (1997)\",\"Beautiful Girls (1996)\",\"Beautiful Thing (1996)\",\"Beauty and the Beast (1991)\",\"Beavis and Butt-head Do America (1996)\",\"Bed of Roses (1996)\",\"Bedknobs and Broomsticks (1971)\",\"Before Sunrise (1995)\",\"Before and After (1996)\",\"Being There (1979)\",\"Ben-Hur (1959)\",\"Benny & Joon (1993)\",\"Better Off Dead... (1985)\",\"Beverly Hills Cop III (1994)\",\"Beverly Hills Ninja (1997)\",\"Big Lebowski, The (1998)\",\"Big Night (1996)\",\"Big Sleep, The (1946)\",\"Birdcage, The (1996)\",\"Birds, The (1963)\",\"Black Beauty (1994)\",\"Black Sheep (1996)\",\"Blade Runner (1982)\",\"Blob, The (1958)\",\"Blown Away (1994)\",\"Blues Brothers 2000 (1998)\",\"Blues Brothers, The (1980)\",\"Bob Roberts (1992)\",\"Body Snatchers (1993)\",\"Bogus (1996)\",\"Bonnie and Clyde (1967)\",\"Boogie Nights (1997)\",\"Boomerang (1992)\",\"Boot, Das (1981)\",\"Booty Call (1997)\",\"Bound (1996)\",\"Boys on the Side (1995)\",\"Brady Bunch Movie, The (1995)\",\"Bram Stoker's Dracula (1992)\",\"Brassed Off (1996)\",\"Braveheart (1995)\",\"Brazil (1985)\",\"Breakdown (1997)\",\"Breakfast at Tiffany's (1961)\",\"Breaking the Waves (1996)\",\"Bridge on the River Kwai, The (1957)\",\"Bridges of Madison County, The (1995)\",\"Bringing Up Baby (1938)\",\"Broken Arrow (1996)\",\"Brothers McMullen, The (1995)\",\"Bullets Over Broadway (1994)\",\"Butch Cassidy and the Sundance Kid (1969)\",\"Cable Guy, The (1996)\",\"Canadian Bacon (1994)\",\"Candyman (1992)\",\"Cape Fear (1962)\",\"Cape Fear (1991)\",\"Carlito's Way (1993)\",\"Carrie (1976)\",\"Casablanca (1942)\",\"Casino (1995)\",\"Casper (1995)\",\"Cat on a Hot Tin Roof (1958)\",\"Cats Don't Dance (1997)\",\"Celluloid Closet, The (1995)\",\"Chain Reaction (1996)\",\"Charade (1963)\",\"Chasing Amy (1997)\",\"Chinatown (1974)\",\"Christmas Carol, A (1938)\",\"Chungking Express (1994)\",\"Cinderella (1950)\",\"Cinema Paradiso (1988)\",\"Circle of Friends (1995)\",\"Citizen Kane (1941)\",\"Citizen Ruth (1996)\",\"City Hall (1996)\",\"City Slickers II: The Legend of Curly's Gold (1994)\",\"City of Lost Children, The (1995)\",\"Clear and Present Danger (1994)\",\"Clerks (1994)\",\"Client, The (1994)\",\"Cliffhanger (1993)\",\"Clockwork Orange, A (1971)\",\"Close Shave, A (1995)\",\"Clueless (1995)\",\"Cold Comfort Farm (1995)\",\"Con Air (1997)\",\"Conan the Barbarian (1981)\",\"Coneheads (1993)\",\"Congo (1995)\",\"Conspiracy Theory (1997)\",\"Contact (1997)\",\"Cook the Thief His Wife & Her Lover, The (1989)\",\"Cool Hand Luke (1967)\",\"Cool Runnings (1993)\",\"Cop Land (1997)\",\"Copycat (1995)\",\"Corrina, Corrina (1994)\",\"Courage Under Fire (1996)\",\"Craft, The (1996)\",\"Crash (1996)\",\"Crimson Tide (1995)\",\"Crow, The (1994)\",\"Crow: City of Angels, The (1996)\",\"Crucible, The (1996)\",\"Crumb (1994)\",\"Crying Game, The (1992)\",\"Cutthroat Island (1995)\",\"Cyrano de Bergerac (1990)\",\"Dances with Wolves (1990)\",\"Dante's Peak (1997)\",\"Dave (1993)\",\"Day the Earth Stood Still, The (1951)\",\"Daylight (1996)\",\"Days of Thunder (1990)\",\"Dazed and Confused (1993)\",\"Dead Man Walking (1995)\",\"Dead Poets Society (1989)\",\"Dead Presidents (1995)\",\"Death and the Maiden (1994)\",\"Deconstructing Harry (1997)\",\"Deer Hunter, The (1978)\",\"Delicatessen (1991)\",\"Demolition Man (1993)\",\"Desperado (1995)\",\"Desperate Measures (1998)\",\"Devil in a Blue Dress (1995)\",\"Devil's Advocate, The (1997)\",\"Devil's Own, The (1997)\",\"Diabolique (1996)\",\"Dial M for Murder (1954)\",\"Die Hard (1988)\",\"Die Hard 2 (1990)\",\"Die Hard: With a Vengeance (1995)\",\"Die xue shuang xiong (Killer, The) (1989)\",\"Dirty Dancing (1987)\",\"Disclosure (1994)\",\"Diva (1981)\",\"Dolores Claiborne (1994)\",\"Don Juan DeMarco (1995)\",\"Donnie Brasco (1997)\",\"Doors, The (1991)\",\"Down Periscope (1996)\",\"Down by Law (1986)\",\"Dr. Strangelove or: How I Learned to Stop Worrying and Love the Bomb (1963)\",\"Dracula: Dead and Loving It (1995)\",\"Dragonheart (1996)\",\"Duck Soup (1933)\",\"Dumb & Dumber (1994)\",\"Dumbo (1941)\",\"E.T. the Extra-Terrestrial (1982)\",\"East of Eden (1955)\",\"Eat Drink Man Woman (1994)\",\"Ed Wood (1994)\",\"Edge, The (1997)\",\"Emma (1996)\",\"Empire Strikes Back, The (1980)\",\"Enchanted April (1991)\",\"English Patient, The (1996)\",\"Englishman Who Went Up a Hill, But Came Down a Mountain, The (1995)\",\"Eraser (1996)\",\"Escape from L.A. (1996)\",\"Escape from New York (1981)\",\"Escape to Witch Mountain (1975)\",\"Eve's Bayou (1997)\",\"Evening Star, The (1996)\",\"Event Horizon (1997)\",\"Everyone Says I Love You (1996)\",\"Evil Dead II (1987)\",\"Evita (1996)\",\"Excess Baggage (1997)\",\"Executive Decision (1996)\",\"Extreme Measures (1996)\",\"Eye for an Eye (1996)\",\"Face\\u002fOff (1997)\",\"FairyTale: A True Story (1997)\",\"Fallen (1998)\",\"Family Thing, A (1996)\",\"Fan, The (1996)\",\"Fantasia (1940)\",\"Farewell My Concubine (1993)\",\"Fargo (1996)\",\"Father of the Bride (1950)\",\"Father of the Bride Part II (1995)\",\"Feeling Minnesota (1996)\",\"Field of Dreams (1989)\",\"Fierce Creatures (1997)\",\"Fifth Element, The (1997)\",\"Fire Down Below (1997)\",\"Firestorm (1998)\",\"Firm, The (1993)\",\"First Kid (1996)\",\"First Knight (1995)\",\"First Wives Club, The (1996)\",\"Fish Called Wanda, A (1988)\",\"Fled (1996)\",\"Flintstones, The (1994)\",\"Flubber (1997)\",\"Fly Away Home (1996)\",\"Forbidden Planet (1956)\",\"Forget Paris (1995)\",\"Forrest Gump (1994)\",\"Four Rooms (1995)\",\"Four Weddings and a Funeral (1994)\",\"Fox and the Hound, The (1981)\",\"Free Willy (1993)\",\"Free Willy 3: The Rescue (1997)\",\"French Kiss (1995)\",\"French Twist (Gazon maudit) (1995)\",\"Fried Green Tomatoes (1991)\",\"Frighteners, The (1996)\",\"From Dusk Till Dawn (1996)\",\"Fugitive, The (1993)\",\"Full Metal Jacket (1987)\",\"Full Monty, The (1997)\",\"G.I. Jane (1997)\",\"Game, The (1997)\",\"Gandhi (1982)\",\"Gaslight (1944)\",\"Gattaca (1997)\",\"George of the Jungle (1997)\",\"Get Shorty (1995)\",\"Ghost (1990)\",\"Ghost and Mrs. Muir, The (1947)\",\"Ghost and the Darkness, The (1996)\",\"Ghost in the Shell (Kokaku kidotai) (1995)\",\"Giant (1956)\",\"Glengarry Glen Ross (1992)\",\"Glimmer Man, The (1996)\",\"Glory (1989)\",\"Godfather, The (1972)\",\"Godfather: Part II, The (1974)\",\"GoldenEye (1995)\",\"Gone with the Wind (1939)\",\"Good Will Hunting (1997)\",\"Good, The Bad and The Ugly, The (1966)\",\"GoodFellas (1990)\",\"Goofy Movie, A (1995)\",\"Graduate, The (1967)\",\"Grand Day Out, A (1992)\",\"Grease (1978)\",\"Grease 2 (1982)\",\"Great Escape, The (1963)\",\"Great Expectations (1998)\",\"Great Race, The (1965)\",\"Grifters, The (1990)\",\"Grosse Pointe Blank (1997)\",\"Groundhog Day (1993)\",\"Grumpier Old Men (1995)\",\"Hackers (1995)\",\"Halloween: The Curse of Michael Myers (1995)\",\"Hamlet (1996)\",\"Happy Gilmore (1996)\",\"Hard Rain (1998)\",\"Hard Target (1993)\",\"Harold and Maude (1971)\",\"Harriet the Spy (1996)\",\"Heat (1995)\",\"Heathers (1989)\",\"Heaven's Prisoners (1996)\",\"Heavenly Creatures (1994)\",\"Heavy Metal (1981)\",\"Hellraiser: Bloodline (1996)\",\"Henry V (1989)\",\"Hercules (1997)\",\"High Noon (1952)\",\"Highlander (1986)\",\"His Girl Friday (1940)\",\"Home Alone (1990)\",\"Home for the Holidays (1995)\",\"Homeward Bound II: Lost in San Francisco (1996)\",\"Homeward Bound: The Incredible Journey (1993)\",\"Hoodlum (1997)\",\"Hoop Dreams (1994)\",\"Hot Shots! Part Deux (1993)\",\"House of Yes, The (1997)\",\"How to Make an American Quilt (1995)\",\"Howling, The (1981)\",\"Hudsucker Proxy, The (1994)\",\"Hunchback of Notre Dame, The (1996)\",\"Hunt for Red October, The (1990)\",\"I Know What You Did Last Summer (1997)\",\"I.Q. (1994)\",\"Ice Storm, The (1997)\",\"If Lucy Fell (1996)\",\"Immortal Beloved (1994)\",\"In & Out (1997)\",\"In Love and War (1996)\",\"In the Company of Men (1997)\",\"In the Line of Fire (1993)\",\"In the Mouth of Madness (1995)\",\"In the Name of the Father (1993)\",\"Independence Day (ID4) (1996)\",\"Indian in the Cupboard, The (1995)\",\"Indiana Jones and the Last Crusade (1989)\",\"Interview with the Vampire (1994)\",\"Island of Dr. Moreau, The (1996)\",\"It Could Happen to You (1994)\",\"It Happened One Night (1934)\",\"It's a Wonderful Life (1946)\",\"Jack (1996)\",\"Jackal, The (1997)\",\"Jackie Brown (1997)\",\"Jackie Chan's First Strike (1996)\",\"James and the Giant Peach (1996)\",\"Jane Eyre (1996)\",\"Jaws (1975)\",\"Jaws 2 (1978)\",\"Jean de Florette (1986)\",\"Jerry Maguire (1996)\",\"Jingle All the Way (1996)\",\"Joe's Apartment (1996)\",\"Johnny Mnemonic (1995)\",\"Judge Dredd (1995)\",\"Jumanji (1995)\",\"Jungle Book, The (1994)\",\"Jungle2Jungle (1997)\",\"Junior (1994)\",\"Jurassic Park (1993)\",\"Juror, The (1996)\",\"Just Cause (1995)\",\"Kalifornia (1993)\",\"Kid in King Arthur's Court, A (1995)\",\"Kids in the Hall: Brain Candy (1996)\",\"Killing Fields, The (1984)\",\"Kingpin (1996)\",\"Kiss of Death (1995)\",\"Kiss the Girls (1997)\",\"Kolya (1996)\",\"Koyaanisqatsi (1983)\",\"Kull the Conqueror (1997)\",\"L.A. Confidential (1997)\",\"Last Action Hero (1993)\",\"Last Man Standing (1996)\",\"Last Supper, The (1995)\",\"Last of the Mohicans, The (1992)\",\"Laura (1944)\",\"Lawnmower Man, The (1992)\",\"Lawrence of Arabia (1962)\",\"Leaving Las Vegas (1995)\",\"Legends of the Fall (1994)\",\"Liar Liar (1997)\",\"Life Less Ordinary, A (1997)\",\"Like Water For Chocolate (Como agua para chocolate) (1992)\",\"Lion King, The (1994)\",\"Little Princess, A (1995)\",\"Little Women (1994)\",\"Local Hero (1983)\",\"Lone Star (1996)\",\"Long Kiss Goodnight, The (1996)\",\"Looking for Richard (1996)\",\"Lost Highway (1997)\",\"Lost World: Jurassic Park, The (1997)\",\"Lost in Space (1998)\",\"Love Bug, The (1969)\",\"Love! Valour! Compassion! (1997)\",\"M (1931)\",\"M*A*S*H (1970)\",\"Mad City (1997)\",\"Madness of King George, The (1994)\",\"Magnificent Seven, The (1954)\",\"Mallrats (1995)\",\"Maltese Falcon, The (1941)\",\"Man Who Knew Too Little, The (1997)\",\"Man Who Would Be King, The (1975)\",\"Man Without a Face, The (1993)\",\"Manchurian Candidate, The (1962)\",\"Manhattan (1979)\",\"Manhattan Murder Mystery (1993)\",\"Manon of the Spring (Manon des sources) (1986)\",\"Mars Attacks! (1996)\",\"Marvin's Room (1996)\",\"Mary Poppins (1964)\",\"Mary Reilly (1996)\",\"Mary Shelley's Frankenstein (1994)\",\"Mask, The (1994)\",\"MatchMaker, The (1997)\",\"Matilda (1996)\",\"Maverick (1994)\",\"Maximum Risk (1996)\",\"McHale's Navy (1997)\",\"Mediterraneo (1991)\",\"Men in Black (1997)\",\"Menace II Society (1993)\",\"Michael (1996)\",\"Michael Collins (1996)\",\"Midnight in the Garden of Good and Evil (1997)\",\"Mighty Aphrodite (1995)\",\"Milk Money (1994)\",\"Miller's Crossing (1990)\",\"Mimic (1997)\",\"Miracle on 34th Street (1994)\",\"Mirror Has Two Faces, The (1996)\",\"Mission: Impossible (1996)\",\"Money Talks (1997)\",\"Monty Python and the Holy Grail (1974)\",\"Monty Python's Life of Brian (1979)\",\"Mortal Kombat (1995)\",\"Mortal Kombat: Annihilation (1997)\",\"Mother (1996)\",\"Mouse Hunt (1997)\",\"Mr. Holland's Opus (1995)\",\"Mr. Smith Goes to Washington (1939)\",\"Mrs. Brown (Her Majesty, Mrs. Brown) (1997)\",\"Mrs. Doubtfire (1993)\",\"Much Ado About Nothing (1993)\",\"Mulholland Falls (1996)\",\"Multiplicity (1996)\",\"Muppet Treasure Island (1996)\",\"Murder at 1600 (1997)\",\"Murder in the First (1995)\",\"Muriel's Wedding (1994)\",\"My Best Friend's Wedding (1997)\",\"My Fair Lady (1964)\",\"My Favorite Year (1982)\",\"My Fellow Americans (1996)\",\"My Left Foot (1989)\",\"My Life as a Dog (Mitt liv som hund) (1985)\",\"Mystery Science Theater 3000: The Movie (1996)\",\"Naked Gun 33 1\\u002f3: The Final Insult (1994)\",\"Natural Born Killers (1994)\",\"Nell (1994)\",\"Net, The (1995)\",\"Nick of Time (1995)\",\"Night Falls on Manhattan (1997)\",\"Night of the Living Dead (1968)\",\"Night on Earth (1991)\",\"Nightmare Before Christmas, The (1993)\",\"Nightmare on Elm Street, A (1984)\",\"Nikita (La Femme Nikita) (1990)\",\"Nine Months (1995)\",\"Ninotchka (1939)\",\"Nixon (1995)\",\"North by Northwest (1959)\",\"Nosferatu (Nosferatu, eine Symphonie des Grauens) (1922)\",\"Notorious (1946)\",\"Nutty Professor, The (1996)\",\"Old Man and the Sea, The (1958)\",\"Old Yeller (1957)\",\"Omen, The (1976)\",\"On Golden Pond (1981)\",\"Once Upon a Time in America (1984)\",\"Once Were Warriors (1994)\",\"One Fine Day (1996)\",\"One Flew Over the Cuckoo's Nest (1975)\",\"Only You (1994)\",\"Operation Dumbo Drop (1995)\",\"Othello (1995)\",\"Outbreak (1995)\",\"Pagemaster, The (1994)\",\"Paper, The (1994)\",\"Parent Trap, The (1961)\",\"Paths of Glory (1957)\",\"Patton (1970)\",\"Peacemaker, The (1997)\",\"People vs. Larry Flynt, The (1996)\",\"Perfect World, A (1993)\",\"Pete's Dragon (1977)\",\"Phantom, The (1996)\",\"Phenomenon (1996)\",\"Philadelphia (1993)\",\"Philadelphia Story, The (1940)\",\"Piano, The (1993)\",\"Picture Perfect (1997)\",\"Pillow Book, The (1995)\",\"Pink Floyd - The Wall (1982)\",\"Pinocchio (1940)\",\"Platoon (1986)\",\"Playing God (1997)\",\"Pocahontas (1995)\",\"Pollyanna (1960)\",\"Postino, Il (1994)\",\"Postman, The (1997)\",\"Preacher's Wife, The (1996)\",\"Pretty Woman (1990)\",\"Primal Fear (1996)\",\"Princess Bride, The (1987)\",\"Private Benjamin (1980)\",\"Private Parts (1997)\",\"Professional, The (1994)\",\"Program, The (1993)\",\"Psycho (1960)\",\"Pulp Fiction (1994)\",\"Pump Up the Volume (1990)\",\"Quest, The (1996)\",\"Quick and the Dead, The (1995)\",\"Quiet Man, The (1952)\",\"Quiz Show (1994)\",\"Raging Bull (1980)\",\"Raiders of the Lost Ark (1981)\",\"Rainmaker, The (1997)\",\"Raise the Red Lantern (1991)\",\"Raising Arizona (1987)\",\"Ran (1985)\",\"Ransom (1996)\",\"Real Genius (1985)\",\"Reality Bites (1994)\",\"Rear Window (1954)\",\"Rebecca (1940)\",\"Rebel Without a Cause (1955)\",\"Red Corner (1997)\",\"Red Rock West (1992)\",\"Ref, The (1994)\",\"Remains of the Day, The (1993)\",\"Renaissance Man (1994)\",\"Replacement Killers, The (1998)\",\"Reservoir Dogs (1992)\",\"Restoration (1995)\",\"Return of the Jedi (1983)\",\"Return of the Pink Panther, The (1974)\",\"Richard III (1995)\",\"Right Stuff, The (1983)\",\"Rising Sun (1993)\",\"River Wild, The (1994)\",\"Rob Roy (1995)\",\"Robin Hood: Men in Tights (1993)\",\"Robin Hood: Prince of Thieves (1991)\",\"Rock, The (1996)\",\"Roman Holiday (1953)\",\"Romeo Is Bleeding (1993)\",\"Romy and Michele's High School Reunion (1997)\",\"Room with a View, A (1986)\",\"Rosencrantz and Guildenstern Are Dead (1990)\",\"Rosewood (1997)\",\"Rudy (1993)\",\"Rumble in the Bronx (1995)\",\"Sabrina (1954)\",\"Sabrina (1995)\",\"Saint, The (1997)\",\"Santa Clause, The (1994)\",\"Schindler's List (1993)\",\"Scream (1996)\",\"Scream 2 (1997)\",\"Searching for Bobby Fischer (1993)\",\"Secret Garden, The (1993)\",\"Secret of Roan Inish, The (1994)\",\"Secrets & Lies (1996)\",\"Sense and Sensibility (1995)\",\"Serial Mom (1994)\",\"Seven (Se7en) (1995)\",\"Seven Years in Tibet (1997)\",\"Seventh Seal, The (Sjunde inseglet, Det) (1957)\",\"Sex, Lies, and Videotape (1989)\",\"Sgt. Bilko (1996)\",\"Shadowlands (1993)\",\"Shaggy Dog, The (1959)\",\"Shall We Dance? (1937)\",\"Shallow Grave (1994)\",\"Shawshank Redemption, The (1994)\",\"She's So Lovely (1997)\",\"She's the One (1996)\",\"Shine (1996)\",\"Shining, The (1980)\",\"Short Cuts (1993)\",\"Silence of the Lambs, The (1991)\",\"Singin' in the Rain (1952)\",\"Sirens (1994)\",\"Six Degrees of Separation (1993)\",\"Sleeper (1973)\",\"Sleepers (1996)\",\"Sleepless in Seattle (1993)\",\"Sling Blade (1996)\",\"Smile Like Yours, A (1997)\",\"Smilla's Sense of Snow (1997)\",\"Smoke (1995)\",\"Sneakers (1992)\",\"Snow White and the Seven Dwarfs (1937)\",\"So I Married an Axe Murderer (1993)\",\"Some Folks Call It a Sling Blade (1993)\",\"Some Kind of Wonderful (1987)\",\"Some Like It Hot (1959)\",\"Something to Talk About (1995)\",\"Somewhere in Time (1980)\",\"Sophie's Choice (1982)\",\"Soul Food (1997)\",\"Sound of Music, The (1965)\",\"Space Jam (1996)\",\"Spanking the Monkey (1994)\",\"Spawn (1997)\",\"Speechless (1994)\",\"Speed (1994)\",\"Speed 2: Cruise Control (1997)\",\"Spellbound (1945)\",\"Sphere (1998)\",\"Spice World (1997)\",\"Spitfire Grill, The (1996)\",\"Stand by Me (1986)\",\"Star Trek III: The Search for Spock (1984)\",\"Star Trek IV: The Voyage Home (1986)\",\"Star Trek V: The Final Frontier (1989)\",\"Star Trek VI: The Undiscovered Country (1991)\",\"Star Trek: First Contact (1996)\",\"Star Trek: Generations (1994)\",\"Star Trek: The Motion Picture (1979)\",\"Star Trek: The Wrath of Khan (1982)\",\"Star Wars (1977)\",\"Stargate (1994)\",\"Starship Troopers (1997)\",\"Stealing Beauty (1996)\",\"Sting, The (1973)\",\"Strange Days (1995)\",\"Streetcar Named Desire, A (1951)\",\"Strictly Ballroom (1992)\",\"Striptease (1996)\",\"Sunset Blvd. (1950)\",\"Super Mario Bros. (1993)\",\"Supercop (1992)\",\"Swimming with Sharks (1995)\",\"Swingers (1996)\",\"Swiss Family Robinson (1960)\",\"Sword in the Stone, The (1963)\",\"Tales from the Crypt Presents: Bordello of Blood (1996)\",\"Tales from the Hood (1995)\",\"Tank Girl (1995)\",\"Taxi Driver (1976)\",\"Terminator 2: Judgment Day (1991)\",\"Terminator, The (1984)\",\"That Darn Cat! (1965)\",\"That Darn Cat! (1997)\",\"That Thing You Do! (1996)\",\"Thin Man, The (1934)\",\"Things to Do in Denver when You're Dead (1995)\",\"Thinner (1996)\",\"Third Man, The (1949)\",\"This Is Spinal Tap (1984)\",\"Three Caballeros, The (1945)\",\"Three Colors: Blue (1993)\",\"Three Colors: Red (1994)\",\"Three Colors: White (1994)\",\"Three Musketeers, The (1993)\",\"Threesome (1994)\",\"Time to Kill, A (1996)\",\"Timecop (1994)\",\"Tin Cup (1996)\",\"Tin Men (1987)\",\"Titanic (1997)\",\"To Be or Not to Be (1942)\",\"To Catch a Thief (1955)\",\"To Die For (1995)\",\"To Gillian on Her 37th Birthday (1996)\",\"To Kill a Mockingbird (1962)\",\"To Wong Foo, Thanks for Everything! Julie Newmar (1995)\",\"Tombstone (1993)\",\"Tommy Boy (1995)\",\"Tomorrow Never Dies (1997)\",\"Top Gun (1986)\",\"Top Hat (1935)\",\"Touch of Evil (1958)\",\"Toy Story (1995)\",\"Trainspotting (1996)\",\"Transformers: The Movie, The (1986)\",\"Treasure of the Sierra Madre, The (1948)\",\"Trees Lounge (1996)\",\"Trigger Effect, The (1996)\",\"True Lies (1994)\",\"True Romance (1993)\",\"Truth About Cats & Dogs, The (1996)\",\"Twelfth Night (1996)\",\"Twelve Monkeys (1995)\",\"Twister (1996)\",\"Two if by Sea (1996)\",\"U Turn (1997)\",\"Ulee's Gold (1997)\",\"Unbearable Lightness of Being, The (1988)\",\"Under Siege (1992)\",\"Unforgettable (1996)\",\"Unforgiven (1992)\",\"Up Close and Personal (1996)\",\"Usual Suspects, The (1995)\",\"Vegas Vacation (1997)\",\"Vertigo (1958)\",\"Very Brady Sequel, A (1996)\",\"Victor\\u002fVictoria (1982)\",\"Virtuosity (1995)\",\"Volcano (1997)\",\"Wag the Dog (1997)\",\"Walk in the Clouds, A (1995)\",\"Wallace & Gromit: The Best of Aardman Animation (1996)\",\"Waterworld (1995)\",\"Wedding Singer, The (1998)\",\"Weekend at Bernie's (1989)\",\"Welcome to the Dollhouse (1995)\",\"What's Eating Gilbert Grape (1993)\",\"When Harry Met Sally... (1989)\",\"While You Were Sleeping (1995)\",\"White Squall (1996)\",\"William Shakespeare's Romeo and Juliet (1996)\",\"Willy Wonka and the Chocolate Factory (1971)\",\"Wings of Desire (1987)\",\"Wings of the Dove, The (1997)\",\"Winnie the Pooh and the Blustery Day (1968)\",\"With Honors (1994)\",\"Wizard of Oz, The (1939)\",\"Wolf (1994)\",\"Wrong Trousers, The (1993)\",\"Wyatt Earp (1994)\",\"Young Frankenstein (1974)\",\"Young Guns (1988)\",\"Young Guns II (1990)\"],\"legendgroup\":\"\",\"marker\":{\"color\":{\"dtype\":\"f8\",\"bdata\":\"QvT4LhxEB0DHSzeJQWARQM4555xzzglAAAAAAAAADEAM\\u002fKvGvcAPQHVfHlsRNBBAvV6v1+v1CkBm3DJuGbcMQE13sN9qYwhAs3XoN1uHBkBVVVVVVVUJQJAGaZAGaQhAHEyRz7rBDED41ZhID1QOQMprKK+hvBBAO7ETO7ETC0AecUfcEXcEQKIQXCt5DA1ACtejcD0KC0AJaCWglYAOQE\\u002fsxE7sxAZAVVVVVVVVDUBIeodiMCMQQKRwPQrXowZAxhhjjDHGCEB7Mn671JMPQC+66KKLLhBAetOb3vSmEEBVVVVVVVUJQAbnY3A+Bg1AniExb2dIDECamZmZmZkNQNdaa6211g5ATTDeyj6HBEAN5TWU11ACQGWTTTbZZAtAVVVVVVVVC0AndmIndmIHQLrooosuughAn\\u002fRJn\\u002fRJD0AAAAAAAAAEQHrTm970pg9A3\\u002fd93\\u002fd9D0C4VS64VS4QQNcOzLUDcw9APSXIU4I8DUC4HoXrUbgGQGZmZmZmZhBAmNBeQnsJCUAjLPc0wnILQOaxFUHDSQ1A20MuKwZKCEBFWw2eI1AQQJIkSZIkyRBAgh\\u002f4gR\\u002f4CUBqf6n9pfYPQGMEE\\u002f2drA5AeQ3lNZTXCEDTWUxnMZ0NQO\\u002fu7u7u7v4\\u002fJUmSJEmSBEDyVvY5pCYIQJbhG1Fg0glAnXPOOeecA0DfSZY6QmwLQFVVVVVVVQVA4C71ZPx2BUBlVEZlVEYFQKEv6Av6ggJAspCFLGQhC0ASlnsaYbkPQB7krp8tVg5A7MRO7MROBkDe3d3d3d0JQPwI7iO4jwhA0VgfGutDC0BP7MRO7MQGQLHc0wjLPQ9ApZRSSimlDkCwr6+vr68LQB3ZMxCVjgxASZIkSZIkA0AAAAAAAIACQKuqqqqqqg5ARnMZzWU0D0DBgQMHDhwQQPgUyD+rjAtA1\\u002fywSBl4DkDkOI7jOI4LQBdddNFFFwVAjfjXiH+NEECc3vSmN70FQHwaYbmnEQZAJUmSJEmSBkBWRKdUd7EOQO7t7e3t7Q1A\\u002fIwSP6PEB0BddNFFF10EQD\\u002fFJUOwjg5ALcuyLMuyDEAAAAAAAIAGQJCXwSjg0BBAVVVVVVVVAUClLWlL2pIOQC0tLS0tLQlAvYbyGsprBkBEREREREQJQAAAAAAAgA9Am2yyySabEECe2Imd2IkOQBTirPyEOAtA+NwSp37PDUBo3WCKfNYNQLScP8v5sxBA4VdjIj1QCUC1tLS0tLQOQBAIBAKBQAhA3blz586dC0BxR9wRd8QNQHsJ7SW0lw9A+xxSE4y3AkAs9zTCck8DQI7cyI3cyAVADPqCvqAvDEBjOovpLKYLQCa0l9BeQgtATvO1enYIDEDnh0XKwNMRQP3SL\\u002f3SLw1A2Ymd2ImdCECdc84555wPQAAAAAAAwAZASZIkSZIkD0CamZmZmZkFQGZmZmZmZg9AD55i6l+2DkAj5K\\u002fZUYsQQARz7cBcOxBAJUmSJEmSDEAqa8qasqYMQGz17BC4sRBAUV5DeQ3lC0DXrxSo9SsRQKVP+qRP+gxAOrJnICodCUBddNFFF10EQFVVVVVVVQ5AHWReSgSPDEDrBlPks24OQNvN8iQyDQtALLDAAgssCEAfqUYfqUYPQG7btm3b9hFArKurq6urC0BkO99PjZcOQI4UDfHHrQtAVNdycLNfCEDC+Ricj8EBQOh5nud5ngNAoeGk7stjC0ARC7J2pG0OQDI4H4PzMQhA9DE4H4PzD0BLS0tLS0sJQODJanljBAtAm7KmrClrCkCxEzuxEzsJQG0K42wK4wxAxU7sxE7sCEAAAAAAAGAEQOUnxFn5CQ1AD1TObuFXC0Df8i3f8i3\\u002fPyHOyk+IswpAeLo1PyxSDkDVi\\u002fnUi\\u002fkMQOQ4juM4jgNAjC666KKLDkAAAAAAAFgOQHd3d3d3dwdAMzMzMzMzDUAwrn7QUYEPQM9iOovpLAZA2eeQmmC8BUAAAAAAAMALQEv4mmGqKw9AXqxVRKdUD0ByHMdxHMcFQNu2bdu2bQtAMzMzMzMzC0CrqqqqqqoOQD\\u002fwAz\\u002fwAw9A05ve9KY3CUCkAl9c\\u002faALQOQ4juM4jgpAZzGdxXQWC0CZXEFMriAMQN7d3d3d3QhAKOO3Sz0ZB0AAAAAAAAAQQDpTy4W7+g5AlPBGU+fXCkDSHGmONEcKQL733nvvvQ9ANNaHxvrQCEAAAAAAAAAIQNFFF1100Q1AeLW4CfO7CkC9hvIaymsMQJsdtQj5aw5AvelNb3rTB0B1ah7krp8FQL7iK77iKw5AX1z9oKMCEUA9CtejcD0CQFHpyJ6BqAhAAAAAAAAAEEAAAAAAAAAIQPjLer+s9wtAq6qqqqqqDkCPrQgaTuoOQDMzMzMzMxBA\\u002fkz4M+HPDEDsGMW5jlEMQEAUkgt4vQ1A3AuBqUPREEDbtm3btm0PQBdUoq92QQ1AAAAAAAAAC0A82G+1MTQJQBQ7sRM7sQNA8h7v8R7vCUC8u7u7u7sHQAAAAAAA4AxAIyz3NMJyB0Amk8lkMpkEQAzDMAzDMApAQhGKUIQiDECHfSucdtgHQOzETuzETgRANGBJL3\\u002faCkAAAAAAAGAJQAAAAAAAQAhAMg3bzfIkDkC8u7u7u7sHQCxRuxK1KwlAHMdxHMdxDEAAAAAAAMAIQCCT4gUyKQ5AvelNb3rTD0Do8\\u002fl8Pp8QQKuqqqqqqgxAAAAAAAAwB0AAAAAAAAAFQOiQmmC8lQ1Aq6qqqqrqCEA168\\u002fgN9ELQHTRRRdddAdAq6qqqqqqBkCS5khzpDkKQGZmZmZmZgdADPqCvqAvCEBmZmZmZiYIQIlkmfSMSA5ALS0tLS0tBUCEEEIIIYQAQLyVfQ6pCQZAzczMzMzMDEAfqJzdwq8OQIwxxhhjjAlApLIgFyPUDkBEREREREQIQN3FWkV0Sg1AWEeb9ykuCUCjiy666KIDQKG9hPYS2vs\\u002fq6qqqqqqCkBCGqRBGqQJQB4eHh4eHg5AniNQtNXgCUBvetOb3vQIQNu2bdu2LRBAdXV1dXV1DUCndmqndmoPQOF6FK5H4QpAoyCgub6\\u002fDEBQARVQARUQQF\\u002fxFV\\u002fxFQ9AxMPDw8PDDEC0l9BeQnsFQJ2A59PjZgxAuLe3t7e3C0BNWVPWlDUNQAAAAAAAoAlAsRM7sRM7DUD29fX19fUNQDsw1w7MtQtAAAAAAAAABkDeRHYT2U0QQPpc8o0XIhFA2u6t0hS\\u002fEECB6thbG6YJQIjvIL6D+A5AuDMk5u0MEUACR4qG+OMOQBnFuY5RnA9AMzMzMzMzB0BtBqbrHGsQQG2yySabbBBAx8bGxsbGCkAAAAAAAAAAQGuttdZaaxBAchzHcRzHCUBTSimllFIKQL7uda973QtAZmZmZmZmDUDUQR3UQR0OQDBFPusGUwhA2WSTTTbZBECamZmZmZkBQLZgC7ZgCxBA17cBQzUdC0A655xzzjkHQJqZmZmZmQVAjC666KKLDkCamZmZmZkFQHPk54pZjgxAVFhPYT2FDUBfQnsJ7SUEQPEVX\\u002fEVXw1AUaFChQoVCkAAAAAAAAAAQIwxxhhjjBBAH3zwwQcfDEDpoosuumgQQPSeSfSeSQxAAAAAAAAAEEAn01cJY7MIQLHc0wjLPQlAAAAAAABABkAqLhmCdbQJQDx37ty5cwdABEZgBEZgEEAeHh4eHh4GQAAAAAAAAAhAiVbYHEi0CkBeQ3kN5TUIQHBY+4a1bwxAwmAwGAwGC0DTt78yUegOQHsUrkfheghAwdOt+WGRCkA5juM4juMMQHwaYbmnEQZA7Lqu67quC0CnN73pTW8KQNu2bdu2bQtAsskmm2yyDUD0xxyl21cOQDuxEzuxEwdAS0tLS0tLD0BG8lLpfYELQAdpkAZpkAZAxMadHLFxD0CSoiH+uHUJQDaU11BeQwFA05ve9KY3DUB1a35YpAwQQHzwwQcffBBASZIkSZIkCUBeIJPiBTIJQEmSJEmSJA1Afamg1ZcKCkBBEARBEAQJQPQ8z\\u002fM8zwtAMzMzMzMzDkBVVVVVVVUFQAAAAAAAcBBAAAAAAACwDUA5juM4juMAQEqf9Emf9AFAE7UrUbsSBUDf8i3f8i0HQAAAAAAAgApAhYSEhISEDECEDz744IMDQNiCLdiCLQhAVoixDzDDDUCJ2pWoXYkGQEmSJEmSJAlA9+WxFUHDCUDRRRdddNEFQNmJndiJnQhA5DRfq2eHEECY0F5CewkJQM3MzMzMzAZAFDuxEzuxC0Dofu7nfu4PQIfUBOOt7AtAUuJnlPgZBUD7lQK1fqUQQGxF0HBS9wVABeOt7HNIBUAaYbmnEZYLQAAAAAAAYAxAZmZmZmZmEEAcuZEbuZEDQEDJWFTD7BBAeFKQ\\u002fHmVDUDND4uUgacLQCGtWHjsQAlAxlvZ55CaCEDrBlPks24OQEGeEuQpQQ5ARe1K1K5EDUBpaWlpaWkNQPD7vu\\u002f7vg9ANwhOZcI2EEAyvDgPHcMLQNFFF1100Q1ASgwCK4cWCUAXN2F+V4sHQFVVVVVVVQlAPQrXo3A9BkDFTuzETuwMQAAAAAAAABBAD\\u002fZbbQxND0CIyRXE5AoKQHZiJ3ZiJw5AuLEMSoWJD0DkOI7jOI4LQO3AXDsw1xBAJ3ZiJ3ZiB0CamZmZmRkQQFpaWlpaWgxANXfBX8UJEUB2Yid2YicOQJjQXkJ7CQ1AYbmnEZZ7EEA2IhuRjcgGQH3Lt3zLtwxAHeYwhznMDUAHaZAGaZAGQDip+\\u002fLYighAY86YM+aMCUBpaWlpaWkJQPMaymsorwlAAAAAAADAC0BmZmZmZmYGQJhrB+bagQFAaWlpaWlpDUAlbIAYjfcNQK5H4XoUrgtAs\\u002fuNsvuNCkB605ve9KYLQM3MzMzMTAlAhixkIQtZC0Bo3WCKfNYFQFOb2tSmNg1A3fWzxcrwBUApMOnUPMgNQOmiiy666ApAoS\\u002foC\\u002fqCCkDIQhaykIUGQIhKR\\u002fYMRBBA16HfbB36DUDByyl4OQUHQNAX9AV9Qf8\\u002fNK5FgpoKCUDRRRdddNEDQIT1G2CqOQ5A7Md+7Md+EEBVVVVVVZUPQKuqqqqqSgtAAAAAAABAEEAG52NwPgYHQB+onN3CrwZAhmEYhmEYBkAoS2DTfrIIQM3MzMzMzAxAZmZmZmZmDEC5I+6IO+IKQLpJDAIrhw5AQgghhBBCDEBT1pQ1ZU0JQP7Iab5Wzw5A1E8\\u002f\\u002ffTTD0AjN3IjN3ILQGQhC1nIQgZAAAAAAACgB0ChvYT2EtoLQBEREREREQhAXXTRRRddCEAAAAAAAAALQAAAAAAAYAtAq6qqqqqqDkACkeFeBbMMQOmVsf2OXglAAoFAIBAIEEAjLPc0wnIHQHZiJ3ZiJw5ApU\\u002f6pE\\u002f6CEAHmZcSwSMRQBzHcRzHcQxAYid2Yid2EEDRSfsgGVAHQAAAAAAAwApAAAAAAADgC0AbGxsbGxsLQNUE463scwxAMzMzMzMzC0BCCCGEEEIQQLdt27Zt2wlAq6qqqqoqEUCxEzuxEzsJQCGEEEIIIQRAOY7jOI7jDEDFTuzETuwJQAAAAAAAAAJAzczMzMzMCUBGjBgxYsQIQNlkk0022RBA8fDw8PDwD0AtLS0tLS0KQGQ0TEBGwwxAcT0K16NwDUBxR9wRd8QFQJqZmZmZmQRA+CkuGYJ1DEC\\u002fShibBdUOQGIndmIndhBA9DzP8zzPDEBCewntJbQHQJ7YiZ3YiQ1A6iyms5jOCkDnQe762WINQGOxWCwWiw1AQV\\u002fQF\\u002fQFBUA8PDw8PDwEQPcS2ktoLwlAlwzBOtq8D0CNsNzTCMsJQGlpaWlpaQdAlqhdidqVCkCNZzzjGc8MQGXg6db8sBBA2i38akykB0A9CtejcD0MQJI\\u002fr7I4ow1AttZaa621BkAhL2wV1GYQQA5xlSlgPhBArxY3YX5XC0BfQnsJ7SUEQKuqqqqqqglAt\\u002fCrMZEeEEB0n11AbCoNQGG5pxGWexBAJ3ACJ3ACEUDNzMzMzMwMQFjuaYTlnhBAAAAAAAAAD0BmZmZmZmYQQFI+nZRPJw1AvZhPvZhPDUDVwN4xNbAHQBTwfHrcjBFAwgcffPDBD0CDLdiCLdgOQGcxncV0FgtAT+zETuzEDEDuaYTlnkYIQIXrUbgehQ9AAAAAAAAACEBiJ3ZiJ3YKQEU+6wZT5A9A\\u002fHapJ+O3C0CVO34yFAgQQKc3velNbwxAalOb2tSmDkAYZSqea1YPQNAX9AV9QQdAadKkSZMmCUDIQhaykIUMQG7btm3btgRA0GkDnTbQCUC42OBig4sNQGlpaWlpaRBAAAAAAAAACEAfGutDY30IQEkPVM5u4Q9Ax3Ecx3EcD0BVVVVVVVUNQAAAAAAAgApAGmG5pxGWC0AAAAAAAGAOQAAAAAAAAAxA+l0tbsL8CEDI4HwMzscIQECvsjij3RFAr3OskQiIC0DZ55CaYLwJQDRK\\u002fIwSPw9AtbgJ87taDEDy26WejN8OQFIGnm7NDxFARXqgcnYLEEBMaC+hvYQGQEHDSd2Xxw5Aqtuhuh2qC0BVVVVVVVUMQN+IApNOzQtApshn3WCKBEDLt3zLt3wPQAAAAAAAAAhApqWlpaWlDUCMLrrooosOQMw6LUrqxxFAyz6H1ATjBUDBgQMHDhwIQNgT9oQ9YQ9AHuy32hiaDkBB5ewWfjUOQIuyKIuyKBFAvQOOFA3xD0CyFUHDSd0HQJgin3WDKQ5AE7UrUbsSDUBvX1m9Sx4MQOI0hEq6UQxAS0tLS0vLEEAK16NwPQoHQFVVVVVVVQlAkc+6wRT5DEAb6LSBThsMQGvKmrKmrA1AvYbyGsprCEAsUbsStSsRQOaxFUHDSQ1AAAAAAADgD0B2Yid2YicGQGpXonYlagtANcJyTyMsD0ANJ3VfHlsJQAXiQs1JIA5AMsYYY4wxBkB7Ce0ltJcIQMVO7MRO7ARAq6qqqqqqCECTyodxvy4NQNhQXkN5DQFAd3d3d3d3D0BqV6J2JWoHQMVO7MRO7ABAlieRadhuDkBVh9jAZwwPQDmO4ziO4whAOpUUkPCTC0DLsizLsiwDQDYezR9sPApAhNR1uD1IDUDUCMs9jbAKQGAERmAERghA0uZ9ikuGDkD2OaQmGG8RQEkkEolEIglAsr\\u002fWFZrbCUAAAAAAAAALQEh8O0h8OxBAztah32wdCkCisT401ocOQNmJndiJHRBAdgu\\u002fGhPpAUDNzMzMzMwQQNmJndiJnQBA7MRO7MRODEByBTG5gpgMQAsNWNLLnw5A8y3f8i3fCkCidiVqV6IKQBdddNFFFwVAvoT2EtpLAEDUrkTtStQGQLzHe7zHexBAEGJZP\\u002fEGEEDex4mW63cPQKK8hvIaygNAtStRuxK1A0C66KKLLroLQJqZmZmZmRBAqSfjt0s9CUDmFLycgpcDQFVVVVVVVRFAOyzhqP4+D0Avuuiiiy4KQAAAAAAAEBBA4Y2mzq89EECPrQgaTuoOQKc2talNbQpAttZaa621BkBhuacRlnsNQMYYY4wxxghA98bqD\\u002fRICUChoKCgoKAIQCA2lYac+xBAOY7jOI7jDEAUrkfhehQQQHNPIyz3NApAjC666KKLCEC0EtBKQCsRQIfyGsprKAdAVVVVVVVVDUBGF1100UUHQMEWbMEWbAtA2zesfcPaC0AMwzAMwzAQQEtLS0tLSw9AvmzQ5MsGD0DfT42XbhIPQAAAAAAAwAZAZmZmZmZmEEDsUbgehesJQJqZmZmZmQlAAAAAAACADEDFTuzETuwMQOLh4eHh4QtALPc0wnJPC0BZHxrrQ2MOQDXH7N1auAlAzczMzMzMBEAAAAAAAOAKQCELWchCFg5AetOb3vSmC0BTSimllFIKQJeWlpaWlgpAH+\\u002fxHu\\u002fxDkCCgYGBgYEJQNkaLLYGixFAMzMzMzMzA0AztHYfbgERQC+77LLLLgNAIc7KT4izCkBRXkN5DeUFQHTnzp07dwZAZfoqYWwWDECSJEmSJEkKQL8aE+mByhFAbm5ubm5uBkA5juM4juMLQO\\u002fu7u7u7gRAkiRJkiTJDUBFWw2eI1AMQC6GdN5iSA9AqFvzwyJlDEAzMzMzMzMLQLiyzyE1wQxAf4VZjSIODUAAAAAAAAAQQHE9CtejcA1AZmZmZmZmDkDIQhaykIUIQE9u8eQWTxBArDGRHqicBUCyFUHDSd0RQM3MzMzMzAhAj8L1KFyPD0DiG1Fg0qkJQC+66KKLLgZA\"},\"coloraxis\":\"coloraxis\",\"size\":{\"dtype\":\"i2\",\"bdata\":\"2gB9AF0AIAEMBDsA\\u002fgBcAmcAVwBsAE4A3gCGAGACQQBWAF4DyABsA04A8wCMBJABdAFwBEIAKAI2AOwBYwBkAHwANQByAMYAkABOAEIAaAE4AEUAfgC6ATwDNwBLAEABbABEAnYA+QBZAeAAggCRArwCOQByADwAOABqAMoAugAkA8gBOAJbAKwAcwA6AF4COAF4AKsAYgA0AHQAdAHMAE8AOABgAKgAqwCSACUBogA2ADcAJgJcADoAVADxAlUAzwBCAPQAvQBAAFsCYAAEAkQATADwAGAAewPQAJoAvgBKAEoBhgBEAPwBSQBWAIgCagA6AEEArACrAGwAeQDZAlsAaAA+AGAAOADwAKAA9gK5AUUAVACDAWsBmADGAFoAngBYAMAAGQKUACMBFwHdAFABqgB9AJsB1gBSAKgAnAT6A1IASAFEAA0CAgF1ALoB0AAAAc4BkgFOAE0AUQDcATYAxgAAA+ABaAHCAKsAagBAACsB+wA2ADgAggDwAIIAuAAjAdgA5ADwAsADjgCIAOYBTAEuAT4AxABQAEoBngDkACYBXABlAEYAhAEyANoBugBFAHEBsAQ7AKAACgHiAGIBmghGAKMFQACcAWwBbAFaAEAAOgD8AfgBZAEGAmgAOgGAAEAARgJaAHsAWgBAAAoCXAD0BTwAgABAANQAYACKAYQANgAuAVAAWAGgAPcARAA+AJ8AaAFDAHwAwwNaAPYBegBjAFEAqABOAJkA5gDMAaAC\\u002fgE7AQ0C9gHDAEYAmAFEAXMC\\u002fgFWAAABNAAzAEUAYAABAtcEcwKJAQECxgASAcQBUADeAYQA\\u002fgFIAPgANgA+AAsBQAEwAigBYwAyAFoAlQA+AKAAeQBQAJ0CqwA2ANIAbQE2APgASgFYADIBOAASAXQAQAB6ANsAdQDMADYAjgBMANwAfQHGASwBogBsADoAfgDmADgAQgBSATQAZgAHBXUAlgISAXIAXABRAOcAjACuAPwAkQB6AX4AMAKEAEAAAAM2AFoAewB1AOAB\\u002fwAIAVoADwOkADgAdgCEAEEA8gCiADwArQF1AGoAigCkBHYAnwB0AIABeADDAFoBVAJEAeUBagAoAZQCUgBmAD8AdgFyAW4AfQB4AjYAZAA0AIQAnAFeAFsAawE2ABQBaABQAEQABgERATYAOgBkA04AFgJOAHYAgwFmAL4AgAE8AIoARAC8BJYA7gC4AEABuABKAFkAygBlAIQACAS4ADwBrgBiAFYAqQBYACUBaQDAAMAAYAH2AIYApAG0AXgAyABYAfoAPgBWAHkAXQAEAUUAAAFRAPAAWABAAIAASACtAW8AfwA6ADQAWgBmATYAnACMAkAAgABVAGoAlgA+AOAACAFOAHwASAA4ATwAUACSAEIAEAGYAdcAZACsAFAA6AGJANAAUAGiADQAVgHKAP4AVgDMAFEAbgE6AEQASAFkARAFQwDIAFQCPgDNAhQDTwA2AJAAhgCvAHQASAORADoAAAGMABYCdwCaAKIBhABaAHIANAA6AJYAgQBOACgBRwDnCVwAsgCdAIEAJAEUATgASwBuBIgASgBiAAwBtAByAEAACgKAAHwBtAOkAFQCvAPUAIoAngBHAKIAGAKiANgBNgFIAGUASgCcADwAMwBCABsBagCSAAIBzgBDAAwDEgF2AJQApABSAaoBEAEyAJAASgDCAQQCHQFSAHYAAAFOAKQAOgA7AN4A0QE2ADwCSACyAnIAWgB7ADQAYQCpAgECVQK9AOMBRwRcAV8B3AJjC30BTANAAOIBBQFiANAAhgBBAGgAggBeADoBTgCkADcANgCkAGwBdQOHAzkAewCwADwA1QBiAJAAPQJCAEAAUwA7AAsBPgDoAD4AggFmABoENgCWAK4AWADbADkAbABCABwCuAE\\u002fAGYATAX6AMAAUAAyAEYAQAM4ASACVwAQA28DMgDAALgAXAB8AEQAtgCqABYCSwBmAV0AmgBMALYBEgF+AEMAzACQADwA4ADmAEQCRAGqANQA0gOrAOEAlgBcANgDhgDsADIAkAEvAYQA\"},\"sizemode\":\"area\",\"sizeref\":7.2875,\"symbol\":\"circle\"},\"mode\":\"markers\",\"name\":\"\",\"orientation\":\"v\",\"showlegend\":false,\"x\":{\"dtype\":\"i2\",\"bdata\":\"2gB9AF0AIAEMBDsA\\u002fgBcAmcAVwBsAE4A3gCGAGACQQBWAF4DyABsA04A8wCMBJABdAFwBEIAKAI2AOwBYwBkAHwANQByAMYAkABOAEIAaAE4AEUAfgC6ATwDNwBLAEABbABEAnYA+QBZAeAAggCRArwCOQByADwAOABqAMoAugAkA8gBOAJbAKwAcwA6AF4COAF4AKsAYgA0AHQAdAHMAE8AOABgAKgAqwCSACUBogA2ADcAJgJcADoAVADxAlUAzwBCAPQAvQBAAFsCYAAEAkQATADwAGAAewPQAJoAvgBKAEoBhgBEAPwBSQBWAIgCagA6AEEArACrAGwAeQDZAlsAaAA+AGAAOADwAKAA9gK5AUUAVACDAWsBmADGAFoAngBYAMAAGQKUACMBFwHdAFABqgB9AJsB1gBSAKgAnAT6A1IASAFEAA0CAgF1ALoB0AAAAc4BkgFOAE0AUQDcATYAxgAAA+ABaAHCAKsAagBAACsB+wA2ADgAggDwAIIAuAAjAdgA5ADwAsADjgCIAOYBTAEuAT4AxABQAEoBngDkACYBXABlAEYAhAEyANoBugBFAHEBsAQ7AKAACgHiAGIBmghGAKMFQACcAWwBbAFaAEAAOgD8AfgBZAEGAmgAOgGAAEAARgJaAHsAWgBAAAoCXAD0BTwAgABAANQAYACKAYQANgAuAVAAWAGgAPcARAA+AJ8AaAFDAHwAwwNaAPYBegBjAFEAqABOAJkA5gDMAaAC\\u002fgE7AQ0C9gHDAEYAmAFEAXMC\\u002fgFWAAABNAAzAEUAYAABAtcEcwKJAQECxgASAcQBUADeAYQA\\u002fgFIAPgANgA+AAsBQAEwAigBYwAyAFoAlQA+AKAAeQBQAJ0CqwA2ANIAbQE2APgASgFYADIBOAASAXQAQAB6ANsAdQDMADYAjgBMANwAfQHGASwBogBsADoAfgDmADgAQgBSATQAZgAHBXUAlgISAXIAXABRAOcAjACuAPwAkQB6AX4AMAKEAEAAAAM2AFoAewB1AOAB\\u002fwAIAVoADwOkADgAdgCEAEEA8gCiADwArQF1AGoAigCkBHYAnwB0AIABeADDAFoBVAJEAeUBagAoAZQCUgBmAD8AdgFyAW4AfQB4AjYAZAA0AIQAnAFeAFsAawE2ABQBaABQAEQABgERATYAOgBkA04AFgJOAHYAgwFmAL4AgAE8AIoARAC8BJYA7gC4AEABuABKAFkAygBlAIQACAS4ADwBrgBiAFYAqQBYACUBaQDAAMAAYAH2AIYApAG0AXgAyABYAfoAPgBWAHkAXQAEAUUAAAFRAPAAWABAAIAASACtAW8AfwA6ADQAWgBmATYAnACMAkAAgABVAGoAlgA+AOAACAFOAHwASAA4ATwAUACSAEIAEAGYAdcAZACsAFAA6AGJANAAUAGiADQAVgHKAP4AVgDMAFEAbgE6AEQASAFkARAFQwDIAFQCPgDNAhQDTwA2AJAAhgCvAHQASAORADoAAAGMABYCdwCaAKIBhABaAHIANAA6AJYAgQBOACgBRwDnCVwAsgCdAIEAJAEUATgASwBuBIgASgBiAAwBtAByAEAACgKAAHwBtAOkAFQCvAPUAIoAngBHAKIAGAKiANgBNgFIAGUASgCcADwAMwBCABsBagCSAAIBzgBDAAwDEgF2AJQApABSAaoBEAEyAJAASgDCAQQCHQFSAHYAAAFOAKQAOgA7AN4A0QE2ADwCSACyAnIAWgB7ADQAYQCpAgECVQK9AOMBRwRcAV8B3AJjC30BTANAAOIBBQFiANAAhgBBAGgAggBeADoBTgCkADcANgCkAGwBdQOHAzkAewCwADwA1QBiAJAAPQJCAEAAUwA7AAsBPgDoAD4AggFmABoENgCWAK4AWADbADkAbABCABwCuAE\\u002fAGYATAX6AMAAUAAyAEYAQAM4ASACVwAQA28DMgDAALgAXAB8AEQAtgCqABYCSwBmAV0AmgBMALYBEgF+AEMAzACQADwA4ADmAEQCRAGqANQA0gOrAOEAlgBcANgDhgDsADIAkAEvAYQA\"},\"xaxis\":\"x\",\"y\":{\"dtype\":\"f8\",\"bdata\":\"QvT4LhxEB0DHSzeJQWARQM4555xzzglAAAAAAAAADEAM\\u002fKvGvcAPQHVfHlsRNBBAvV6v1+v1CkBm3DJuGbcMQE13sN9qYwhAs3XoN1uHBkBVVVVVVVUJQJAGaZAGaQhAHEyRz7rBDED41ZhID1QOQMprKK+hvBBAO7ETO7ETC0AecUfcEXcEQKIQXCt5DA1ACtejcD0KC0AJaCWglYAOQE\\u002fsxE7sxAZAVVVVVVVVDUBIeodiMCMQQKRwPQrXowZAxhhjjDHGCEB7Mn671JMPQC+66KKLLhBAetOb3vSmEEBVVVVVVVUJQAbnY3A+Bg1AniExb2dIDECamZmZmZkNQNdaa6211g5ATTDeyj6HBEAN5TWU11ACQGWTTTbZZAtAVVVVVVVVC0AndmIndmIHQLrooosuughAn\\u002fRJn\\u002fRJD0AAAAAAAAAEQHrTm970pg9A3\\u002fd93\\u002fd9D0C4VS64VS4QQNcOzLUDcw9APSXIU4I8DUC4HoXrUbgGQGZmZmZmZhBAmNBeQnsJCUAjLPc0wnILQOaxFUHDSQ1A20MuKwZKCEBFWw2eI1AQQJIkSZIkyRBAgh\\u002f4gR\\u002f4CUBqf6n9pfYPQGMEE\\u002f2drA5AeQ3lNZTXCEDTWUxnMZ0NQO\\u002fu7u7u7v4\\u002fJUmSJEmSBEDyVvY5pCYIQJbhG1Fg0glAnXPOOeecA0DfSZY6QmwLQFVVVVVVVQVA4C71ZPx2BUBlVEZlVEYFQKEv6Av6ggJAspCFLGQhC0ASlnsaYbkPQB7krp8tVg5A7MRO7MROBkDe3d3d3d0JQPwI7iO4jwhA0VgfGutDC0BP7MRO7MQGQLHc0wjLPQ9ApZRSSimlDkCwr6+vr68LQB3ZMxCVjgxASZIkSZIkA0AAAAAAAIACQKuqqqqqqg5ARnMZzWU0D0DBgQMHDhwQQPgUyD+rjAtA1\\u002fywSBl4DkDkOI7jOI4LQBdddNFFFwVAjfjXiH+NEECc3vSmN70FQHwaYbmnEQZAJUmSJEmSBkBWRKdUd7EOQO7t7e3t7Q1A\\u002fIwSP6PEB0BddNFFF10EQD\\u002fFJUOwjg5ALcuyLMuyDEAAAAAAAIAGQJCXwSjg0BBAVVVVVVVVAUClLWlL2pIOQC0tLS0tLQlAvYbyGsprBkBEREREREQJQAAAAAAAgA9Am2yyySabEECe2Imd2IkOQBTirPyEOAtA+NwSp37PDUBo3WCKfNYNQLScP8v5sxBA4VdjIj1QCUC1tLS0tLQOQBAIBAKBQAhA3blz586dC0BxR9wRd8QNQHsJ7SW0lw9A+xxSE4y3AkAs9zTCck8DQI7cyI3cyAVADPqCvqAvDEBjOovpLKYLQCa0l9BeQgtATvO1enYIDEDnh0XKwNMRQP3SL\\u002f3SLw1A2Ymd2ImdCECdc84555wPQAAAAAAAwAZASZIkSZIkD0CamZmZmZkFQGZmZmZmZg9AD55i6l+2DkAj5K\\u002fZUYsQQARz7cBcOxBAJUmSJEmSDEAqa8qasqYMQGz17BC4sRBAUV5DeQ3lC0DXrxSo9SsRQKVP+qRP+gxAOrJnICodCUBddNFFF10EQFVVVVVVVQ5AHWReSgSPDEDrBlPks24OQNvN8iQyDQtALLDAAgssCEAfqUYfqUYPQG7btm3b9hFArKurq6urC0BkO99PjZcOQI4UDfHHrQtAVNdycLNfCEDC+Ricj8EBQOh5nud5ngNAoeGk7stjC0ARC7J2pG0OQDI4H4PzMQhA9DE4H4PzD0BLS0tLS0sJQODJanljBAtAm7KmrClrCkCxEzuxEzsJQG0K42wK4wxAxU7sxE7sCEAAAAAAAGAEQOUnxFn5CQ1AD1TObuFXC0Df8i3f8i3\\u002fPyHOyk+IswpAeLo1PyxSDkDVi\\u002fnUi\\u002fkMQOQ4juM4jgNAjC666KKLDkAAAAAAAFgOQHd3d3d3dwdAMzMzMzMzDUAwrn7QUYEPQM9iOovpLAZA2eeQmmC8BUAAAAAAAMALQEv4mmGqKw9AXqxVRKdUD0ByHMdxHMcFQNu2bdu2bQtAMzMzMzMzC0CrqqqqqqoOQD\\u002fwAz\\u002fwAw9A05ve9KY3CUCkAl9c\\u002faALQOQ4juM4jgpAZzGdxXQWC0CZXEFMriAMQN7d3d3d3QhAKOO3Sz0ZB0AAAAAAAAAQQDpTy4W7+g5AlPBGU+fXCkDSHGmONEcKQL733nvvvQ9ANNaHxvrQCEAAAAAAAAAIQNFFF1100Q1AeLW4CfO7CkC9hvIaymsMQJsdtQj5aw5AvelNb3rTB0B1ah7krp8FQL7iK77iKw5AX1z9oKMCEUA9CtejcD0CQFHpyJ6BqAhAAAAAAAAAEEAAAAAAAAAIQPjLer+s9wtAq6qqqqqqDkCPrQgaTuoOQDMzMzMzMxBA\\u002fkz4M+HPDEDsGMW5jlEMQEAUkgt4vQ1A3AuBqUPREEDbtm3btm0PQBdUoq92QQ1AAAAAAAAAC0A82G+1MTQJQBQ7sRM7sQNA8h7v8R7vCUC8u7u7u7sHQAAAAAAA4AxAIyz3NMJyB0Amk8lkMpkEQAzDMAzDMApAQhGKUIQiDECHfSucdtgHQOzETuzETgRANGBJL3\\u002faCkAAAAAAAGAJQAAAAAAAQAhAMg3bzfIkDkC8u7u7u7sHQCxRuxK1KwlAHMdxHMdxDEAAAAAAAMAIQCCT4gUyKQ5AvelNb3rTD0Do8\\u002fl8Pp8QQKuqqqqqqgxAAAAAAAAwB0AAAAAAAAAFQOiQmmC8lQ1Aq6qqqqrqCEA168\\u002fgN9ELQHTRRRdddAdAq6qqqqqqBkCS5khzpDkKQGZmZmZmZgdADPqCvqAvCEBmZmZmZiYIQIlkmfSMSA5ALS0tLS0tBUCEEEIIIYQAQLyVfQ6pCQZAzczMzMzMDEAfqJzdwq8OQIwxxhhjjAlApLIgFyPUDkBEREREREQIQN3FWkV0Sg1AWEeb9ykuCUCjiy666KIDQKG9hPYS2vs\\u002fq6qqqqqqCkBCGqRBGqQJQB4eHh4eHg5AniNQtNXgCUBvetOb3vQIQNu2bdu2LRBAdXV1dXV1DUCndmqndmoPQOF6FK5H4QpAoyCgub6\\u002fDEBQARVQARUQQF\\u002fxFV\\u002fxFQ9AxMPDw8PDDEC0l9BeQnsFQJ2A59PjZgxAuLe3t7e3C0BNWVPWlDUNQAAAAAAAoAlAsRM7sRM7DUD29fX19fUNQDsw1w7MtQtAAAAAAAAABkDeRHYT2U0QQPpc8o0XIhFA2u6t0hS\\u002fEECB6thbG6YJQIjvIL6D+A5AuDMk5u0MEUACR4qG+OMOQBnFuY5RnA9AMzMzMzMzB0BtBqbrHGsQQG2yySabbBBAx8bGxsbGCkAAAAAAAAAAQGuttdZaaxBAchzHcRzHCUBTSimllFIKQL7uda973QtAZmZmZmZmDUDUQR3UQR0OQDBFPusGUwhA2WSTTTbZBECamZmZmZkBQLZgC7ZgCxBA17cBQzUdC0A655xzzjkHQJqZmZmZmQVAjC666KKLDkCamZmZmZkFQHPk54pZjgxAVFhPYT2FDUBfQnsJ7SUEQPEVX\\u002fEVXw1AUaFChQoVCkAAAAAAAAAAQIwxxhhjjBBAH3zwwQcfDEDpoosuumgQQPSeSfSeSQxAAAAAAAAAEEAn01cJY7MIQLHc0wjLPQlAAAAAAABABkAqLhmCdbQJQDx37ty5cwdABEZgBEZgEEAeHh4eHh4GQAAAAAAAAAhAiVbYHEi0CkBeQ3kN5TUIQHBY+4a1bwxAwmAwGAwGC0DTt78yUegOQHsUrkfheghAwdOt+WGRCkA5juM4juMMQHwaYbmnEQZA7Lqu67quC0CnN73pTW8KQNu2bdu2bQtAsskmm2yyDUD0xxyl21cOQDuxEzuxEwdAS0tLS0tLD0BG8lLpfYELQAdpkAZpkAZAxMadHLFxD0CSoiH+uHUJQDaU11BeQwFA05ve9KY3DUB1a35YpAwQQHzwwQcffBBASZIkSZIkCUBeIJPiBTIJQEmSJEmSJA1Afamg1ZcKCkBBEARBEAQJQPQ8z\\u002fM8zwtAMzMzMzMzDkBVVVVVVVUFQAAAAAAAcBBAAAAAAACwDUA5juM4juMAQEqf9Emf9AFAE7UrUbsSBUDf8i3f8i0HQAAAAAAAgApAhYSEhISEDECEDz744IMDQNiCLdiCLQhAVoixDzDDDUCJ2pWoXYkGQEmSJEmSJAlA9+WxFUHDCUDRRRdddNEFQNmJndiJnQhA5DRfq2eHEECY0F5CewkJQM3MzMzMzAZAFDuxEzuxC0Dofu7nfu4PQIfUBOOt7AtAUuJnlPgZBUD7lQK1fqUQQGxF0HBS9wVABeOt7HNIBUAaYbmnEZYLQAAAAAAAYAxAZmZmZmZmEEAcuZEbuZEDQEDJWFTD7BBAeFKQ\\u002fHmVDUDND4uUgacLQCGtWHjsQAlAxlvZ55CaCEDrBlPks24OQEGeEuQpQQ5ARe1K1K5EDUBpaWlpaWkNQPD7vu\\u002f7vg9ANwhOZcI2EEAyvDgPHcMLQNFFF1100Q1ASgwCK4cWCUAXN2F+V4sHQFVVVVVVVQlAPQrXo3A9BkDFTuzETuwMQAAAAAAAABBAD\\u002fZbbQxND0CIyRXE5AoKQHZiJ3ZiJw5AuLEMSoWJD0DkOI7jOI4LQO3AXDsw1xBAJ3ZiJ3ZiB0CamZmZmRkQQFpaWlpaWgxANXfBX8UJEUB2Yid2YicOQJjQXkJ7CQ1AYbmnEZZ7EEA2IhuRjcgGQH3Lt3zLtwxAHeYwhznMDUAHaZAGaZAGQDip+\\u002fLYighAY86YM+aMCUBpaWlpaWkJQPMaymsorwlAAAAAAADAC0BmZmZmZmYGQJhrB+bagQFAaWlpaWlpDUAlbIAYjfcNQK5H4XoUrgtAs\\u002fuNsvuNCkB605ve9KYLQM3MzMzMTAlAhixkIQtZC0Bo3WCKfNYFQFOb2tSmNg1A3fWzxcrwBUApMOnUPMgNQOmiiy666ApAoS\\u002foC\\u002fqCCkDIQhaykIUGQIhKR\\u002fYMRBBA16HfbB36DUDByyl4OQUHQNAX9AV9Qf8\\u002fNK5FgpoKCUDRRRdddNEDQIT1G2CqOQ5A7Md+7Md+EEBVVVVVVZUPQKuqqqqqSgtAAAAAAABAEEAG52NwPgYHQB+onN3CrwZAhmEYhmEYBkAoS2DTfrIIQM3MzMzMzAxAZmZmZmZmDEC5I+6IO+IKQLpJDAIrhw5AQgghhBBCDEBT1pQ1ZU0JQP7Iab5Wzw5A1E8\\u002f\\u002ffTTD0AjN3IjN3ILQGQhC1nIQgZAAAAAAACgB0ChvYT2EtoLQBEREREREQhAXXTRRRddCEAAAAAAAAALQAAAAAAAYAtAq6qqqqqqDkACkeFeBbMMQOmVsf2OXglAAoFAIBAIEEAjLPc0wnIHQHZiJ3ZiJw5ApU\\u002f6pE\\u002f6CEAHmZcSwSMRQBzHcRzHcQxAYid2Yid2EEDRSfsgGVAHQAAAAAAAwApAAAAAAADgC0AbGxsbGxsLQNUE463scwxAMzMzMzMzC0BCCCGEEEIQQLdt27Zt2wlAq6qqqqoqEUCxEzuxEzsJQCGEEEIIIQRAOY7jOI7jDEDFTuzETuwJQAAAAAAAAAJAzczMzMzMCUBGjBgxYsQIQNlkk0022RBA8fDw8PDwD0AtLS0tLS0KQGQ0TEBGwwxAcT0K16NwDUBxR9wRd8QFQJqZmZmZmQRA+CkuGYJ1DEC\\u002fShibBdUOQGIndmIndhBA9DzP8zzPDEBCewntJbQHQJ7YiZ3YiQ1A6iyms5jOCkDnQe762WINQGOxWCwWiw1AQV\\u002fQF\\u002fQFBUA8PDw8PDwEQPcS2ktoLwlAlwzBOtq8D0CNsNzTCMsJQGlpaWlpaQdAlqhdidqVCkCNZzzjGc8MQGXg6db8sBBA2i38akykB0A9CtejcD0MQJI\\u002fr7I4ow1AttZaa621BkAhL2wV1GYQQA5xlSlgPhBArxY3YX5XC0BfQnsJ7SUEQKuqqqqqqglAt\\u002fCrMZEeEEB0n11AbCoNQGG5pxGWexBAJ3ACJ3ACEUDNzMzMzMwMQFjuaYTlnhBAAAAAAAAAD0BmZmZmZmYQQFI+nZRPJw1AvZhPvZhPDUDVwN4xNbAHQBTwfHrcjBFAwgcffPDBD0CDLdiCLdgOQGcxncV0FgtAT+zETuzEDEDuaYTlnkYIQIXrUbgehQ9AAAAAAAAACEBiJ3ZiJ3YKQEU+6wZT5A9A\\u002fHapJ+O3C0CVO34yFAgQQKc3velNbwxAalOb2tSmDkAYZSqea1YPQNAX9AV9QQdAadKkSZMmCUDIQhaykIUMQG7btm3btgRA0GkDnTbQCUC42OBig4sNQGlpaWlpaRBAAAAAAAAACEAfGutDY30IQEkPVM5u4Q9Ax3Ecx3EcD0BVVVVVVVUNQAAAAAAAgApAGmG5pxGWC0AAAAAAAGAOQAAAAAAAAAxA+l0tbsL8CEDI4HwMzscIQECvsjij3RFAr3OskQiIC0DZ55CaYLwJQDRK\\u002fIwSPw9AtbgJ87taDEDy26WejN8OQFIGnm7NDxFARXqgcnYLEEBMaC+hvYQGQEHDSd2Xxw5Aqtuhuh2qC0BVVVVVVVUMQN+IApNOzQtApshn3WCKBEDLt3zLt3wPQAAAAAAAAAhApqWlpaWlDUCMLrrooosOQMw6LUrqxxFAyz6H1ATjBUDBgQMHDhwIQNgT9oQ9YQ9AHuy32hiaDkBB5ewWfjUOQIuyKIuyKBFAvQOOFA3xD0CyFUHDSd0HQJgin3WDKQ5AE7UrUbsSDUBvX1m9Sx4MQOI0hEq6UQxAS0tLS0vLEEAK16NwPQoHQFVVVVVVVQlAkc+6wRT5DEAb6LSBThsMQGvKmrKmrA1AvYbyGsprCEAsUbsStSsRQOaxFUHDSQ1AAAAAAADgD0B2Yid2YicGQGpXonYlagtANcJyTyMsD0ANJ3VfHlsJQAXiQs1JIA5AMsYYY4wxBkB7Ce0ltJcIQMVO7MRO7ARAq6qqqqqqCECTyodxvy4NQNhQXkN5DQFAd3d3d3d3D0BqV6J2JWoHQMVO7MRO7ABAlieRadhuDkBVh9jAZwwPQDmO4ziO4whAOpUUkPCTC0DLsizLsiwDQDYezR9sPApAhNR1uD1IDUDUCMs9jbAKQGAERmAERghA0uZ9ikuGDkD2OaQmGG8RQEkkEolEIglAsr\\u002fWFZrbCUAAAAAAAAALQEh8O0h8OxBAztah32wdCkCisT401ocOQNmJndiJHRBAdgu\\u002fGhPpAUDNzMzMzMwQQNmJndiJnQBA7MRO7MRODEByBTG5gpgMQAsNWNLLnw5A8y3f8i3fCkCidiVqV6IKQBdddNFFFwVAvoT2EtpLAEDUrkTtStQGQLzHe7zHexBAEGJZP\\u002fEGEEDex4mW63cPQKK8hvIaygNAtStRuxK1A0C66KKLLroLQJqZmZmZmRBAqSfjt0s9CUDmFLycgpcDQFVVVVVVVRFAOyzhqP4+D0Avuuiiiy4KQAAAAAAAEBBA4Y2mzq89EECPrQgaTuoOQKc2talNbQpAttZaa621BkBhuacRlnsNQMYYY4wxxghA98bqD\\u002fRICUChoKCgoKAIQCA2lYac+xBAOY7jOI7jDEAUrkfhehQQQHNPIyz3NApAjC666KKLCEC0EtBKQCsRQIfyGsprKAdAVVVVVVVVDUBGF1100UUHQMEWbMEWbAtA2zesfcPaC0AMwzAMwzAQQEtLS0tLSw9AvmzQ5MsGD0DfT42XbhIPQAAAAAAAwAZAZmZmZmZmEEDsUbgehesJQJqZmZmZmQlAAAAAAACADEDFTuzETuwMQOLh4eHh4QtALPc0wnJPC0BZHxrrQ2MOQDXH7N1auAlAzczMzMzMBEAAAAAAAOAKQCELWchCFg5AetOb3vSmC0BTSimllFIKQJeWlpaWlgpAH+\\u002fxHu\\u002fxDkCCgYGBgYEJQNkaLLYGixFAMzMzMzMzA0AztHYfbgERQC+77LLLLgNAIc7KT4izCkBRXkN5DeUFQHTnzp07dwZAZfoqYWwWDECSJEmSJEkKQL8aE+mByhFAbm5ubm5uBkA5juM4juMLQO\\u002fu7u7u7gRAkiRJkiTJDUBFWw2eI1AMQC6GdN5iSA9AqFvzwyJlDEAzMzMzMzMLQLiyzyE1wQxAf4VZjSIODUAAAAAAAAAQQHE9CtejcA1AZmZmZmZmDkDIQhaykIUIQE9u8eQWTxBArDGRHqicBUCyFUHDSd0RQM3MzMzMzAhAj8L1KFyPD0DiG1Fg0qkJQC+66KKLLgZA\"},\"yaxis\":\"y\",\"type\":\"scatter\"}],                        {\"template\":{\"data\":{\"barpolar\":[{\"marker\":{\"line\":{\"color\":\"rgb(17,17,17)\",\"width\":0.5},\"pattern\":{\"fillmode\":\"overlay\",\"size\":10,\"solidity\":0.2}},\"type\":\"barpolar\"}],\"bar\":[{\"error_x\":{\"color\":\"#f2f5fa\"},\"error_y\":{\"color\":\"#f2f5fa\"},\"marker\":{\"line\":{\"color\":\"rgb(17,17,17)\",\"width\":0.5},\"pattern\":{\"fillmode\":\"overlay\",\"size\":10,\"solidity\":0.2}},\"type\":\"bar\"}],\"carpet\":[{\"aaxis\":{\"endlinecolor\":\"#A2B1C6\",\"gridcolor\":\"#506784\",\"linecolor\":\"#506784\",\"minorgridcolor\":\"#506784\",\"startlinecolor\":\"#A2B1C6\"},\"baxis\":{\"endlinecolor\":\"#A2B1C6\",\"gridcolor\":\"#506784\",\"linecolor\":\"#506784\",\"minorgridcolor\":\"#506784\",\"startlinecolor\":\"#A2B1C6\"},\"type\":\"carpet\"}],\"choropleth\":[{\"colorbar\":{\"outlinewidth\":0,\"ticks\":\"\"},\"type\":\"choropleth\"}],\"contourcarpet\":[{\"colorbar\":{\"outlinewidth\":0,\"ticks\":\"\"},\"type\":\"contourcarpet\"}],\"contour\":[{\"colorbar\":{\"outlinewidth\":0,\"ticks\":\"\"},\"colorscale\":[[0.0,\"#0d0887\"],[0.1111111111111111,\"#46039f\"],[0.2222222222222222,\"#7201a8\"],[0.3333333333333333,\"#9c179e\"],[0.4444444444444444,\"#bd3786\"],[0.5555555555555556,\"#d8576b\"],[0.6666666666666666,\"#ed7953\"],[0.7777777777777778,\"#fb9f3a\"],[0.8888888888888888,\"#fdca26\"],[1.0,\"#f0f921\"]],\"type\":\"contour\"}],\"heatmap\":[{\"colorbar\":{\"outlinewidth\":0,\"ticks\":\"\"},\"colorscale\":[[0.0,\"#0d0887\"],[0.1111111111111111,\"#46039f\"],[0.2222222222222222,\"#7201a8\"],[0.3333333333333333,\"#9c179e\"],[0.4444444444444444,\"#bd3786\"],[0.5555555555555556,\"#d8576b\"],[0.6666666666666666,\"#ed7953\"],[0.7777777777777778,\"#fb9f3a\"],[0.8888888888888888,\"#fdca26\"],[1.0,\"#f0f921\"]],\"type\":\"heatmap\"}],\"histogram2dcontour\":[{\"colorbar\":{\"outlinewidth\":0,\"ticks\":\"\"},\"colorscale\":[[0.0,\"#0d0887\"],[0.1111111111111111,\"#46039f\"],[0.2222222222222222,\"#7201a8\"],[0.3333333333333333,\"#9c179e\"],[0.4444444444444444,\"#bd3786\"],[0.5555555555555556,\"#d8576b\"],[0.6666666666666666,\"#ed7953\"],[0.7777777777777778,\"#fb9f3a\"],[0.8888888888888888,\"#fdca26\"],[1.0,\"#f0f921\"]],\"type\":\"histogram2dcontour\"}],\"histogram2d\":[{\"colorbar\":{\"outlinewidth\":0,\"ticks\":\"\"},\"colorscale\":[[0.0,\"#0d0887\"],[0.1111111111111111,\"#46039f\"],[0.2222222222222222,\"#7201a8\"],[0.3333333333333333,\"#9c179e\"],[0.4444444444444444,\"#bd3786\"],[0.5555555555555556,\"#d8576b\"],[0.6666666666666666,\"#ed7953\"],[0.7777777777777778,\"#fb9f3a\"],[0.8888888888888888,\"#fdca26\"],[1.0,\"#f0f921\"]],\"type\":\"histogram2d\"}],\"histogram\":[{\"marker\":{\"pattern\":{\"fillmode\":\"overlay\",\"size\":10,\"solidity\":0.2}},\"type\":\"histogram\"}],\"mesh3d\":[{\"colorbar\":{\"outlinewidth\":0,\"ticks\":\"\"},\"type\":\"mesh3d\"}],\"parcoords\":[{\"line\":{\"colorbar\":{\"outlinewidth\":0,\"ticks\":\"\"}},\"type\":\"parcoords\"}],\"pie\":[{\"automargin\":true,\"type\":\"pie\"}],\"scatter3d\":[{\"line\":{\"colorbar\":{\"outlinewidth\":0,\"ticks\":\"\"}},\"marker\":{\"colorbar\":{\"outlinewidth\":0,\"ticks\":\"\"}},\"type\":\"scatter3d\"}],\"scattercarpet\":[{\"marker\":{\"colorbar\":{\"outlinewidth\":0,\"ticks\":\"\"}},\"type\":\"scattercarpet\"}],\"scattergeo\":[{\"marker\":{\"colorbar\":{\"outlinewidth\":0,\"ticks\":\"\"}},\"type\":\"scattergeo\"}],\"scattergl\":[{\"marker\":{\"line\":{\"color\":\"#283442\"}},\"type\":\"scattergl\"}],\"scattermapbox\":[{\"marker\":{\"colorbar\":{\"outlinewidth\":0,\"ticks\":\"\"}},\"type\":\"scattermapbox\"}],\"scattermap\":[{\"marker\":{\"colorbar\":{\"outlinewidth\":0,\"ticks\":\"\"}},\"type\":\"scattermap\"}],\"scatterpolargl\":[{\"marker\":{\"colorbar\":{\"outlinewidth\":0,\"ticks\":\"\"}},\"type\":\"scatterpolargl\"}],\"scatterpolar\":[{\"marker\":{\"colorbar\":{\"outlinewidth\":0,\"ticks\":\"\"}},\"type\":\"scatterpolar\"}],\"scatter\":[{\"marker\":{\"line\":{\"color\":\"#283442\"}},\"type\":\"scatter\"}],\"scatterternary\":[{\"marker\":{\"colorbar\":{\"outlinewidth\":0,\"ticks\":\"\"}},\"type\":\"scatterternary\"}],\"surface\":[{\"colorbar\":{\"outlinewidth\":0,\"ticks\":\"\"},\"colorscale\":[[0.0,\"#0d0887\"],[0.1111111111111111,\"#46039f\"],[0.2222222222222222,\"#7201a8\"],[0.3333333333333333,\"#9c179e\"],[0.4444444444444444,\"#bd3786\"],[0.5555555555555556,\"#d8576b\"],[0.6666666666666666,\"#ed7953\"],[0.7777777777777778,\"#fb9f3a\"],[0.8888888888888888,\"#fdca26\"],[1.0,\"#f0f921\"]],\"type\":\"surface\"}],\"table\":[{\"cells\":{\"fill\":{\"color\":\"#506784\"},\"line\":{\"color\":\"rgb(17,17,17)\"}},\"header\":{\"fill\":{\"color\":\"#2a3f5f\"},\"line\":{\"color\":\"rgb(17,17,17)\"}},\"type\":\"table\"}]},\"layout\":{\"annotationdefaults\":{\"arrowcolor\":\"#f2f5fa\",\"arrowhead\":0,\"arrowwidth\":1},\"autotypenumbers\":\"strict\",\"coloraxis\":{\"colorbar\":{\"outlinewidth\":0,\"ticks\":\"\"}},\"colorscale\":{\"diverging\":[[0,\"#8e0152\"],[0.1,\"#c51b7d\"],[0.2,\"#de77ae\"],[0.3,\"#f1b6da\"],[0.4,\"#fde0ef\"],[0.5,\"#f7f7f7\"],[0.6,\"#e6f5d0\"],[0.7,\"#b8e186\"],[0.8,\"#7fbc41\"],[0.9,\"#4d9221\"],[1,\"#276419\"]],\"sequential\":[[0.0,\"#0d0887\"],[0.1111111111111111,\"#46039f\"],[0.2222222222222222,\"#7201a8\"],[0.3333333333333333,\"#9c179e\"],[0.4444444444444444,\"#bd3786\"],[0.5555555555555556,\"#d8576b\"],[0.6666666666666666,\"#ed7953\"],[0.7777777777777778,\"#fb9f3a\"],[0.8888888888888888,\"#fdca26\"],[1.0,\"#f0f921\"]],\"sequentialminus\":[[0.0,\"#0d0887\"],[0.1111111111111111,\"#46039f\"],[0.2222222222222222,\"#7201a8\"],[0.3333333333333333,\"#9c179e\"],[0.4444444444444444,\"#bd3786\"],[0.5555555555555556,\"#d8576b\"],[0.6666666666666666,\"#ed7953\"],[0.7777777777777778,\"#fb9f3a\"],[0.8888888888888888,\"#fdca26\"],[1.0,\"#f0f921\"]]},\"colorway\":[\"#636efa\",\"#EF553B\",\"#00cc96\",\"#ab63fa\",\"#FFA15A\",\"#19d3f3\",\"#FF6692\",\"#B6E880\",\"#FF97FF\",\"#FECB52\"],\"font\":{\"color\":\"#f2f5fa\"},\"geo\":{\"bgcolor\":\"rgb(17,17,17)\",\"lakecolor\":\"rgb(17,17,17)\",\"landcolor\":\"rgb(17,17,17)\",\"showlakes\":true,\"showland\":true,\"subunitcolor\":\"#506784\"},\"hoverlabel\":{\"align\":\"left\"},\"hovermode\":\"closest\",\"mapbox\":{\"style\":\"dark\"},\"paper_bgcolor\":\"rgb(17,17,17)\",\"plot_bgcolor\":\"rgb(17,17,17)\",\"polar\":{\"angularaxis\":{\"gridcolor\":\"#506784\",\"linecolor\":\"#506784\",\"ticks\":\"\"},\"bgcolor\":\"rgb(17,17,17)\",\"radialaxis\":{\"gridcolor\":\"#506784\",\"linecolor\":\"#506784\",\"ticks\":\"\"}},\"scene\":{\"xaxis\":{\"backgroundcolor\":\"rgb(17,17,17)\",\"gridcolor\":\"#506784\",\"gridwidth\":2,\"linecolor\":\"#506784\",\"showbackground\":true,\"ticks\":\"\",\"zerolinecolor\":\"#C8D4E3\"},\"yaxis\":{\"backgroundcolor\":\"rgb(17,17,17)\",\"gridcolor\":\"#506784\",\"gridwidth\":2,\"linecolor\":\"#506784\",\"showbackground\":true,\"ticks\":\"\",\"zerolinecolor\":\"#C8D4E3\"},\"zaxis\":{\"backgroundcolor\":\"rgb(17,17,17)\",\"gridcolor\":\"#506784\",\"gridwidth\":2,\"linecolor\":\"#506784\",\"showbackground\":true,\"ticks\":\"\",\"zerolinecolor\":\"#C8D4E3\"}},\"shapedefaults\":{\"line\":{\"color\":\"#f2f5fa\"}},\"sliderdefaults\":{\"bgcolor\":\"#C8D4E3\",\"bordercolor\":\"rgb(17,17,17)\",\"borderwidth\":1,\"tickwidth\":0},\"ternary\":{\"aaxis\":{\"gridcolor\":\"#506784\",\"linecolor\":\"#506784\",\"ticks\":\"\"},\"baxis\":{\"gridcolor\":\"#506784\",\"linecolor\":\"#506784\",\"ticks\":\"\"},\"bgcolor\":\"rgb(17,17,17)\",\"caxis\":{\"gridcolor\":\"#506784\",\"linecolor\":\"#506784\",\"ticks\":\"\"}},\"title\":{\"x\":0.05},\"updatemenudefaults\":{\"bgcolor\":\"#506784\",\"borderwidth\":0},\"xaxis\":{\"automargin\":true,\"gridcolor\":\"#283442\",\"linecolor\":\"#506784\",\"ticks\":\"\",\"title\":{\"standoff\":15},\"zerolinecolor\":\"#283442\",\"zerolinewidth\":2},\"yaxis\":{\"automargin\":true,\"gridcolor\":\"#283442\",\"linecolor\":\"#506784\",\"ticks\":\"\",\"title\":{\"standoff\":15},\"zerolinecolor\":\"#283442\",\"zerolinewidth\":2}}},\"xaxis\":{\"anchor\":\"y\",\"domain\":[0.0,1.0],\"title\":{\"text\":\"rating_count\"}},\"yaxis\":{\"anchor\":\"x\",\"domain\":[0.0,1.0],\"title\":{\"text\":\"avg_rating\"}},\"coloraxis\":{\"colorbar\":{\"title\":{\"text\":\"avg_rating\"}},\"colorscale\":[[0.0,\"#440154\"],[0.1111111111111111,\"#482878\"],[0.2222222222222222,\"#3e4989\"],[0.3333333333333333,\"#31688e\"],[0.4444444444444444,\"#26828e\"],[0.5555555555555556,\"#1f9e89\"],[0.6666666666666666,\"#35b779\"],[0.7777777777777778,\"#6ece58\"],[0.8888888888888888,\"#b5de2b\"],[1.0,\"#fde725\"]]},\"legend\":{\"tracegroupgap\":0,\"itemsizing\":\"constant\"},\"title\":{\"text\":\"Movies with \\u226550 Ratings: Popularity vs. Rating\"},\"font\":{\"color\":\"white\"}},                        {\"responsive\": true}                    ).then(function(){\n",
       "                            \n",
       "var gd = document.getElementById('32cea471-135c-421e-a0ff-185c40a6bfca');\n",
       "var x = new MutationObserver(function (mutations, observer) {{\n",
       "        var display = window.getComputedStyle(gd).display;\n",
       "        if (!display || display === 'none') {{\n",
       "            console.log([gd, 'removed!']);\n",
       "            Plotly.purge(gd);\n",
       "            observer.disconnect();\n",
       "        }}\n",
       "}});\n",
       "\n",
       "// Listen for the removal of the full notebook cells\n",
       "var notebookContainer = gd.closest('#notebook-container');\n",
       "if (notebookContainer) {{\n",
       "    x.observe(notebookContainer, {childList: true});\n",
       "}}\n",
       "\n",
       "// Listen for the clearing of the current output cell\n",
       "var outputEl = gd.closest('.output');\n",
       "if (outputEl) {{\n",
       "    x.observe(outputEl, {childList: true});\n",
       "}}\n",
       "\n",
       "                        })                };            </script>        </div>"
      ]
     },
     "metadata": {},
     "output_type": "display_data"
    }
   ],
   "source": [
    "fig = px.scatter(\n",
    "    movies_50,\n",
    "    x=\"rating_count\",\n",
    "    y=\"avg_rating\",\n",
    "    hover_name=\"title\",\n",
    "    title=\"Movies with ≥50 Ratings: Popularity vs. Rating\",\n",
    "    color=\"avg_rating\",\n",
    "    size=\"rating_count\",\n",
    "    color_continuous_scale=\"Viridis\",\n",
    ")\n",
    "\n",
    "fig.update_layout(template=\"plotly_dark\", font=dict(color=\"white\"))\n",
    "fig.show(renderer=\"notebook_connected\")\n"
   ]
  },
  {
   "cell_type": "code",
   "execution_count": null,
   "id": "5ab4e6cf",
   "metadata": {},
   "outputs": [],
   "source": []
  }
 ],
 "metadata": {
  "kernelspec": {
   "display_name": "venv (3.12.3)",
   "language": "python",
   "name": "python3"
  },
  "language_info": {
   "codemirror_mode": {
    "name": "ipython",
    "version": 3
   },
   "file_extension": ".py",
   "mimetype": "text/x-python",
   "name": "python",
   "nbconvert_exporter": "python",
   "pygments_lexer": "ipython3",
   "version": "3.12.3"
  }
 },
 "nbformat": 4,
 "nbformat_minor": 5
}
